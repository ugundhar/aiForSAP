{
 "cells": [
  {
   "cell_type": "code",
   "execution_count": 1,
   "id": "0094b0fd",
   "metadata": {},
   "outputs": [
    {
     "name": "stdout",
     "output_type": "stream",
     "text": [
      "check\n"
     ]
    }
   ],
   "source": [
    "print(\"check\")"
   ]
  },
  {
   "cell_type": "code",
   "execution_count": 72,
   "id": "0729210f",
   "metadata": {},
   "outputs": [],
   "source": [
    "from typing import Annotated\n",
    "from typing_extensions import TypedDict\n",
    "from langgraph.graph import StateGraph,START,END\n",
    "from langgraph.graph.message import add_messages"
   ]
  },
  {
   "cell_type": "code",
   "execution_count": 73,
   "id": "ab36a354",
   "metadata": {},
   "outputs": [],
   "source": [
    "class State(TypedDict):\n",
    "    # Messages have the type \"list\". The `add_messages` function\n",
    "    # in the annotation defines how this state key should be updated\n",
    "    # (in this case, it appends messages to the list, rather than overwriting them)\n",
    "    messages:Annotated[list,add_messages]\n",
    "\n",
    "graph_builder=StateGraph(State)\n"
   ]
  },
  {
   "cell_type": "code",
   "execution_count": 74,
   "id": "9e88bf38",
   "metadata": {},
   "outputs": [
    {
     "data": {
      "text/plain": [
       "<langgraph.graph.state.StateGraph at 0x223efce3260>"
      ]
     },
     "execution_count": 74,
     "metadata": {},
     "output_type": "execute_result"
    }
   ],
   "source": [
    "graph_builder"
   ]
  },
  {
   "cell_type": "code",
   "execution_count": 75,
   "id": "26a0a4bd",
   "metadata": {},
   "outputs": [],
   "source": [
    "import sys\n",
    "import os\n",
    "\n",
    "\n",
    "import json\n",
    "import requests\n",
    "from dotenv import load_dotenv\n",
    "\n",
    "# Load .env file\n",
    "load_dotenv()\n",
    "\n",
    "# Environment variables\n",
    "HANA_HOST = os.getenv(\"HANA_HOST\")\n",
    "HANA_USER_DB = os.getenv(\"HANA_USER\")\n",
    "HANA_PASSWORD_VDB = os.getenv(\"HANA_PASSWORD\")\n",
    "\n",
    "AICORE_AUTH_URL = os.getenv(\"AICORE_AUTH_URL\")\n",
    "AICORE_CLIENT_ID = os.getenv(\"AICORE_CLIENT_ID\")\n",
    "AICORE_CLIENT_SECRET = os.getenv(\"AICORE_CLIENT_SECRET\")\n",
    "AICORE_BASE_URL = os.getenv(\"AICORE_BASE_URL\")\n",
    "\n",
    "# Step 1: Get Access Token from SAP BTP AI Core\n",
    "params = {\"grant_type\": \"client_credentials\"}\n",
    "resp = requests.post(\n",
    "    f\"{AICORE_AUTH_URL}/oauth/token\",\n",
    "    auth=(AICORE_CLIENT_ID, AICORE_CLIENT_SECRET),\n",
    "    params=params\n",
    ")\n",
    "access_token = resp.json()[\"access_token\"]\n",
    "\n",
    "# Update env for GenAI Hub usage\n",
    "os.environ.update({\n",
    "    \"AICORE_AUTH_URL\": AICORE_AUTH_URL,\n",
    "    \"AICORE_CLIENT_ID\": AICORE_CLIENT_ID,\n",
    "    \"AICORE_CLIENT_SECRET\": AICORE_CLIENT_SECRET,\n",
    "    \"AICORE_RESOURCE_GROUP\": os.getenv(\"AICORE_RESOURCE_GROUP\", \"default\"),\n",
    "    \"AICORE_BASE_URL\": AICORE_BASE_URL\n",
    "})\n",
    "\n",
    "from gen_ai_hub.proxy.native.openai import chat\n",
    "from gen_ai_hub.proxy.langchain.openai import OpenAIEmbeddings, ChatOpenAI\n",
    "from gen_ai_hub.proxy.core.proxy_clients import get_proxy_client\n",
    "\n",
    "proxy_client = get_proxy_client('gen-ai-hub')\n",
    "llm = ChatOpenAI(proxy_model_name='gpt-4o', proxy_client=proxy_client, temperature=0.0)"
   ]
  },
  {
   "cell_type": "code",
   "execution_count": 76,
   "id": "733489e5",
   "metadata": {},
   "outputs": [],
   "source": [
    "#Node functionality\n",
    "\n",
    "def chatbot(state:State):\n",
    "    return {\"messages\":[llm.invoke(state[\"messages\"])]}"
   ]
  },
  {
   "cell_type": "code",
   "execution_count": 77,
   "id": "11fcaa5d",
   "metadata": {},
   "outputs": [],
   "source": [
    "graph_builder=StateGraph(State)\n",
    "## adding nodes\n",
    "graph_builder.add_node(\"chatbot\",chatbot)\n",
    "##adding edges\n",
    "graph_builder.add_edge(START,\"chatbot\")\n",
    "graph_builder.add_edge(\"chatbot\",END)\n",
    "\n",
    "graph=graph_builder.compile()\n"
   ]
  },
  {
   "cell_type": "code",
   "execution_count": 78,
   "id": "c70e3036",
   "metadata": {},
   "outputs": [
    {
     "data": {
      "image/png": "[encoded data removed]",
      "text/plain": [
       "<IPython.core.display.Image object>"
      ]
     },
     "metadata": {},
     "output_type": "display_data"
    }
   ],
   "source": [
    "## Visualize the graph\n",
    "from IPython.display import Image,display\n",
    "\n",
    "try:\n",
    "    display(Image(graph.get_graph().draw_mermaid_png()))\n",
    "except Exception:\n",
    "    pass\n",
    "    "
   ]
  },
  {
   "cell_type": "code",
   "execution_count": 79,
   "id": "f34b6f18",
   "metadata": {},
   "outputs": [
    {
     "data": {
      "text/plain": [
       "{'messages': [HumanMessage(content='hello', additional_kwargs={}, response_metadata={}, id='2a00712f-3ee4-4554-8ef2-bdd015285a80'),\n",
       "  AIMessage(content='Hello! How can I assist you today?', additional_kwargs={'refusal': None}, response_metadata={'token_usage': {'completion_tokens': 10, 'prompt_tokens': 8, 'total_tokens': 18, 'completion_tokens_details': {'accepted_prediction_tokens': 0, 'audio_tokens': 0, 'reasoning_tokens': 0, 'rejected_prediction_tokens': 0}, 'prompt_tokens_details': {'audio_tokens': 0, 'cached_tokens': 0}}, 'model_name': 'gpt-4o-2024-05-13', 'system_fingerprint': 'fp_ee1d74bde0', 'id': 'chatcmpl-BtaKOeIQDYH9lyQRcE2IoQul62m3B', 'service_tier': None, 'finish_reason': 'stop', 'logprobs': None}, id='run--af6ebd1a-2b2d-4d99-bd4b-cf88f64b0b7a-0', usage_metadata={'input_tokens': 8, 'output_tokens': 10, 'total_tokens': 18, 'input_token_details': {'audio': 0, 'cache_read': 0}, 'output_token_details': {'audio': 0, 'reasoning': 0}})]}"
      ]
     },
     "execution_count": 79,
     "metadata": {},
     "output_type": "execute_result"
    }
   ],
   "source": [
    "graph.invoke({\"messages\":\"hello\"})"
   ]
  },
  {
   "cell_type": "code",
   "execution_count": 80,
   "id": "cadff1e1",
   "metadata": {},
   "outputs": [],
   "source": [
    "result=graph.invoke({\"messages\":\"hi\"})\n"
   ]
  },
  {
   "cell_type": "code",
   "execution_count": 81,
   "id": "1f196131",
   "metadata": {},
   "outputs": [
    {
     "data": {
      "text/plain": [
       "[HumanMessage(content='hi', additional_kwargs={}, response_metadata={}, id='16c09c63-017a-4426-96e3-0dc041b45ace'),\n",
       " AIMessage(content='Hello! How can I assist you today?', additional_kwargs={'refusal': None}, response_metadata={'token_usage': {'completion_tokens': 10, 'prompt_tokens': 8, 'total_tokens': 18, 'completion_tokens_details': {'accepted_prediction_tokens': 0, 'audio_tokens': 0, 'reasoning_tokens': 0, 'rejected_prediction_tokens': 0}, 'prompt_tokens_details': {'audio_tokens': 0, 'cached_tokens': 0}}, 'model_name': 'gpt-4o-2024-05-13', 'system_fingerprint': 'fp_ee1d74bde0', 'id': 'chatcmpl-BtaKQFPSbXoLx0iaR0XJbhEbnwE3M', 'service_tier': None, 'finish_reason': 'stop', 'logprobs': None}, id='run--cbcd0ce0-776d-4713-8856-aac7cd334241-0', usage_metadata={'input_tokens': 8, 'output_tokens': 10, 'total_tokens': 18, 'input_token_details': {'audio': 0, 'cache_read': 0}, 'output_token_details': {'audio': 0, 'reasoning': 0}})]"
      ]
     },
     "execution_count": 81,
     "metadata": {},
     "output_type": "execute_result"
    }
   ],
   "source": [
    "result[\"messages\"]"
   ]
  },
  {
   "cell_type": "code",
   "execution_count": 82,
   "id": "caa36ce5",
   "metadata": {},
   "outputs": [
    {
     "data": {
      "text/plain": [
       "AIMessage(content='Hello! How can I assist you today?', additional_kwargs={'refusal': None}, response_metadata={'token_usage': {'completion_tokens': 10, 'prompt_tokens': 8, 'total_tokens': 18, 'completion_tokens_details': {'accepted_prediction_tokens': 0, 'audio_tokens': 0, 'reasoning_tokens': 0, 'rejected_prediction_tokens': 0}, 'prompt_tokens_details': {'audio_tokens': 0, 'cached_tokens': 0}}, 'model_name': 'gpt-4o-2024-05-13', 'system_fingerprint': 'fp_ee1d74bde0', 'id': 'chatcmpl-BtaKQFPSbXoLx0iaR0XJbhEbnwE3M', 'service_tier': None, 'finish_reason': 'stop', 'logprobs': None}, id='run--cbcd0ce0-776d-4713-8856-aac7cd334241-0', usage_metadata={'input_tokens': 8, 'output_tokens': 10, 'total_tokens': 18, 'input_token_details': {'audio': 0, 'cache_read': 0}, 'output_token_details': {'audio': 0, 'reasoning': 0}})"
      ]
     },
     "execution_count": 82,
     "metadata": {},
     "output_type": "execute_result"
    }
   ],
   "source": [
    "result[\"messages\"][-1]"
   ]
  },
  {
   "cell_type": "code",
   "execution_count": 83,
   "id": "4ea9abcc",
   "metadata": {},
   "outputs": [
    {
     "data": {
      "text/plain": [
       "'Hello! How can I assist you today?'"
      ]
     },
     "execution_count": 83,
     "metadata": {},
     "output_type": "execute_result"
    }
   ],
   "source": [
    "result[\"messages\"][-1].content"
   ]
  },
  {
   "cell_type": "code",
   "execution_count": 84,
   "id": "caafd300",
   "metadata": {},
   "outputs": [
    {
     "name": "stdout",
     "output_type": "stream",
     "text": [
      "{'chatbot': {'messages': [AIMessage(content='The capital city of the United States is Washington, D.C.', additional_kwargs={'refusal': None}, response_metadata={'token_usage': {'completion_tokens': 14, 'prompt_tokens': 14, 'total_tokens': 28, 'completion_tokens_details': {'accepted_prediction_tokens': 0, 'audio_tokens': 0, 'reasoning_tokens': 0, 'rejected_prediction_tokens': 0}, 'prompt_tokens_details': {'audio_tokens': 0, 'cached_tokens': 0}}, 'model_name': 'gpt-4o-2024-05-13', 'system_fingerprint': 'fp_ee1d74bde0', 'id': 'chatcmpl-BtaKU5jGxPHHwImeNEtbB7BxPaaz9', 'service_tier': None, 'finish_reason': 'stop', 'logprobs': None}, id='run--55c97b0a-6ac2-4183-9b84-ede6d2c4b3b5-0', usage_metadata={'input_tokens': 14, 'output_tokens': 14, 'total_tokens': 28, 'input_token_details': {'audio': 0, 'cache_read': 0}, 'output_token_details': {'audio': 0, 'reasoning': 0}})]}}\n"
     ]
    }
   ],
   "source": [
    "for event in graph.stream({\"messages\":\"what is the capital city of usa\"}):\n",
    "    print(event)"
   ]
  },
  {
   "cell_type": "code",
   "execution_count": 85,
   "id": "48355c11",
   "metadata": {},
   "outputs": [
    {
     "name": "stdout",
     "output_type": "stream",
     "text": [
      "{'messages': [AIMessage(content='The capital city of the United States is Washington, D.C.', additional_kwargs={'refusal': None}, response_metadata={'token_usage': {'completion_tokens': 14, 'prompt_tokens': 14, 'total_tokens': 28, 'completion_tokens_details': {'accepted_prediction_tokens': 0, 'audio_tokens': 0, 'reasoning_tokens': 0, 'rejected_prediction_tokens': 0}, 'prompt_tokens_details': {'audio_tokens': 0, 'cached_tokens': 0}}, 'model_name': 'gpt-4o-2024-05-13', 'system_fingerprint': 'fp_ee1d74bde0', 'id': 'chatcmpl-BtaKVsSCeEKEOlHNaVDxHkgP4FxFR', 'service_tier': None, 'finish_reason': 'stop', 'logprobs': None}, id='run--561f0ccd-5898-4089-851d-ad3a982c8deb-0', usage_metadata={'input_tokens': 14, 'output_tokens': 14, 'total_tokens': 28, 'input_token_details': {'audio': 0, 'cache_read': 0}, 'output_token_details': {'audio': 0, 'reasoning': 0}})]}\n"
     ]
    }
   ],
   "source": [
    "for event in graph.stream({\"messages\":\"what is the capital city of usa\"}):\n",
    "    for value in event.values():\n",
    "        print(value)"
   ]
  },
  {
   "cell_type": "markdown",
   "id": "41ee38ea",
   "metadata": {},
   "source": [
    "##ChatBot with tool\n"
   ]
  },
  {
   "cell_type": "code",
   "execution_count": 86,
   "id": "6df248f0",
   "metadata": {},
   "outputs": [
    {
     "data": {
      "text/plain": [
       "{'query': 'What is langgraph',\n",
       " 'follow_up_questions': None,\n",
       " 'answer': None,\n",
       " 'images': [],\n",
       " 'results': [{'url': 'https://www.datacamp.com/tutorial/langgraph-tutorial',\n",
       "   'title': 'LangGraph Tutorial: What Is LangGraph and How to Use It?',\n",
       "   'content': 'LangGraph is a library within the LangChain ecosystem that provides a framework for defining, coordinating, and executing multiple LLM agents (or chains) in a structured and efficient manner. By managing the flow of data and the sequence of operations, LangGraph allows developers to focus on the high-level logic of their applications rather than the intricacies of agent coordination. Whether you need a chatbot that can handle various types of user requests or a multi-agent system that performs complex tasks, LangGraph provides the tools to build exactly what you need. LangGraph significantly simplifies the development of complex LLM applications by providing a structured framework for managing state and coordinating agent interactions.',\n",
       "   'score': 0.9502313,\n",
       "   'raw_content': None},\n",
       "  {'url': 'https://www.ibm.com/think/topics/langgraph',\n",
       "   'title': 'What is LangGraph? - IBM',\n",
       "   'content': 'LangGraph, created by LangChain, is an open source AI agent framework designed to build, deploy and manage complex generative AI agent workflows. At its core, LangGraph uses the power of graph-based architectures to model and manage the intricate relationships between various components of an AI agent workflow. LangGraph illuminates the processes within an AI workflow, allowing full transparency of the agent’s state. By combining these technologies with a set of APIs and tools, LangGraph provides users with a versatile platform for developing AI solutions and workflows including chatbots, state graphs and other agent-based systems. Nodes: In LangGraph, nodes represent individual components or agents within an AI workflow. LangGraph uses enhanced decision-making by modeling complex relationships between nodes, which means it uses AI agents to analyze their past actions and feedback.',\n",
       "   'score': 0.94401723,\n",
       "   'raw_content': None}],\n",
       " 'response_time': 1.18}"
      ]
     },
     "execution_count": 86,
     "metadata": {},
     "output_type": "execute_result"
    }
   ],
   "source": [
    "from langchain_tavily import TavilySearch\n",
    "\n",
    "tool=TavilySearch(max_results=2)\n",
    "tool.invoke(\"What is langgraph\")"
   ]
  },
  {
   "cell_type": "code",
   "execution_count": 87,
   "id": "0e84677c",
   "metadata": {},
   "outputs": [],
   "source": [
    "## Custom function\n",
    "def multiply(a:int,b:int)->int:\n",
    "    \"\"\"Multiply a and b\n",
    "\n",
    "    Args:\n",
    "        a (int): first int\n",
    "        b (int): second int\n",
    "\n",
    "    Returns:\n",
    "        int: output int\n",
    "    \"\"\"\n",
    "    return a*b"
   ]
  },
  {
   "cell_type": "code",
   "execution_count": 88,
   "id": "1712b7d5",
   "metadata": {},
   "outputs": [],
   "source": [
    "tools=[tool,multiply]"
   ]
  },
  {
   "cell_type": "markdown",
   "id": "ffc5e2ed",
   "metadata": {},
   "source": [
    "bind tools with the llm"
   ]
  },
  {
   "cell_type": "code",
   "execution_count": 89,
   "id": "29b5c7b5",
   "metadata": {},
   "outputs": [],
   "source": [
    "llm_with_tool=llm.bind_tools(tools)"
   ]
  },
  {
   "cell_type": "code",
   "execution_count": 90,
   "id": "0045032c",
   "metadata": {},
   "outputs": [
    {
     "data": {
      "text/plain": [
       "RunnableBinding(bound=ChatOpenAI(client=<gen_ai_hub.proxy.native.openai.clients.ChatCompletions object at 0x00000223EFCDACF0>, async_client=<gen_ai_hub.proxy.native.openai.clients.AsyncChatCompletions object at 0x00000223EFCDB200>, model_name='gpt-4o', temperature=0.0, model_kwargs={}, openai_api_key=SecretStr('**********'), n=1, proxy_client=GenAIHubProxyClient(base_url=None, auth_url=None, client_id=None, client_secret=None, resource_group=None, ai_core_client=<ai_core_sdk.ai_core_v2_client.AICoreV2Client object at 0x00000223D21A3B60>), deployment_id='d1172f0117e4d6ad', config_name='gpt-4o_autogenerated', config_id='661df6a7-0feb-4f26-8aee-64bab48dc25c', proxy_model_name='gpt-4o'), kwargs={'tools': [{'type': 'function', 'function': {'name': 'tavily_search', 'description': 'A search engine optimized for comprehensive, accurate, and trusted results. Useful for when you need to answer questions about current events. It not only retrieves URLs and snippets, but offers advanced search depths, domain management, time range filters, and image search, this tool delivers real-time, accurate, and citation-backed results.Input should be a search query.', 'parameters': {'properties': {'query': {'description': 'Search query to look up', 'type': 'string'}, 'include_domains': {'anyOf': [{'items': {'type': 'string'}, 'type': 'array'}, {'type': 'null'}], 'default': [], 'description': 'A list of domains to restrict search results to.\\n\\n        Use this parameter when:\\n        1. The user explicitly requests information from specific websites (e.g., \"Find climate data from nasa.gov\")\\n        2. The user mentions an organization or company without specifying the domain (e.g., \"Find information about iPhones from Apple\")\\n\\n        In both cases, you should determine the appropriate domains (e.g., [\"nasa.gov\"] or [\"apple.com\"]) and set this parameter.\\n\\n        Results will ONLY come from the specified domains - no other sources will be included.\\n        Default is None (no domain restriction).\\n        '}, 'exclude_domains': {'anyOf': [{'items': {'type': 'string'}, 'type': 'array'}, {'type': 'null'}], 'default': [], 'description': 'A list of domains to exclude from search results.\\n\\n        Use this parameter when:\\n        1. The user explicitly requests to avoid certain websites (e.g., \"Find information about climate change but not from twitter.com\")\\n        2. The user mentions not wanting results from specific organizations without naming the domain (e.g., \"Find phone reviews but nothing from Apple\")\\n\\n        In both cases, you should determine the appropriate domains to exclude (e.g., [\"twitter.com\"] or [\"apple.com\"]) and set this parameter.\\n\\n        Results will filter out all content from the specified domains.\\n        Default is None (no domain exclusion).\\n        '}, 'search_depth': {'anyOf': [{'enum': ['basic', 'advanced'], 'type': 'string'}, {'type': 'null'}], 'default': 'basic', 'description': 'Controls search thoroughness and result comprehensiveness.\\n    \\n        Use \"basic\" for simple queries requiring quick, straightforward answers.\\n        \\n        Use \"advanced\" (default) for complex queries, specialized topics, \\n        rare information, or when in-depth analysis is needed.\\n        '}, 'include_images': {'anyOf': [{'type': 'boolean'}, {'type': 'null'}], 'default': False, 'description': 'Determines if the search returns relevant images along with text results.\\n   \\n        Set to True when the user explicitly requests visuals or when images would \\n        significantly enhance understanding (e.g., \"Show me what black holes look like,\" \\n        \"Find pictures of Renaissance art\").\\n        \\n        Leave as False (default) for most informational queries where text is sufficient.\\n        '}, 'time_range': {'anyOf': [{'enum': ['day', 'week', 'month', 'year'], 'type': 'string'}, {'type': 'null'}], 'default': None, 'description': 'Limits results to content published within a specific timeframe.\\n        \\n        ONLY set this when the user explicitly mentions a time period \\n        (e.g., \"latest AI news,\" \"articles from last week\").\\n        \\n        For less popular or niche topics, use broader time ranges \\n        (\"month\" or \"year\") to ensure sufficient relevant results.\\n   \\n        Options: \"day\" (24h), \"week\" (7d), \"month\" (30d), \"year\" (365d).\\n        \\n        Default is None.\\n        '}, 'topic': {'anyOf': [{'enum': ['general', 'news', 'finance'], 'type': 'string'}, {'type': 'null'}], 'default': 'general', 'description': 'Specifies search category for optimized results.\\n   \\n        Use \"general\" (default) for most queries, INCLUDING those with terms like \\n        \"latest,\" \"newest,\" or \"recent\" when referring to general information.\\n\\n        Use \"finance\" for markets, investments, economic data, or financial news.\\n\\n        Use \"news\" ONLY for politics, sports, or major current events covered by \\n        mainstream media - NOT simply because a query asks for \"new\" information.\\n        '}, 'include_favicon': {'anyOf': [{'type': 'boolean'}, {'type': 'null'}], 'default': False, 'description': 'Whether to include the favicon URL for each result.'}}, 'required': ['query'], 'type': 'object'}}}, {'type': 'function', 'function': {'name': 'multiply', 'description': 'Multiply a and b', 'parameters': {'properties': {'a': {'description': 'first int', 'type': 'integer'}, 'b': {'description': 'second int', 'type': 'integer'}}, 'required': ['a', 'b'], 'type': 'object'}}}]}, config={}, config_factories=[])"
      ]
     },
     "execution_count": 90,
     "metadata": {},
     "output_type": "execute_result"
    }
   ],
   "source": [
    "llm_with_tool"
   ]
  },
  {
   "cell_type": "code",
   "execution_count": null,
   "id": "f521d640",
   "metadata": {},
   "outputs": [
    {
     "data": {
      "image/png": "[encoded data removed]",
      "text/plain": [
       "<IPython.core.display.Image object>"
      ]
     },
     "metadata": {},
     "output_type": "display_data"
    }
   ],
   "source": [
    "## Stategraph\n",
    "from langgraph.graph import StateGraph,START,END\n",
    "from langgraph.prebuilt import ToolNode\n",
    "from langgraph.prebuilt import tools_condition\n",
    "\n",
    "## Node definition\n",
    "def tool_calling_llm(state:State):\n",
    "    return {\"messages\":[llm_with_tool.invoke(state[\"messages\"])]}\n",
    "\n",
    "## Grpah\n",
    "builder=StateGraph(State)\n",
    "builder.add_node(\"tool_calling_llm\",tool_calling_llm)\n",
    "builder.add_node(\"tools\",ToolNode(tools))\n",
    "\n",
    "## Add Edges\n",
    "builder.add_edge(START, \"tool_calling_llm\")\n",
    "builder.add_conditional_edges(\n",
    "    \"tool_calling_llm\",\n",
    "    # If the latest message (result) from assistant is a tool call -> tools_condition routes to tools\n",
    "    # If the latest message (result) from assistant is a not a tool call -> tools_condition routes to END\n",
    "    tools_condition\n",
    ")\n",
    "builder.add_edge(\"tools\",END)\n",
    "\n",
    "## compile the graph\n",
    "graph=builder.compile()\n",
    "\n",
    "from IPython.display import Image, display\n",
    "display(Image(graph.get_graph().draw_mermaid_png()))\n"
   ]
  },
  {
   "cell_type": "code",
   "execution_count": 100,
   "id": "d63f1b6c",
   "metadata": {},
   "outputs": [],
   "source": [
    "result=graph.invoke({\"messages\":\"What is the recent ai news and then multiply 90 by 80 and then what is the gdp of india\"})\n"
   ]
  },
  {
   "cell_type": "code",
   "execution_count": 102,
   "id": "e5ae0c5c",
   "metadata": {},
   "outputs": [
    {
     "data": {
      "text/plain": [
       "{'messages': [HumanMessage(content='What is the recent ai news and then multiply 90 by 80 and then what is the gdp of india', additional_kwargs={}, response_metadata={}, id='37e11836-af12-4493-b757-d515b3c206bf'),\n",
       "  AIMessage(content='', additional_kwargs={'tool_calls': [{'id': 'call_aPRabY9diyvudmjwXksY67Sn', 'function': {'arguments': '{\"query\": \"recent AI news\", \"topic\": \"news\"}', 'name': 'tavily_search'}, 'type': 'function'}, {'id': 'call_AYVnlp9KJBdZiDVhVccwypXf', 'function': {'arguments': '{\"a\": 90, \"b\": 80}', 'name': 'multiply'}, 'type': 'function'}, {'id': 'call_1V0oftFq4KSBwqp9XuDlKd3x', 'function': {'arguments': '{\"query\": \"current GDP of India\", \"topic\": \"finance\"}', 'name': 'tavily_search'}, 'type': 'function'}], 'refusal': None}, response_metadata={'token_usage': {'completion_tokens': 79, 'prompt_tokens': 842, 'total_tokens': 921, 'completion_tokens_details': {'accepted_prediction_tokens': 0, 'audio_tokens': 0, 'reasoning_tokens': 0, 'rejected_prediction_tokens': 0}, 'prompt_tokens_details': {'audio_tokens': 0, 'cached_tokens': 0}}, 'model_name': 'gpt-4o-2024-05-13', 'system_fingerprint': 'fp_ee1d74bde0', 'id': 'chatcmpl-BtaQBvp2TSCU994pSQTsghPWDsW9d', 'service_tier': None, 'finish_reason': 'tool_calls', 'logprobs': None}, id='run--9230f3ec-c436-4a56-9fc7-0635c97390e5-0', tool_calls=[{'name': 'tavily_search', 'args': {'query': 'recent AI news', 'topic': 'news'}, 'id': 'call_aPRabY9diyvudmjwXksY67Sn', 'type': 'tool_call'}, {'name': 'multiply', 'args': {'a': 90, 'b': 80}, 'id': 'call_AYVnlp9KJBdZiDVhVccwypXf', 'type': 'tool_call'}, {'name': 'tavily_search', 'args': {'query': 'current GDP of India', 'topic': 'finance'}, 'id': 'call_1V0oftFq4KSBwqp9XuDlKd3x', 'type': 'tool_call'}], usage_metadata={'input_tokens': 842, 'output_tokens': 79, 'total_tokens': 921, 'input_token_details': {'audio': 0, 'cache_read': 0}, 'output_token_details': {'audio': 0, 'reasoning': 0}}),\n",
       "  ToolMessage(content='{\"query\": \"recent AI news\", \"follow_up_questions\": null, \"answer\": null, \"images\": [], \"results\": [{\"url\": \"https://opentools.ai/news/elon-musk-the-salute-sparking-a-storm-and-groks-controversial-comments\", \"title\": \"Elon Musk: The Salute Sparking a Storm and Grok’s Controversial Comments - OpenTools\", \"score\": 0.6490677, \"published_date\": \"Sat, 12 Jul 2025 01:19:50 GMT\", \"content\": \"Elon Musk: The Salute Sparking a Storm and Grok’s Controversial Comments | AI News Parallel to Musk\\'s controversial gestures, his AI chatbot Grok stirred the pot by generating pro-Nazi statements. The gesture, combined with related controversies, including recent events involving Musk\\'s AI, Grok, adds layers to the ongoing narrative about the ethical responsibilities of influential tech leaders. Elon Musk\\'s association with controversial AI practices might impact the public perception of his ventures, potentially affecting investor confidence and market reception of his companies like SpaceX and Tesla. In reflecting on Elon Musk\\'s controversial gesture and Grok\\'s troubling pro-Nazi remarks, it is essential to consider the broader implications on technology and society.\", \"raw_content\": null}, {\"url\": \"https://opentools.ai/news/openai-hits-pause-on-open-source-model-safety-first\", \"title\": \"OpenAI Hits Pause on Open-Source Model: Safety First! - OpenTools\", \"score\": 0.62523276, \"published_date\": \"Sat, 12 Jul 2025 11:34:36 GMT\", \"content\": \"OpenAI’s delay, while initially appearing as a setback, is strategically designed to set a benchmark in AI safety, potentially influencing the entire open-source AI model market. The recent delay in the release of OpenAI\\'s open-source model illustrates Altman\\'s strong emphasis on safety and responsibility in AI deployment. OpenAI\\'s decision to delay the release of its open-source model reflects the challenging yet vital task of balancing safety with innovation in the AI sector. OpenAI\\'s recent decision to indefinitely delay the release of its much-anticipated open-source model has sent ripples through the AI industry, highlighting underlying safety concerns that outweigh the competitive pressures of the market.\", \"raw_content\": null}], \"response_time\": 0.5}', name='tavily_search', id='fa419f9d-dab4-4bc2-b5a3-36f9cc667b38', tool_call_id='call_aPRabY9diyvudmjwXksY67Sn'),\n",
       "  ToolMessage(content='7200', name='multiply', id='0f6b1ab5-b5e9-471b-b4e5-9596b6810c97', tool_call_id='call_AYVnlp9KJBdZiDVhVccwypXf'),\n",
       "  ToolMessage(content='{\"query\": \"current GDP of India\", \"follow_up_questions\": null, \"answer\": null, \"images\": [], \"results\": [{\"url\": \"https://www.forbes.com/sites/sarwantsingh/2025/07/14/indias-economic-juggernaut-on-way-to-becoming-the-3rd-largest-economy/\", \"title\": \"India\\'s Economic Juggernaut On Way To Becoming The ...\", \"content\": \"India is projected to add $1 trillion to its GDP every 12–18 months to 2047. With this momentum, India is targeting a $30 trillion economy\", \"score\": 0.6420965, \"raw_content\": null}, {\"url\": \"https://links.message.bloomberg.com/s/c/vF-69uQcPtlK3fsqwvGotSrbTZYIFAgKbpgMMbQZ5PiKkcmMz5L-la4WKzx3g2kCi02ixs8ofNl7FzqWoVVMvObmm56qgD0RAAO37CJz5X9d0Ys8dCeema5YFk158WeLHLOJa4NP_FlOAz5XUaZgkhIxEeApIovRtD-L_wTA38Uqsk3A3rbSuE78LFRY0QbNQFZZdIXRP5R8QdLmel6SBaPbl03xFLHz6BP-34YW_MqXQlVEdyqjWyNrOqIe-VhyOgt4t2N0zZeL3HV4cftM8k1ntNMiObfpM0aa-IIKl_EOeeYsL5aAUjWngDvb3pumyxUNqXOJu4TeEQ2dBw-xUcYr5z-bn1U2TaRpGB302-9f4ikfiHINPoPGdYvhsjbtlJ5_a3nfb4Siv_lRby27efFvXfYN7wVnsq2apWnrNIRkjiuQJnvU02scNcRem6peuNo/TDo6o79xCg3ioRPRc3H8dcW21l_S2Yho/5\", \"title\": \"GDP by Country\", \"content\": \"GDP by Country ; 5, India, $3,567,550,000,000 ; 6, United Kingdom, $3,380,850,000,000 ; 7, France, $3,051,830,000,000 ; 8, Italy, $2,300,940,000,000\", \"score\": 0.61668247, \"raw_content\": null}], \"response_time\": 1.1}', name='tavily_search', id='1ac860bb-5622-4a32-8c63-6cb90e241f26', tool_call_id='call_1V0oftFq4KSBwqp9XuDlKd3x'),\n",
       "  AIMessage(content=\"### Recent AI News\\n1. **Elon Musk: The Salute Sparking a Storm and Grok’s Controversial Comments**\\n   - **Source:** [OpenTools](https://opentools.ai/news/elon-musk-the-salute-sparking-a-storm-and-groks-controversial-comments)\\n   - **Summary:** Elon Musk's AI chatbot Grok generated pro-Nazi statements, sparking controversy. This incident raises ethical concerns about influential tech leaders and their responsibilities.\\n\\n2. **OpenAI Hits Pause on Open-Source Model: Safety First!**\\n   - **Source:** [OpenTools](https://opentools.ai/news/openai-hits-pause-on-open-source-model-safety-first)\\n   - **Summary:** OpenAI has delayed the release of its open-source model to prioritize safety. This decision highlights the importance of balancing innovation with safety in the AI sector.\\n\\n### Multiplication Result\\n- **90 multiplied by 80 equals 7200**\\n\\n### Current GDP of India\\n1. **India's Economic Juggernaut On Way To Becoming The 3rd Largest Economy**\\n   - **Source:** [Forbes](https://www.forbes.com/sites/sarwantsingh/2025/07/14/indias-economic-juggernaut-on-way-to-becoming-the-3rd-largest-economy/)\\n   - **Summary:** India is projected to add $1 trillion to its GDP every 12–18 months, targeting a $30 trillion economy by 2047.\\n\\n2. **GDP by Country**\\n   - **Source:** [Bloomberg](https://links.message.bloomberg.com/s/c/vF-69uQcPtlK3fsqwvGotSrbTZYIFAgKbpgMMbQZ5PiKkcmMz5L-la4WKzx3g2kCi02ixs8ofNl7FzqWoVVMvObmm56qgD0RAAO37CJz5X9d0Ys8dCeema5YFk158WeLHLOJa4NP_FlOAz5XUaZgkhIxEeApIovRtD-L_wTA38Uqsk3A3rbSuE78LFRY0QbNQFZZdIXRP5R8QdLmel6SBaPbl03xFLHz6BP-34YW_MqXQlVEdyqjWyNrOqIe-VhyOgt4t2N0zZeL3HV4cftM8k1ntNMiObfpM0aa-IIKl_EOeeYsL5aAUjWngDvb3pumyxUNqXOJu4TeEQ2dBw-xUcYr5z-bn1U2TaRpGB302-9f4ikfiHINPoPGdYvhsjbtlJ5_a3nfb4Siv_lRby27efFvXfYN7wVnsq2apWnrNIRkjiuQJnvU02scNcRem6peuNo/TDo6o79xCg3ioRPRc3H8dcW21l_S2Yho/5)\\n   - **Summary:** India's current GDP is approximately $3.57 trillion.\", additional_kwargs={'refusal': None}, response_metadata={'token_usage': {'completion_tokens': 684, 'prompt_tokens': 2034, 'total_tokens': 2718, 'completion_tokens_details': {'accepted_prediction_tokens': 0, 'audio_tokens': 0, 'reasoning_tokens': 0, 'rejected_prediction_tokens': 0}, 'prompt_tokens_details': {'audio_tokens': 0, 'cached_tokens': 0}}, 'model_name': 'gpt-4o-2024-05-13', 'system_fingerprint': 'fp_ee1d74bde0', 'id': 'chatcmpl-BtaQEQ1exhXtHH94E5F8dE4oI1oda', 'service_tier': None, 'finish_reason': 'stop', 'logprobs': None}, id='run--407f29ee-1eae-456b-9ed6-a29aba50bca9-0', usage_metadata={'input_tokens': 2034, 'output_tokens': 684, 'total_tokens': 2718, 'input_token_details': {'audio': 0, 'cache_read': 0}, 'output_token_details': {'audio': 0, 'reasoning': 0}})]}"
      ]
     },
     "execution_count": 102,
     "metadata": {},
     "output_type": "execute_result"
    }
   ],
   "source": [
    "result"
   ]
  },
  {
   "cell_type": "code",
   "execution_count": 103,
   "id": "8595c64a",
   "metadata": {},
   "outputs": [
    {
     "data": {
      "text/plain": [
       "\"### Recent AI News\\n1. **Elon Musk: The Salute Sparking a Storm and Grok’s Controversial Comments**\\n   - **Source:** [OpenTools](https://opentools.ai/news/elon-musk-the-salute-sparking-a-storm-and-groks-controversial-comments)\\n   - **Summary:** Elon Musk's AI chatbot Grok generated pro-Nazi statements, sparking controversy. This incident raises ethical concerns about influential tech leaders and their responsibilities.\\n\\n2. **OpenAI Hits Pause on Open-Source Model: Safety First!**\\n   - **Source:** [OpenTools](https://opentools.ai/news/openai-hits-pause-on-open-source-model-safety-first)\\n   - **Summary:** OpenAI has delayed the release of its open-source model to prioritize safety. This decision highlights the importance of balancing innovation with safety in the AI sector.\\n\\n### Multiplication Result\\n- **90 multiplied by 80 equals 7200**\\n\\n### Current GDP of India\\n1. **India's Economic Juggernaut On Way To Becoming The 3rd Largest Economy**\\n   - **Source:** [Forbes](https://www.forbes.com/sites/sarwantsingh/2025/07/14/indias-economic-juggernaut-on-way-to-becoming-the-3rd-largest-economy/)\\n   - **Summary:** India is projected to add $1 trillion to its GDP every 12–18 months, targeting a $30 trillion economy by 2047.\\n\\n2. **GDP by Country**\\n   - **Source:** [Bloomberg](https://links.message.bloomberg.com/s/c/vF-69uQcPtlK3fsqwvGotSrbTZYIFAgKbpgMMbQZ5PiKkcmMz5L-la4WKzx3g2kCi02ixs8ofNl7FzqWoVVMvObmm56qgD0RAAO37CJz5X9d0Ys8dCeema5YFk158WeLHLOJa4NP_FlOAz5XUaZgkhIxEeApIovRtD-L_wTA38Uqsk3A3rbSuE78LFRY0QbNQFZZdIXRP5R8QdLmel6SBaPbl03xFLHz6BP-34YW_MqXQlVEdyqjWyNrOqIe-VhyOgt4t2N0zZeL3HV4cftM8k1ntNMiObfpM0aa-IIKl_EOeeYsL5aAUjWngDvb3pumyxUNqXOJu4TeEQ2dBw-xUcYr5z-bn1U2TaRpGB302-9f4ikfiHINPoPGdYvhsjbtlJ5_a3nfb4Siv_lRby27efFvXfYN7wVnsq2apWnrNIRkjiuQJnvU02scNcRem6peuNo/TDo6o79xCg3ioRPRc3H8dcW21l_S2Yho/5)\\n   - **Summary:** India's current GDP is approximately $3.57 trillion.\""
      ]
     },
     "execution_count": 103,
     "metadata": {},
     "output_type": "execute_result"
    }
   ],
   "source": [
    "result[\"messages\"][-1].content"
   ]
  },
  {
   "cell_type": "code",
   "execution_count": 104,
   "id": "8403fbe3",
   "metadata": {},
   "outputs": [
    {
     "name": "stdout",
     "output_type": "stream",
     "text": [
      "================================\u001b[1m Human Message \u001b[0m=================================\n",
      "\n",
      "What is the recent ai news and then multiply 90 by 80 and then what is the gdp of india\n",
      "==================================\u001b[1m Ai Message \u001b[0m==================================\n",
      "Tool Calls:\n",
      "  tavily_search (call_aPRabY9diyvudmjwXksY67Sn)\n",
      " Call ID: call_aPRabY9diyvudmjwXksY67Sn\n",
      "  Args:\n",
      "    query: recent AI news\n",
      "    topic: news\n",
      "  multiply (call_AYVnlp9KJBdZiDVhVccwypXf)\n",
      " Call ID: call_AYVnlp9KJBdZiDVhVccwypXf\n",
      "  Args:\n",
      "    a: 90\n",
      "    b: 80\n",
      "  tavily_search (call_1V0oftFq4KSBwqp9XuDlKd3x)\n",
      " Call ID: call_1V0oftFq4KSBwqp9XuDlKd3x\n",
      "  Args:\n",
      "    query: current GDP of India\n",
      "    topic: finance\n",
      "=================================\u001b[1m Tool Message \u001b[0m=================================\n",
      "Name: tavily_search\n",
      "\n",
      "{\"query\": \"recent AI news\", \"follow_up_questions\": null, \"answer\": null, \"images\": [], \"results\": [{\"url\": \"https://opentools.ai/news/elon-musk-the-salute-sparking-a-storm-and-groks-controversial-comments\", \"title\": \"Elon Musk: The Salute Sparking a Storm and Grok’s Controversial Comments - OpenTools\", \"score\": 0.6490677, \"published_date\": \"Sat, 12 Jul 2025 01:19:50 GMT\", \"content\": \"Elon Musk: The Salute Sparking a Storm and Grok’s Controversial Comments | AI News Parallel to Musk's controversial gestures, his AI chatbot Grok stirred the pot by generating pro-Nazi statements. The gesture, combined with related controversies, including recent events involving Musk's AI, Grok, adds layers to the ongoing narrative about the ethical responsibilities of influential tech leaders. Elon Musk's association with controversial AI practices might impact the public perception of his ventures, potentially affecting investor confidence and market reception of his companies like SpaceX and Tesla. In reflecting on Elon Musk's controversial gesture and Grok's troubling pro-Nazi remarks, it is essential to consider the broader implications on technology and society.\", \"raw_content\": null}, {\"url\": \"https://opentools.ai/news/openai-hits-pause-on-open-source-model-safety-first\", \"title\": \"OpenAI Hits Pause on Open-Source Model: Safety First! - OpenTools\", \"score\": 0.62523276, \"published_date\": \"Sat, 12 Jul 2025 11:34:36 GMT\", \"content\": \"OpenAI’s delay, while initially appearing as a setback, is strategically designed to set a benchmark in AI safety, potentially influencing the entire open-source AI model market. The recent delay in the release of OpenAI's open-source model illustrates Altman's strong emphasis on safety and responsibility in AI deployment. OpenAI's decision to delay the release of its open-source model reflects the challenging yet vital task of balancing safety with innovation in the AI sector. OpenAI's recent decision to indefinitely delay the release of its much-anticipated open-source model has sent ripples through the AI industry, highlighting underlying safety concerns that outweigh the competitive pressures of the market.\", \"raw_content\": null}], \"response_time\": 0.5}\n",
      "=================================\u001b[1m Tool Message \u001b[0m=================================\n",
      "Name: multiply\n",
      "\n",
      "7200\n",
      "=================================\u001b[1m Tool Message \u001b[0m=================================\n",
      "Name: tavily_search\n",
      "\n",
      "{\"query\": \"current GDP of India\", \"follow_up_questions\": null, \"answer\": null, \"images\": [], \"results\": [{\"url\": \"https://www.forbes.com/sites/sarwantsingh/2025/07/14/indias-economic-juggernaut-on-way-to-becoming-the-3rd-largest-economy/\", \"title\": \"India's Economic Juggernaut On Way To Becoming The ...\", \"content\": \"India is projected to add $1 trillion to its GDP every 12–18 months to 2047. With this momentum, India is targeting a $30 trillion economy\", \"score\": 0.6420965, \"raw_content\": null}, {\"url\": \"https://links.message.bloomberg.com/s/c/vF-69uQcPtlK3fsqwvGotSrbTZYIFAgKbpgMMbQZ5PiKkcmMz5L-la4WKzx3g2kCi02ixs8ofNl7FzqWoVVMvObmm56qgD0RAAO37CJz5X9d0Ys8dCeema5YFk158WeLHLOJa4NP_FlOAz5XUaZgkhIxEeApIovRtD-L_wTA38Uqsk3A3rbSuE78LFRY0QbNQFZZdIXRP5R8QdLmel6SBaPbl03xFLHz6BP-34YW_MqXQlVEdyqjWyNrOqIe-VhyOgt4t2N0zZeL3HV4cftM8k1ntNMiObfpM0aa-IIKl_EOeeYsL5aAUjWngDvb3pumyxUNqXOJu4TeEQ2dBw-xUcYr5z-bn1U2TaRpGB302-9f4ikfiHINPoPGdYvhsjbtlJ5_a3nfb4Siv_lRby27efFvXfYN7wVnsq2apWnrNIRkjiuQJnvU02scNcRem6peuNo/TDo6o79xCg3ioRPRc3H8dcW21l_S2Yho/5\", \"title\": \"GDP by Country\", \"content\": \"GDP by Country ; 5, India, $3,567,550,000,000 ; 6, United Kingdom, $3,380,850,000,000 ; 7, France, $3,051,830,000,000 ; 8, Italy, $2,300,940,000,000\", \"score\": 0.61668247, \"raw_content\": null}], \"response_time\": 1.1}\n",
      "==================================\u001b[1m Ai Message \u001b[0m==================================\n",
      "\n",
      "### Recent AI News\n",
      "1. **Elon Musk: The Salute Sparking a Storm and Grok’s Controversial Comments**\n",
      "   - **Source:** [OpenTools](https://opentools.ai/news/elon-musk-the-salute-sparking-a-storm-and-groks-controversial-comments)\n",
      "   - **Summary:** Elon Musk's AI chatbot Grok generated pro-Nazi statements, sparking controversy. This incident raises ethical concerns about influential tech leaders and their responsibilities.\n",
      "\n",
      "2. **OpenAI Hits Pause on Open-Source Model: Safety First!**\n",
      "   - **Source:** [OpenTools](https://opentools.ai/news/openai-hits-pause-on-open-source-model-safety-first)\n",
      "   - **Summary:** OpenAI has delayed the release of its open-source model to prioritize safety. This decision highlights the importance of balancing innovation with safety in the AI sector.\n",
      "\n",
      "### Multiplication Result\n",
      "- **90 multiplied by 80 equals 7200**\n",
      "\n",
      "### Current GDP of India\n",
      "1. **India's Economic Juggernaut On Way To Becoming The 3rd Largest Economy**\n",
      "   - **Source:** [Forbes](https://www.forbes.com/sites/sarwantsingh/2025/07/14/indias-economic-juggernaut-on-way-to-becoming-the-3rd-largest-economy/)\n",
      "   - **Summary:** India is projected to add $1 trillion to its GDP every 12–18 months, targeting a $30 trillion economy by 2047.\n",
      "\n",
      "2. **GDP by Country**\n",
      "   - **Source:** [Bloomberg](https://links.message.bloomberg.com/s/c/vF-69uQcPtlK3fsqwvGotSrbTZYIFAgKbpgMMbQZ5PiKkcmMz5L-la4WKzx3g2kCi02ixs8ofNl7FzqWoVVMvObmm56qgD0RAAO37CJz5X9d0Ys8dCeema5YFk158WeLHLOJa4NP_FlOAz5XUaZgkhIxEeApIovRtD-L_wTA38Uqsk3A3rbSuE78LFRY0QbNQFZZdIXRP5R8QdLmel6SBaPbl03xFLHz6BP-34YW_MqXQlVEdyqjWyNrOqIe-VhyOgt4t2N0zZeL3HV4cftM8k1ntNMiObfpM0aa-IIKl_EOeeYsL5aAUjWngDvb3pumyxUNqXOJu4TeEQ2dBw-xUcYr5z-bn1U2TaRpGB302-9f4ikfiHINPoPGdYvhsjbtlJ5_a3nfb4Siv_lRby27efFvXfYN7wVnsq2apWnrNIRkjiuQJnvU02scNcRem6peuNo/TDo6o79xCg3ioRPRc3H8dcW21l_S2Yho/5)\n",
      "   - **Summary:** India's current GDP is approximately $3.57 trillion.\n"
     ]
    }
   ],
   "source": [
    "for m in result[\"messages\"]:\n",
    "    m.pretty_print()"
   ]
  },
  {
   "cell_type": "code",
   "execution_count": 105,
   "id": "b39fa32b",
   "metadata": {},
   "outputs": [
    {
     "name": "stdout",
     "output_type": "stream",
     "text": [
      "================================\u001b[1m Human Message \u001b[0m=================================\n",
      "\n",
      "What is 5 multiplied by 2\n",
      "==================================\u001b[1m Ai Message \u001b[0m==================================\n",
      "Tool Calls:\n",
      "  multiply (call_UDAuxO88HAe5YAw8WSSEppmD)\n",
      " Call ID: call_UDAuxO88HAe5YAw8WSSEppmD\n",
      "  Args:\n",
      "    a: 5\n",
      "    b: 2\n",
      "=================================\u001b[1m Tool Message \u001b[0m=================================\n",
      "Name: multiply\n",
      "\n",
      "10\n",
      "==================================\u001b[1m Ai Message \u001b[0m==================================\n",
      "\n",
      "5 multiplied by 2 is 10.\n"
     ]
    }
   ],
   "source": [
    "response=graph.invoke({\"messages\":\"What is 5 multiplied by 2\"})\n",
    "for m in response['messages']:\n",
    "    m.pretty_print()"
   ]
  },
  {
   "cell_type": "code",
   "execution_count": 106,
   "id": "41f27902",
   "metadata": {},
   "outputs": [
    {
     "name": "stdout",
     "output_type": "stream",
     "text": [
      "================================\u001b[1m Human Message \u001b[0m=================================\n",
      "\n",
      "Give me the recent ai news and then multiply 5 by 10 and then add 90-90\n",
      "==================================\u001b[1m Ai Message \u001b[0m==================================\n",
      "Tool Calls:\n",
      "  tavily_search (call_01qNmIPme8At7Y6Ia2xtV67V)\n",
      " Call ID: call_01qNmIPme8At7Y6Ia2xtV67V\n",
      "  Args:\n",
      "    query: recent AI news\n",
      "    topic: news\n",
      "  multiply (call_DFO5EVW19KyTvwaCRSsaEN3K)\n",
      " Call ID: call_DFO5EVW19KyTvwaCRSsaEN3K\n",
      "  Args:\n",
      "    a: 5\n",
      "    b: 10\n",
      "=================================\u001b[1m Tool Message \u001b[0m=================================\n",
      "Name: tavily_search\n",
      "\n",
      "{\"query\": \"recent AI news\", \"follow_up_questions\": null, \"answer\": null, \"images\": [], \"results\": [{\"url\": \"https://opentools.ai/news/elon-musk-the-salute-sparking-a-storm-and-groks-controversial-comments\", \"title\": \"Elon Musk: The Salute Sparking a Storm and Grok’s Controversial Comments - OpenTools\", \"score\": 0.6490677, \"published_date\": \"Sat, 12 Jul 2025 01:19:50 GMT\", \"content\": \"Elon Musk: The Salute Sparking a Storm and Grok’s Controversial Comments | AI News Parallel to Musk's controversial gestures, his AI chatbot Grok stirred the pot by generating pro-Nazi statements. The gesture, combined with related controversies, including recent events involving Musk's AI, Grok, adds layers to the ongoing narrative about the ethical responsibilities of influential tech leaders. Elon Musk's association with controversial AI practices might impact the public perception of his ventures, potentially affecting investor confidence and market reception of his companies like SpaceX and Tesla. In reflecting on Elon Musk's controversial gesture and Grok's troubling pro-Nazi remarks, it is essential to consider the broader implications on technology and society.\", \"raw_content\": null}, {\"url\": \"https://opentools.ai/news/openai-hits-pause-on-open-source-model-safety-first\", \"title\": \"OpenAI Hits Pause on Open-Source Model: Safety First! - OpenTools\", \"score\": 0.62523276, \"published_date\": \"Sat, 12 Jul 2025 11:34:36 GMT\", \"content\": \"OpenAI’s delay, while initially appearing as a setback, is strategically designed to set a benchmark in AI safety, potentially influencing the entire open-source AI model market. The recent delay in the release of OpenAI's open-source model illustrates Altman's strong emphasis on safety and responsibility in AI deployment. OpenAI's decision to delay the release of its open-source model reflects the challenging yet vital task of balancing safety with innovation in the AI sector. OpenAI's recent decision to indefinitely delay the release of its much-anticipated open-source model has sent ripples through the AI industry, highlighting underlying safety concerns that outweigh the competitive pressures of the market.\", \"raw_content\": null}], \"response_time\": 0.3}\n",
      "=================================\u001b[1m Tool Message \u001b[0m=================================\n",
      "Name: multiply\n",
      "\n",
      "50\n",
      "==================================\u001b[1m Ai Message \u001b[0m==================================\n",
      "\n",
      "### Recent AI News:\n",
      "1. **Elon Musk: The Salute Sparking a Storm and Grok’s Controversial Comments**\n",
      "   - **Source:** [OpenTools](https://opentools.ai/news/elon-musk-the-salute-sparking-a-storm-and-groks-controversial-comments)\n",
      "   - **Summary:** Elon Musk's AI chatbot Grok stirred controversy by generating pro-Nazi statements. This, combined with Musk's controversial gestures, raises ethical concerns about influential tech leaders' responsibilities. The public perception of Musk's ventures, including SpaceX and Tesla, might be impacted.\n",
      "\n",
      "2. **OpenAI Hits Pause on Open-Source Model: Safety First!**\n",
      "   - **Source:** [OpenTools](https://opentools.ai/news/openai-hits-pause-on-open-source-model-safety-first)\n",
      "   - **Summary:** OpenAI has delayed the release of its open-source model to prioritize safety. This decision highlights the importance of balancing safety with innovation in the AI sector, potentially setting a benchmark for AI safety in the industry.\n",
      "\n",
      "### Multiplication Result:\n",
      "- \\( 5 \\times 10 = 50 \\)\n",
      "\n",
      "### Addition Result:\n",
      "- \\( 90 - 90 = 0 \\)\n"
     ]
    }
   ],
   "source": [
    "response=graph.invoke({\"messages\":\"Give me the recent ai news and then multiply 5 by 10 and then add 90-90\"})\n",
    "for m in response['messages']:\n",
    "    m.pretty_print()"
   ]
  },
  {
   "cell_type": "markdown",
   "id": "2ccb10b9",
   "metadata": {},
   "source": [
    "Adding memory in the agentic Graph\n",
    "\n",
    "why we have to use memory\n",
    "\n",
    "to remember all the all the chat example if i give my name is ugundhar, hello yugandhar nice to meet you, after next chat if i give hi then it will give only hello "
   ]
  },
  {
   "cell_type": "code",
   "execution_count": 107,
   "id": "8b89f581",
   "metadata": {},
   "outputs": [
    {
     "name": "stdout",
     "output_type": "stream",
     "text": [
      "================================\u001b[1m Human Message \u001b[0m=================================\n",
      "\n",
      "Hello my name is ugundhar\n",
      "==================================\u001b[1m Ai Message \u001b[0m==================================\n",
      "\n",
      "Hello Ugundhar! How can I assist you today?\n"
     ]
    }
   ],
   "source": [
    "response=graph.invoke({\"messages\":\"Hello my name is ugundhar\"})\n",
    "for m in response['messages']:\n",
    "    m.pretty_print()"
   ]
  },
  {
   "cell_type": "code",
   "execution_count": 109,
   "id": "36f77d36",
   "metadata": {},
   "outputs": [
    {
     "name": "stdout",
     "output_type": "stream",
     "text": [
      "================================\u001b[1m Human Message \u001b[0m=================================\n",
      "\n",
      "what is my name\n",
      "==================================\u001b[1m Ai Message \u001b[0m==================================\n",
      "\n",
      "I don't have access to personal data about you unless you provide it during our conversation. If you tell me your name, I'll be able to address you accordingly!\n"
     ]
    }
   ],
   "source": [
    "response=graph.invoke({\"messages\":\"what is my name\"})\n",
    "for m in response[\"messages\"]:\n",
    "    m.pretty_print()"
   ]
  },
  {
   "cell_type": "code",
   "execution_count": 121,
   "id": "d033add6",
   "metadata": {},
   "outputs": [
    {
     "data": {
      "image/png": "[encoded data removed]",
      "text/plain": [
       "<IPython.core.display.Image object>"
      ]
     },
     "metadata": {},
     "output_type": "display_data"
    }
   ],
   "source": [
    "## Stategraph\n",
    "from langgraph.graph import StateGraph,START,END\n",
    "from langgraph.prebuilt import ToolNode\n",
    "from langgraph.prebuilt import tools_condition\n",
    "from langgraph.checkpoint.memory import MemorySaver\n",
    "\n",
    "\n",
    "memory=MemorySaver()\n",
    "\n",
    "## Node definition\n",
    "def tool_calling_llm(state:State):\n",
    "    return {\"messages\":[llm_with_tool.invoke(state[\"messages\"])]}\n",
    "\n",
    "## Grpah\n",
    "builder=StateGraph(State)\n",
    "builder.add_node(\"tool_calling_llm\",tool_calling_llm)\n",
    "builder.add_node(\"tools\",ToolNode(tools))\n",
    "\n",
    "## Add Edges\n",
    "builder.add_edge(START, \"tool_calling_llm\")\n",
    "builder.add_conditional_edges(\n",
    "    \"tool_calling_llm\",\n",
    "    # If the latest message (result) from assistant is a tool call -> tools_condition routes to tools\n",
    "    # If the latest message (result) from assistant is a not a tool call -> tools_condition routes to END\n",
    "    tools_condition\n",
    ")\n",
    "builder.add_edge(\"tools\",\"tool_calling_llm\")\n",
    "\n",
    "## compile the graph\n",
    "graph=builder.compile(checkpointer=memory)\n",
    "\n",
    "from IPython.display import Image, display\n",
    "display(Image(graph.get_graph().draw_mermaid_png()))"
   ]
  },
  {
   "cell_type": "code",
   "execution_count": 122,
   "id": "96522c40",
   "metadata": {},
   "outputs": [
    {
     "name": "stdout",
     "output_type": "stream",
     "text": [
      "{'messages': [HumanMessage(content='My name is ugundhar', additional_kwargs={}, response_metadata={}, id='5460cb81-c6b1-4adc-a40e-86c94a841271'), AIMessage(content='Hello Ugundhar! How can I assist you today?', additional_kwargs={'refusal': None}, response_metadata={'token_usage': {'completion_tokens': 14, 'prompt_tokens': 825, 'total_tokens': 839, 'completion_tokens_details': {'accepted_prediction_tokens': 0, 'audio_tokens': 0, 'reasoning_tokens': 0, 'rejected_prediction_tokens': 0}, 'prompt_tokens_details': {'audio_tokens': 0, 'cached_tokens': 0}}, 'model_name': 'gpt-4o-2024-05-13', 'system_fingerprint': 'fp_ee1d74bde0', 'id': 'chatcmpl-BtoTaZ6XTG5WRbxVrr6AlPGTovsDZ', 'service_tier': None, 'finish_reason': 'stop', 'logprobs': None}, id='run--bf130ddf-7d83-4b75-ac65-266a12038812-0', usage_metadata={'input_tokens': 825, 'output_tokens': 14, 'total_tokens': 839, 'input_token_details': {'audio': 0, 'cache_read': 0}, 'output_token_details': {'audio': 0, 'reasoning': 0}})]}\n"
     ]
    }
   ],
   "source": [
    "configrab={\"configurable\":{\"thread_id\":\"1\"}}\n",
    "response=graph.invoke({\"messages\":\"My name is ugundhar\"},config=configrab)\n",
    "print(response)"
   ]
  },
  {
   "cell_type": "code",
   "execution_count": 123,
   "id": "a4f0dc2d",
   "metadata": {},
   "outputs": [
    {
     "data": {
      "text/plain": [
       "'Hello Ugundhar! How can I assist you today?'"
      ]
     },
     "execution_count": 123,
     "metadata": {},
     "output_type": "execute_result"
    }
   ],
   "source": [
    "response['messages'][-1].content"
   ]
  },
  {
   "cell_type": "code",
   "execution_count": 124,
   "id": "bd60f30a",
   "metadata": {},
   "outputs": [
    {
     "name": "stdout",
     "output_type": "stream",
     "text": [
      "Your name is Ugundhar.\n"
     ]
    }
   ],
   "source": [
    "response=graph.invoke({\"messages\":\"what is my name\"},config=configrab)\n",
    "print(response['messages'][-1].content)"
   ]
  },
  {
   "cell_type": "code",
   "execution_count": 125,
   "id": "6569dcb9",
   "metadata": {},
   "outputs": [
    {
     "name": "stdout",
     "output_type": "stream",
     "text": [
      "Yes, your name is Ugundhar. How can I assist you today?\n"
     ]
    }
   ],
   "source": [
    "response=graph.invoke({\"messages\":\"Hey do you remember mmy name\"},config=configrab)\n",
    "\n",
    "print(response['messages'][-1].content)"
   ]
  },
  {
   "cell_type": "markdown",
   "id": "4090d390",
   "metadata": {},
   "source": [
    "Streaming\n",
    "\n"
   ]
  },
  {
   "cell_type": "code",
   "execution_count": 127,
   "id": "74ef6146",
   "metadata": {},
   "outputs": [],
   "source": [
    "from langgraph.checkpoint.memory import MemorySaver\n",
    "memory=MemorySaver()"
   ]
  },
  {
   "cell_type": "code",
   "execution_count": 128,
   "id": "325406b0",
   "metadata": {},
   "outputs": [],
   "source": [
    "def superbot(state:State):\n",
    "    return {\"messages\":llm.invoke(state[\"messages\"])}"
   ]
  },
  {
   "cell_type": "code",
   "execution_count": 129,
   "id": "5355485e",
   "metadata": {},
   "outputs": [
    {
     "data": {
      "image/png": "[encoded data removed]",
      "text/plain": [
       "<IPython.core.display.Image object>"
      ]
     },
     "metadata": {},
     "output_type": "display_data"
    }
   ],
   "source": [
    "graph=StateGraph(State)\n",
    "graph.add_node(\"SuperBot\",superbot)\n",
    "\n",
    "graph.add_edge(START,\"SuperBot\")\n",
    "graph.add_edge(\"SuperBot\",END)\n",
    "\n",
    "graph_builder=graph.compile(checkpointer=memory)\n",
    "\n",
    "## Display\n",
    "from IPython.display import Image, display\n",
    "display(Image(graph_builder.get_graph().draw_mermaid_png()))"
   ]
  },
  {
   "cell_type": "code",
   "execution_count": 131,
   "id": "820b83a4",
   "metadata": {},
   "outputs": [
    {
     "data": {
      "text/plain": [
       "{'messages': [HumanMessage(content='hi, my name is ugundhar chaudhary', additional_kwargs={}, response_metadata={}, id='b4bc4736-8fcb-4cb0-82b3-6d5c98924d65'),\n",
       "  AIMessage(content='Hello, Ugundhar Chaudhary! How can I assist you today?', additional_kwargs={'refusal': None}, response_metadata={'token_usage': {'completion_tokens': 17, 'prompt_tokens': 18, 'total_tokens': 35, 'completion_tokens_details': {'accepted_prediction_tokens': 0, 'audio_tokens': 0, 'reasoning_tokens': 0, 'rejected_prediction_tokens': 0}, 'prompt_tokens_details': {'audio_tokens': 0, 'cached_tokens': 0}}, 'model_name': 'gpt-4o-2024-05-13', 'system_fingerprint': 'fp_ee1d74bde0', 'id': 'chatcmpl-BtxFBpa2LEkd4mbo091jV4Ia0WF2A', 'service_tier': None, 'finish_reason': 'stop', 'logprobs': None}, id='run--eb317b63-0151-49f4-b5e0-664e47387bb8-0', usage_metadata={'input_tokens': 18, 'output_tokens': 17, 'total_tokens': 35, 'input_token_details': {'audio': 0, 'cache_read': 0}, 'output_token_details': {'audio': 0, 'reasoning': 0}})]}"
      ]
     },
     "execution_count": 131,
     "metadata": {},
     "output_type": "execute_result"
    }
   ],
   "source": [
    "##invocatoin\n",
    "\n",
    "config={\"configurable\":{\"thread_id\":\"1\"}}\n",
    "graph_builder.invoke({\"messages\":\"hi, my name is ugundhar chaudhary\"},config=config)"
   ]
  },
  {
   "cell_type": "markdown",
   "id": "087a0505",
   "metadata": {},
   "source": [
    "Streaming \n",
    "\n",
    "we have methods= .stream() and astream()\n",
    "\n",
    "    These methods are sync and async methods for streaming back results.\n",
    "Additional parameters in streaming modes for graph state\n",
    "\n",
    "    values : This streams the full state of the graph after each node is called.\n",
    "    updates : This streams updates to the state of the graph after each node is called.\n",
    "\n",
    "\n"
   ]
  },
  {
   "cell_type": "code",
   "execution_count": 135,
   "id": "624e956e",
   "metadata": {},
   "outputs": [
    {
     "name": "stdout",
     "output_type": "stream",
     "text": [
      "{'SuperBot': {'messages': AIMessage(content='Hello, Ugundhar! How can I assist you today?', additional_kwargs={'refusal': None}, response_metadata={'token_usage': {'completion_tokens': 14, 'prompt_tokens': 13, 'total_tokens': 27, 'completion_tokens_details': {'accepted_prediction_tokens': 0, 'audio_tokens': 0, 'reasoning_tokens': 0, 'rejected_prediction_tokens': 0}, 'prompt_tokens_details': {'audio_tokens': 0, 'cached_tokens': 0}}, 'model_name': 'gpt-4o-2024-05-13', 'system_fingerprint': 'fp_ee1d74bde0', 'id': 'chatcmpl-BtxJWcrDPnwNj0ZNXbZyhfhRMsnfO', 'service_tier': None, 'finish_reason': 'stop', 'logprobs': None}, id='run--ac6d6e78-1a17-4309-a9e0-56c589d96f46-0', usage_metadata={'input_tokens': 13, 'output_tokens': 14, 'total_tokens': 27, 'input_token_details': {'audio': 0, 'cache_read': 0}, 'output_token_details': {'audio': 0, 'reasoning': 0}})}}\n"
     ]
    }
   ],
   "source": [
    "config={\"configurable\":{\"thread_id\":\"2\"}}\n",
    "for chunk in graph_builder.stream({\"messages\":\"my name is ugundhar\"},config=config):\n",
    "    print(chunk)\n"
   ]
  },
  {
   "cell_type": "code",
   "execution_count": 136,
   "id": "a374b238",
   "metadata": {},
   "outputs": [
    {
     "name": "stdout",
     "output_type": "stream",
     "text": [
      "{'messages': [HumanMessage(content='my name is ugundhar', additional_kwargs={}, response_metadata={}, id='9a8acaa7-cb02-4426-9220-52274714319a')]}\n",
      "{'messages': [HumanMessage(content='my name is ugundhar', additional_kwargs={}, response_metadata={}, id='9a8acaa7-cb02-4426-9220-52274714319a'), AIMessage(content='Hello, Ugundhar! How can I assist you today?', additional_kwargs={'refusal': None}, response_metadata={'token_usage': {'completion_tokens': 14, 'prompt_tokens': 13, 'total_tokens': 27, 'completion_tokens_details': {'accepted_prediction_tokens': 0, 'audio_tokens': 0, 'reasoning_tokens': 0, 'rejected_prediction_tokens': 0}, 'prompt_tokens_details': {'audio_tokens': 0, 'cached_tokens': 0}}, 'model_name': 'gpt-4o-2024-05-13', 'system_fingerprint': 'fp_ee1d74bde0', 'id': 'chatcmpl-BtxKdSIkZs9D8JVkR9dZyKc5TSP6F', 'service_tier': None, 'finish_reason': 'stop', 'logprobs': None}, id='run--4add1ae5-663e-4849-a988-5682307aa661-0', usage_metadata={'input_tokens': 13, 'output_tokens': 14, 'total_tokens': 27, 'input_token_details': {'audio': 0, 'cache_read': 0}, 'output_token_details': {'audio': 0, 'reasoning': 0}})]}\n"
     ]
    }
   ],
   "source": [
    "config={\"configurable\":{\"thread_id\":\"3\"}}\n",
    "for chunk in graph_builder.stream({\"messages\":\"my name is ugundhar\"},config=config,stream_mode=\"values\"):\n",
    "    print(chunk)\n"
   ]
  },
  {
   "cell_type": "code",
   "execution_count": 138,
   "id": "20e41667",
   "metadata": {},
   "outputs": [
    {
     "name": "stdout",
     "output_type": "stream",
     "text": [
      "{'SuperBot': {'messages': AIMessage(content='Hello, Ugundhar! How can I assist you today?', additional_kwargs={'refusal': None}, response_metadata={'token_usage': {'completion_tokens': 14, 'prompt_tokens': 13, 'total_tokens': 27, 'completion_tokens_details': {'accepted_prediction_tokens': 0, 'audio_tokens': 0, 'reasoning_tokens': 0, 'rejected_prediction_tokens': 0}, 'prompt_tokens_details': {'audio_tokens': 0, 'cached_tokens': 0}}, 'model_name': 'gpt-4o-2024-05-13', 'system_fingerprint': 'fp_ee1d74bde0', 'id': 'chatcmpl-BtxLWDYmVEaedJ7H7pYnoa9lfHzmW', 'service_tier': None, 'finish_reason': 'stop', 'logprobs': None}, id='run--17d03115-171d-4ac3-86b2-caaa5c00b825-0', usage_metadata={'input_tokens': 13, 'output_tokens': 14, 'total_tokens': 27, 'input_token_details': {'audio': 0, 'cache_read': 0}, 'output_token_details': {'audio': 0, 'reasoning': 0}})}}\n"
     ]
    }
   ],
   "source": [
    "config={\"configurable\":{\"thread_id\":\"4\"}}\n",
    "for chunk in graph_builder.stream({\"messages\":\"my name is ugundhar\"},config=config,stream_mode=\"updates\"):\n",
    "    print(chunk)"
   ]
  },
  {
   "cell_type": "code",
   "execution_count": 139,
   "id": "00336119",
   "metadata": {},
   "outputs": [
    {
     "name": "stdout",
     "output_type": "stream",
     "text": [
      "{'messages': [HumanMessage(content='my name is ugundhar', additional_kwargs={}, response_metadata={}, id='9a8acaa7-cb02-4426-9220-52274714319a'), AIMessage(content='Hello, Ugundhar! How can I assist you today?', additional_kwargs={'refusal': None}, response_metadata={'token_usage': {'completion_tokens': 14, 'prompt_tokens': 13, 'total_tokens': 27, 'completion_tokens_details': {'accepted_prediction_tokens': 0, 'audio_tokens': 0, 'reasoning_tokens': 0, 'rejected_prediction_tokens': 0}, 'prompt_tokens_details': {'audio_tokens': 0, 'cached_tokens': 0}}, 'model_name': 'gpt-4o-2024-05-13', 'system_fingerprint': 'fp_ee1d74bde0', 'id': 'chatcmpl-BtxKdSIkZs9D8JVkR9dZyKc5TSP6F', 'service_tier': None, 'finish_reason': 'stop', 'logprobs': None}, id='run--4add1ae5-663e-4849-a988-5682307aa661-0', usage_metadata={'input_tokens': 13, 'output_tokens': 14, 'total_tokens': 27, 'input_token_details': {'audio': 0, 'cache_read': 0}, 'output_token_details': {'audio': 0, 'reasoning': 0}}), HumanMessage(content='my name is ugundhar', additional_kwargs={}, response_metadata={}, id='782d7881-1057-4914-9bbf-785f35b61029'), AIMessage(content='Hello again, Ugundhar! How can I help you today?', additional_kwargs={'refusal': None}, response_metadata={'token_usage': {'completion_tokens': 15, 'prompt_tokens': 40, 'total_tokens': 55, 'completion_tokens_details': {'accepted_prediction_tokens': 0, 'audio_tokens': 0, 'reasoning_tokens': 0, 'rejected_prediction_tokens': 0}, 'prompt_tokens_details': {'audio_tokens': 0, 'cached_tokens': 0}}, 'model_name': 'gpt-4o-2024-05-13', 'system_fingerprint': 'fp_ee1d74bde0', 'id': 'chatcmpl-BtxLCmekobu8VUNhxlbmWxwglDM3r', 'service_tier': None, 'finish_reason': 'stop', 'logprobs': None}, id='run--6a8145a3-e592-4756-8b74-dae3f188021b-0', usage_metadata={'input_tokens': 40, 'output_tokens': 15, 'total_tokens': 55, 'input_token_details': {'audio': 0, 'cache_read': 0}, 'output_token_details': {'audio': 0, 'reasoning': 0}}), HumanMessage(content=' I, also like playing cricker', additional_kwargs={}, response_metadata={}, id='207c4158-3d8c-4546-9976-9b1db8763de2')]}\n",
      "{'messages': [HumanMessage(content='my name is ugundhar', additional_kwargs={}, response_metadata={}, id='9a8acaa7-cb02-4426-9220-52274714319a'), AIMessage(content='Hello, Ugundhar! How can I assist you today?', additional_kwargs={'refusal': None}, response_metadata={'token_usage': {'completion_tokens': 14, 'prompt_tokens': 13, 'total_tokens': 27, 'completion_tokens_details': {'accepted_prediction_tokens': 0, 'audio_tokens': 0, 'reasoning_tokens': 0, 'rejected_prediction_tokens': 0}, 'prompt_tokens_details': {'audio_tokens': 0, 'cached_tokens': 0}}, 'model_name': 'gpt-4o-2024-05-13', 'system_fingerprint': 'fp_ee1d74bde0', 'id': 'chatcmpl-BtxKdSIkZs9D8JVkR9dZyKc5TSP6F', 'service_tier': None, 'finish_reason': 'stop', 'logprobs': None}, id='run--4add1ae5-663e-4849-a988-5682307aa661-0', usage_metadata={'input_tokens': 13, 'output_tokens': 14, 'total_tokens': 27, 'input_token_details': {'audio': 0, 'cache_read': 0}, 'output_token_details': {'audio': 0, 'reasoning': 0}}), HumanMessage(content='my name is ugundhar', additional_kwargs={}, response_metadata={}, id='782d7881-1057-4914-9bbf-785f35b61029'), AIMessage(content='Hello again, Ugundhar! How can I help you today?', additional_kwargs={'refusal': None}, response_metadata={'token_usage': {'completion_tokens': 15, 'prompt_tokens': 40, 'total_tokens': 55, 'completion_tokens_details': {'accepted_prediction_tokens': 0, 'audio_tokens': 0, 'reasoning_tokens': 0, 'rejected_prediction_tokens': 0}, 'prompt_tokens_details': {'audio_tokens': 0, 'cached_tokens': 0}}, 'model_name': 'gpt-4o-2024-05-13', 'system_fingerprint': 'fp_ee1d74bde0', 'id': 'chatcmpl-BtxLCmekobu8VUNhxlbmWxwglDM3r', 'service_tier': None, 'finish_reason': 'stop', 'logprobs': None}, id='run--6a8145a3-e592-4756-8b74-dae3f188021b-0', usage_metadata={'input_tokens': 40, 'output_tokens': 15, 'total_tokens': 55, 'input_token_details': {'audio': 0, 'cache_read': 0}, 'output_token_details': {'audio': 0, 'reasoning': 0}}), HumanMessage(content=' I, also like playing cricker', additional_kwargs={}, response_metadata={}, id='207c4158-3d8c-4546-9976-9b1db8763de2'), AIMessage(content=\"That's great to hear, Ugundhar! Cricket is a fantastic sport. Do you play as a batsman, bowler, or all-rounder? Or do you enjoy watching it more?\", additional_kwargs={'refusal': None}, response_metadata={'token_usage': {'completion_tokens': 40, 'prompt_tokens': 69, 'total_tokens': 109, 'completion_tokens_details': {'accepted_prediction_tokens': 0, 'audio_tokens': 0, 'reasoning_tokens': 0, 'rejected_prediction_tokens': 0}, 'prompt_tokens_details': {'audio_tokens': 0, 'cached_tokens': 0}}, 'model_name': 'gpt-4o-2024-05-13', 'system_fingerprint': 'fp_ee1d74bde0', 'id': 'chatcmpl-BtxMZH7ihzt6dkNxpUu6qHoq6lmzx', 'service_tier': None, 'finish_reason': 'stop', 'logprobs': None}, id='run--b422728d-6b1e-46c5-8ccc-e413e147cd86-0', usage_metadata={'input_tokens': 69, 'output_tokens': 40, 'total_tokens': 109, 'input_token_details': {'audio': 0, 'cache_read': 0}, 'output_token_details': {'audio': 0, 'reasoning': 0}})]}\n"
     ]
    }
   ],
   "source": [
    "config={\"configurable\":{\"thread_id\":\"3\"}}\n",
    "for chunk in graph_builder.stream({\"messages\":\" I, also like playing cricker\"},config=config,stream_mode=\"values\"):\n",
    "    print(chunk)"
   ]
  },
  {
   "cell_type": "markdown",
   "id": "94391fc0",
   "metadata": {},
   "source": [
    "Asynchronous (async)"
   ]
  },
  {
   "cell_type": "code",
   "execution_count": 142,
   "id": "52394d8c",
   "metadata": {},
   "outputs": [
    {
     "name": "stdout",
     "output_type": "stream",
     "text": [
      "{'event': 'on_chain_start', 'data': {'input': {'messages': ' my name is ugundhar and I, also like playing cricker'}}, 'name': 'LangGraph', 'tags': [], 'run_id': '67382206-0032-4cb0-a324-9362009a39ea', 'metadata': {'thread_id': '4'}, 'parent_ids': []}\n",
      "{'event': 'on_chain_start', 'data': {'input': {'messages': [HumanMessage(content='my name is ugundhar', additional_kwargs={}, response_metadata={}, id='75de72a5-877e-498a-9263-fae7684bb308'), AIMessage(content='Hello, Ugundhar! How can I assist you today?', additional_kwargs={'refusal': None}, response_metadata={'token_usage': {'completion_tokens': 14, 'prompt_tokens': 13, 'total_tokens': 27, 'completion_tokens_details': {'accepted_prediction_tokens': 0, 'audio_tokens': 0, 'reasoning_tokens': 0, 'rejected_prediction_tokens': 0}, 'prompt_tokens_details': {'audio_tokens': 0, 'cached_tokens': 0}}, 'model_name': 'gpt-4o-2024-05-13', 'system_fingerprint': 'fp_ee1d74bde0', 'id': 'chatcmpl-BtxLWDYmVEaedJ7H7pYnoa9lfHzmW', 'service_tier': None, 'finish_reason': 'stop', 'logprobs': None}, id='run--17d03115-171d-4ac3-86b2-caaa5c00b825-0', usage_metadata={'input_tokens': 13, 'output_tokens': 14, 'total_tokens': 27, 'input_token_details': {'audio': 0, 'cache_read': 0}, 'output_token_details': {'audio': 0, 'reasoning': 0}}), HumanMessage(content=' my name is ugundhar and I, also like playing cricker', additional_kwargs={}, response_metadata={}, id='e6bc91f9-6efa-47fb-8312-90af9a88203b')]}}, 'name': 'SuperBot', 'tags': ['graph:step:4'], 'run_id': '422ecf77-37be-463d-b56b-1b9e460eaea8', 'metadata': {'thread_id': '4', 'langgraph_step': 4, 'langgraph_node': 'SuperBot', 'langgraph_triggers': ('branch:to:SuperBot',), 'langgraph_path': ('__pregel_pull', 'SuperBot'), 'langgraph_checkpoint_ns': 'SuperBot:a51261e8-1add-aa6b-8ee5-fc199c46e07c'}, 'parent_ids': ['67382206-0032-4cb0-a324-9362009a39ea']}\n",
      "{'event': 'on_chat_model_start', 'data': {'input': {'messages': [[HumanMessage(content='my name is ugundhar', additional_kwargs={}, response_metadata={}, id='75de72a5-877e-498a-9263-fae7684bb308'), AIMessage(content='Hello, Ugundhar! How can I assist you today?', additional_kwargs={'refusal': None}, response_metadata={'token_usage': {'completion_tokens': 14, 'prompt_tokens': 13, 'total_tokens': 27, 'completion_tokens_details': {'accepted_prediction_tokens': 0, 'audio_tokens': 0, 'reasoning_tokens': 0, 'rejected_prediction_tokens': 0}, 'prompt_tokens_details': {'audio_tokens': 0, 'cached_tokens': 0}}, 'model_name': 'gpt-4o-2024-05-13', 'system_fingerprint': 'fp_ee1d74bde0', 'id': 'chatcmpl-BtxLWDYmVEaedJ7H7pYnoa9lfHzmW', 'service_tier': None, 'finish_reason': 'stop', 'logprobs': None}, id='run--17d03115-171d-4ac3-86b2-caaa5c00b825-0', usage_metadata={'input_tokens': 13, 'output_tokens': 14, 'total_tokens': 27, 'input_token_details': {'audio': 0, 'cache_read': 0}, 'output_token_details': {'audio': 0, 'reasoning': 0}}), HumanMessage(content=' my name is ugundhar and I, also like playing cricker', additional_kwargs={}, response_metadata={}, id='e6bc91f9-6efa-47fb-8312-90af9a88203b')]]}}, 'name': 'ChatOpenAI', 'tags': ['seq:step:1'], 'run_id': '71b06b89-f7ef-4cf9-ab56-83ea141a213e', 'metadata': {'thread_id': '4', 'langgraph_step': 4, 'langgraph_node': 'SuperBot', 'langgraph_triggers': ('branch:to:SuperBot',), 'langgraph_path': ('__pregel_pull', 'SuperBot'), 'langgraph_checkpoint_ns': 'SuperBot:a51261e8-1add-aa6b-8ee5-fc199c46e07c', 'checkpoint_ns': 'SuperBot:a51261e8-1add-aa6b-8ee5-fc199c46e07c', 'ls_provider': 'openai', 'ls_model_name': 'gpt-4o', 'ls_model_type': 'chat', 'ls_temperature': 0.0}, 'parent_ids': ['67382206-0032-4cb0-a324-9362009a39ea', '422ecf77-37be-463d-b56b-1b9e460eaea8']}\n",
      "{'event': 'on_chat_model_stream', 'data': {'chunk': AIMessageChunk(content='', additional_kwargs={}, response_metadata={}, id='run--71b06b89-f7ef-4cf9-ab56-83ea141a213e')}, 'run_id': '71b06b89-f7ef-4cf9-ab56-83ea141a213e', 'name': 'ChatOpenAI', 'tags': ['seq:step:1'], 'metadata': {'thread_id': '4', 'langgraph_step': 4, 'langgraph_node': 'SuperBot', 'langgraph_triggers': ('branch:to:SuperBot',), 'langgraph_path': ('__pregel_pull', 'SuperBot'), 'langgraph_checkpoint_ns': 'SuperBot:a51261e8-1add-aa6b-8ee5-fc199c46e07c', 'checkpoint_ns': 'SuperBot:a51261e8-1add-aa6b-8ee5-fc199c46e07c', 'ls_provider': 'openai', 'ls_model_name': 'gpt-4o', 'ls_model_type': 'chat', 'ls_temperature': 0.0}, 'parent_ids': ['67382206-0032-4cb0-a324-9362009a39ea', '422ecf77-37be-463d-b56b-1b9e460eaea8']}\n",
      "{'event': 'on_chat_model_stream', 'data': {'chunk': AIMessageChunk(content='', additional_kwargs={}, response_metadata={}, id='run--71b06b89-f7ef-4cf9-ab56-83ea141a213e')}, 'run_id': '71b06b89-f7ef-4cf9-ab56-83ea141a213e', 'name': 'ChatOpenAI', 'tags': ['seq:step:1'], 'metadata': {'thread_id': '4', 'langgraph_step': 4, 'langgraph_node': 'SuperBot', 'langgraph_triggers': ('branch:to:SuperBot',), 'langgraph_path': ('__pregel_pull', 'SuperBot'), 'langgraph_checkpoint_ns': 'SuperBot:a51261e8-1add-aa6b-8ee5-fc199c46e07c', 'checkpoint_ns': 'SuperBot:a51261e8-1add-aa6b-8ee5-fc199c46e07c', 'ls_provider': 'openai', 'ls_model_name': 'gpt-4o', 'ls_model_type': 'chat', 'ls_temperature': 0.0}, 'parent_ids': ['67382206-0032-4cb0-a324-9362009a39ea', '422ecf77-37be-463d-b56b-1b9e460eaea8']}\n",
      "{'event': 'on_chat_model_stream', 'data': {'chunk': AIMessageChunk(content='Hello', additional_kwargs={}, response_metadata={}, id='run--71b06b89-f7ef-4cf9-ab56-83ea141a213e')}, 'run_id': '71b06b89-f7ef-4cf9-ab56-83ea141a213e', 'name': 'ChatOpenAI', 'tags': ['seq:step:1'], 'metadata': {'thread_id': '4', 'langgraph_step': 4, 'langgraph_node': 'SuperBot', 'langgraph_triggers': ('branch:to:SuperBot',), 'langgraph_path': ('__pregel_pull', 'SuperBot'), 'langgraph_checkpoint_ns': 'SuperBot:a51261e8-1add-aa6b-8ee5-fc199c46e07c', 'checkpoint_ns': 'SuperBot:a51261e8-1add-aa6b-8ee5-fc199c46e07c', 'ls_provider': 'openai', 'ls_model_name': 'gpt-4o', 'ls_model_type': 'chat', 'ls_temperature': 0.0}, 'parent_ids': ['67382206-0032-4cb0-a324-9362009a39ea', '422ecf77-37be-463d-b56b-1b9e460eaea8']}\n",
      "{'event': 'on_chat_model_stream', 'data': {'chunk': AIMessageChunk(content=',', additional_kwargs={}, response_metadata={}, id='run--71b06b89-f7ef-4cf9-ab56-83ea141a213e')}, 'run_id': '71b06b89-f7ef-4cf9-ab56-83ea141a213e', 'name': 'ChatOpenAI', 'tags': ['seq:step:1'], 'metadata': {'thread_id': '4', 'langgraph_step': 4, 'langgraph_node': 'SuperBot', 'langgraph_triggers': ('branch:to:SuperBot',), 'langgraph_path': ('__pregel_pull', 'SuperBot'), 'langgraph_checkpoint_ns': 'SuperBot:a51261e8-1add-aa6b-8ee5-fc199c46e07c', 'checkpoint_ns': 'SuperBot:a51261e8-1add-aa6b-8ee5-fc199c46e07c', 'ls_provider': 'openai', 'ls_model_name': 'gpt-4o', 'ls_model_type': 'chat', 'ls_temperature': 0.0}, 'parent_ids': ['67382206-0032-4cb0-a324-9362009a39ea', '422ecf77-37be-463d-b56b-1b9e460eaea8']}\n",
      "{'event': 'on_chat_model_stream', 'data': {'chunk': AIMessageChunk(content=' Ug', additional_kwargs={}, response_metadata={}, id='run--71b06b89-f7ef-4cf9-ab56-83ea141a213e')}, 'run_id': '71b06b89-f7ef-4cf9-ab56-83ea141a213e', 'name': 'ChatOpenAI', 'tags': ['seq:step:1'], 'metadata': {'thread_id': '4', 'langgraph_step': 4, 'langgraph_node': 'SuperBot', 'langgraph_triggers': ('branch:to:SuperBot',), 'langgraph_path': ('__pregel_pull', 'SuperBot'), 'langgraph_checkpoint_ns': 'SuperBot:a51261e8-1add-aa6b-8ee5-fc199c46e07c', 'checkpoint_ns': 'SuperBot:a51261e8-1add-aa6b-8ee5-fc199c46e07c', 'ls_provider': 'openai', 'ls_model_name': 'gpt-4o', 'ls_model_type': 'chat', 'ls_temperature': 0.0}, 'parent_ids': ['67382206-0032-4cb0-a324-9362009a39ea', '422ecf77-37be-463d-b56b-1b9e460eaea8']}\n",
      "{'event': 'on_chat_model_stream', 'data': {'chunk': AIMessageChunk(content='und', additional_kwargs={}, response_metadata={}, id='run--71b06b89-f7ef-4cf9-ab56-83ea141a213e')}, 'run_id': '71b06b89-f7ef-4cf9-ab56-83ea141a213e', 'name': 'ChatOpenAI', 'tags': ['seq:step:1'], 'metadata': {'thread_id': '4', 'langgraph_step': 4, 'langgraph_node': 'SuperBot', 'langgraph_triggers': ('branch:to:SuperBot',), 'langgraph_path': ('__pregel_pull', 'SuperBot'), 'langgraph_checkpoint_ns': 'SuperBot:a51261e8-1add-aa6b-8ee5-fc199c46e07c', 'checkpoint_ns': 'SuperBot:a51261e8-1add-aa6b-8ee5-fc199c46e07c', 'ls_provider': 'openai', 'ls_model_name': 'gpt-4o', 'ls_model_type': 'chat', 'ls_temperature': 0.0}, 'parent_ids': ['67382206-0032-4cb0-a324-9362009a39ea', '422ecf77-37be-463d-b56b-1b9e460eaea8']}\n",
      "{'event': 'on_chat_model_stream', 'data': {'chunk': AIMessageChunk(content='har', additional_kwargs={}, response_metadata={}, id='run--71b06b89-f7ef-4cf9-ab56-83ea141a213e')}, 'run_id': '71b06b89-f7ef-4cf9-ab56-83ea141a213e', 'name': 'ChatOpenAI', 'tags': ['seq:step:1'], 'metadata': {'thread_id': '4', 'langgraph_step': 4, 'langgraph_node': 'SuperBot', 'langgraph_triggers': ('branch:to:SuperBot',), 'langgraph_path': ('__pregel_pull', 'SuperBot'), 'langgraph_checkpoint_ns': 'SuperBot:a51261e8-1add-aa6b-8ee5-fc199c46e07c', 'checkpoint_ns': 'SuperBot:a51261e8-1add-aa6b-8ee5-fc199c46e07c', 'ls_provider': 'openai', 'ls_model_name': 'gpt-4o', 'ls_model_type': 'chat', 'ls_temperature': 0.0}, 'parent_ids': ['67382206-0032-4cb0-a324-9362009a39ea', '422ecf77-37be-463d-b56b-1b9e460eaea8']}\n",
      "{'event': 'on_chat_model_stream', 'data': {'chunk': AIMessageChunk(content='!', additional_kwargs={}, response_metadata={}, id='run--71b06b89-f7ef-4cf9-ab56-83ea141a213e')}, 'run_id': '71b06b89-f7ef-4cf9-ab56-83ea141a213e', 'name': 'ChatOpenAI', 'tags': ['seq:step:1'], 'metadata': {'thread_id': '4', 'langgraph_step': 4, 'langgraph_node': 'SuperBot', 'langgraph_triggers': ('branch:to:SuperBot',), 'langgraph_path': ('__pregel_pull', 'SuperBot'), 'langgraph_checkpoint_ns': 'SuperBot:a51261e8-1add-aa6b-8ee5-fc199c46e07c', 'checkpoint_ns': 'SuperBot:a51261e8-1add-aa6b-8ee5-fc199c46e07c', 'ls_provider': 'openai', 'ls_model_name': 'gpt-4o', 'ls_model_type': 'chat', 'ls_temperature': 0.0}, 'parent_ids': ['67382206-0032-4cb0-a324-9362009a39ea', '422ecf77-37be-463d-b56b-1b9e460eaea8']}\n",
      "{'event': 'on_chat_model_stream', 'data': {'chunk': AIMessageChunk(content=\" It's\", additional_kwargs={}, response_metadata={}, id='run--71b06b89-f7ef-4cf9-ab56-83ea141a213e')}, 'run_id': '71b06b89-f7ef-4cf9-ab56-83ea141a213e', 'name': 'ChatOpenAI', 'tags': ['seq:step:1'], 'metadata': {'thread_id': '4', 'langgraph_step': 4, 'langgraph_node': 'SuperBot', 'langgraph_triggers': ('branch:to:SuperBot',), 'langgraph_path': ('__pregel_pull', 'SuperBot'), 'langgraph_checkpoint_ns': 'SuperBot:a51261e8-1add-aa6b-8ee5-fc199c46e07c', 'checkpoint_ns': 'SuperBot:a51261e8-1add-aa6b-8ee5-fc199c46e07c', 'ls_provider': 'openai', 'ls_model_name': 'gpt-4o', 'ls_model_type': 'chat', 'ls_temperature': 0.0}, 'parent_ids': ['67382206-0032-4cb0-a324-9362009a39ea', '422ecf77-37be-463d-b56b-1b9e460eaea8']}\n",
      "{'event': 'on_chat_model_stream', 'data': {'chunk': AIMessageChunk(content=' great', additional_kwargs={}, response_metadata={}, id='run--71b06b89-f7ef-4cf9-ab56-83ea141a213e')}, 'run_id': '71b06b89-f7ef-4cf9-ab56-83ea141a213e', 'name': 'ChatOpenAI', 'tags': ['seq:step:1'], 'metadata': {'thread_id': '4', 'langgraph_step': 4, 'langgraph_node': 'SuperBot', 'langgraph_triggers': ('branch:to:SuperBot',), 'langgraph_path': ('__pregel_pull', 'SuperBot'), 'langgraph_checkpoint_ns': 'SuperBot:a51261e8-1add-aa6b-8ee5-fc199c46e07c', 'checkpoint_ns': 'SuperBot:a51261e8-1add-aa6b-8ee5-fc199c46e07c', 'ls_provider': 'openai', 'ls_model_name': 'gpt-4o', 'ls_model_type': 'chat', 'ls_temperature': 0.0}, 'parent_ids': ['67382206-0032-4cb0-a324-9362009a39ea', '422ecf77-37be-463d-b56b-1b9e460eaea8']}\n",
      "{'event': 'on_chat_model_stream', 'data': {'chunk': AIMessageChunk(content=' to', additional_kwargs={}, response_metadata={}, id='run--71b06b89-f7ef-4cf9-ab56-83ea141a213e')}, 'run_id': '71b06b89-f7ef-4cf9-ab56-83ea141a213e', 'name': 'ChatOpenAI', 'tags': ['seq:step:1'], 'metadata': {'thread_id': '4', 'langgraph_step': 4, 'langgraph_node': 'SuperBot', 'langgraph_triggers': ('branch:to:SuperBot',), 'langgraph_path': ('__pregel_pull', 'SuperBot'), 'langgraph_checkpoint_ns': 'SuperBot:a51261e8-1add-aa6b-8ee5-fc199c46e07c', 'checkpoint_ns': 'SuperBot:a51261e8-1add-aa6b-8ee5-fc199c46e07c', 'ls_provider': 'openai', 'ls_model_name': 'gpt-4o', 'ls_model_type': 'chat', 'ls_temperature': 0.0}, 'parent_ids': ['67382206-0032-4cb0-a324-9362009a39ea', '422ecf77-37be-463d-b56b-1b9e460eaea8']}\n",
      "{'event': 'on_chat_model_stream', 'data': {'chunk': AIMessageChunk(content=' hear', additional_kwargs={}, response_metadata={}, id='run--71b06b89-f7ef-4cf9-ab56-83ea141a213e')}, 'run_id': '71b06b89-f7ef-4cf9-ab56-83ea141a213e', 'name': 'ChatOpenAI', 'tags': ['seq:step:1'], 'metadata': {'thread_id': '4', 'langgraph_step': 4, 'langgraph_node': 'SuperBot', 'langgraph_triggers': ('branch:to:SuperBot',), 'langgraph_path': ('__pregel_pull', 'SuperBot'), 'langgraph_checkpoint_ns': 'SuperBot:a51261e8-1add-aa6b-8ee5-fc199c46e07c', 'checkpoint_ns': 'SuperBot:a51261e8-1add-aa6b-8ee5-fc199c46e07c', 'ls_provider': 'openai', 'ls_model_name': 'gpt-4o', 'ls_model_type': 'chat', 'ls_temperature': 0.0}, 'parent_ids': ['67382206-0032-4cb0-a324-9362009a39ea', '422ecf77-37be-463d-b56b-1b9e460eaea8']}\n",
      "{'event': 'on_chat_model_stream', 'data': {'chunk': AIMessageChunk(content=' that', additional_kwargs={}, response_metadata={}, id='run--71b06b89-f7ef-4cf9-ab56-83ea141a213e')}, 'run_id': '71b06b89-f7ef-4cf9-ab56-83ea141a213e', 'name': 'ChatOpenAI', 'tags': ['seq:step:1'], 'metadata': {'thread_id': '4', 'langgraph_step': 4, 'langgraph_node': 'SuperBot', 'langgraph_triggers': ('branch:to:SuperBot',), 'langgraph_path': ('__pregel_pull', 'SuperBot'), 'langgraph_checkpoint_ns': 'SuperBot:a51261e8-1add-aa6b-8ee5-fc199c46e07c', 'checkpoint_ns': 'SuperBot:a51261e8-1add-aa6b-8ee5-fc199c46e07c', 'ls_provider': 'openai', 'ls_model_name': 'gpt-4o', 'ls_model_type': 'chat', 'ls_temperature': 0.0}, 'parent_ids': ['67382206-0032-4cb0-a324-9362009a39ea', '422ecf77-37be-463d-b56b-1b9e460eaea8']}\n",
      "{'event': 'on_chat_model_stream', 'data': {'chunk': AIMessageChunk(content=' you', additional_kwargs={}, response_metadata={}, id='run--71b06b89-f7ef-4cf9-ab56-83ea141a213e')}, 'run_id': '71b06b89-f7ef-4cf9-ab56-83ea141a213e', 'name': 'ChatOpenAI', 'tags': ['seq:step:1'], 'metadata': {'thread_id': '4', 'langgraph_step': 4, 'langgraph_node': 'SuperBot', 'langgraph_triggers': ('branch:to:SuperBot',), 'langgraph_path': ('__pregel_pull', 'SuperBot'), 'langgraph_checkpoint_ns': 'SuperBot:a51261e8-1add-aa6b-8ee5-fc199c46e07c', 'checkpoint_ns': 'SuperBot:a51261e8-1add-aa6b-8ee5-fc199c46e07c', 'ls_provider': 'openai', 'ls_model_name': 'gpt-4o', 'ls_model_type': 'chat', 'ls_temperature': 0.0}, 'parent_ids': ['67382206-0032-4cb0-a324-9362009a39ea', '422ecf77-37be-463d-b56b-1b9e460eaea8']}\n",
      "{'event': 'on_chat_model_stream', 'data': {'chunk': AIMessageChunk(content=' enjoy', additional_kwargs={}, response_metadata={}, id='run--71b06b89-f7ef-4cf9-ab56-83ea141a213e')}, 'run_id': '71b06b89-f7ef-4cf9-ab56-83ea141a213e', 'name': 'ChatOpenAI', 'tags': ['seq:step:1'], 'metadata': {'thread_id': '4', 'langgraph_step': 4, 'langgraph_node': 'SuperBot', 'langgraph_triggers': ('branch:to:SuperBot',), 'langgraph_path': ('__pregel_pull', 'SuperBot'), 'langgraph_checkpoint_ns': 'SuperBot:a51261e8-1add-aa6b-8ee5-fc199c46e07c', 'checkpoint_ns': 'SuperBot:a51261e8-1add-aa6b-8ee5-fc199c46e07c', 'ls_provider': 'openai', 'ls_model_name': 'gpt-4o', 'ls_model_type': 'chat', 'ls_temperature': 0.0}, 'parent_ids': ['67382206-0032-4cb0-a324-9362009a39ea', '422ecf77-37be-463d-b56b-1b9e460eaea8']}\n",
      "{'event': 'on_chat_model_stream', 'data': {'chunk': AIMessageChunk(content=' playing', additional_kwargs={}, response_metadata={}, id='run--71b06b89-f7ef-4cf9-ab56-83ea141a213e')}, 'run_id': '71b06b89-f7ef-4cf9-ab56-83ea141a213e', 'name': 'ChatOpenAI', 'tags': ['seq:step:1'], 'metadata': {'thread_id': '4', 'langgraph_step': 4, 'langgraph_node': 'SuperBot', 'langgraph_triggers': ('branch:to:SuperBot',), 'langgraph_path': ('__pregel_pull', 'SuperBot'), 'langgraph_checkpoint_ns': 'SuperBot:a51261e8-1add-aa6b-8ee5-fc199c46e07c', 'checkpoint_ns': 'SuperBot:a51261e8-1add-aa6b-8ee5-fc199c46e07c', 'ls_provider': 'openai', 'ls_model_name': 'gpt-4o', 'ls_model_type': 'chat', 'ls_temperature': 0.0}, 'parent_ids': ['67382206-0032-4cb0-a324-9362009a39ea', '422ecf77-37be-463d-b56b-1b9e460eaea8']}\n",
      "{'event': 'on_chat_model_stream', 'data': {'chunk': AIMessageChunk(content=' cricket', additional_kwargs={}, response_metadata={}, id='run--71b06b89-f7ef-4cf9-ab56-83ea141a213e')}, 'run_id': '71b06b89-f7ef-4cf9-ab56-83ea141a213e', 'name': 'ChatOpenAI', 'tags': ['seq:step:1'], 'metadata': {'thread_id': '4', 'langgraph_step': 4, 'langgraph_node': 'SuperBot', 'langgraph_triggers': ('branch:to:SuperBot',), 'langgraph_path': ('__pregel_pull', 'SuperBot'), 'langgraph_checkpoint_ns': 'SuperBot:a51261e8-1add-aa6b-8ee5-fc199c46e07c', 'checkpoint_ns': 'SuperBot:a51261e8-1add-aa6b-8ee5-fc199c46e07c', 'ls_provider': 'openai', 'ls_model_name': 'gpt-4o', 'ls_model_type': 'chat', 'ls_temperature': 0.0}, 'parent_ids': ['67382206-0032-4cb0-a324-9362009a39ea', '422ecf77-37be-463d-b56b-1b9e460eaea8']}\n",
      "{'event': 'on_chat_model_stream', 'data': {'chunk': AIMessageChunk(content='.', additional_kwargs={}, response_metadata={}, id='run--71b06b89-f7ef-4cf9-ab56-83ea141a213e')}, 'run_id': '71b06b89-f7ef-4cf9-ab56-83ea141a213e', 'name': 'ChatOpenAI', 'tags': ['seq:step:1'], 'metadata': {'thread_id': '4', 'langgraph_step': 4, 'langgraph_node': 'SuperBot', 'langgraph_triggers': ('branch:to:SuperBot',), 'langgraph_path': ('__pregel_pull', 'SuperBot'), 'langgraph_checkpoint_ns': 'SuperBot:a51261e8-1add-aa6b-8ee5-fc199c46e07c', 'checkpoint_ns': 'SuperBot:a51261e8-1add-aa6b-8ee5-fc199c46e07c', 'ls_provider': 'openai', 'ls_model_name': 'gpt-4o', 'ls_model_type': 'chat', 'ls_temperature': 0.0}, 'parent_ids': ['67382206-0032-4cb0-a324-9362009a39ea', '422ecf77-37be-463d-b56b-1b9e460eaea8']}\n",
      "{'event': 'on_chat_model_stream', 'data': {'chunk': AIMessageChunk(content=\" It's\", additional_kwargs={}, response_metadata={}, id='run--71b06b89-f7ef-4cf9-ab56-83ea141a213e')}, 'run_id': '71b06b89-f7ef-4cf9-ab56-83ea141a213e', 'name': 'ChatOpenAI', 'tags': ['seq:step:1'], 'metadata': {'thread_id': '4', 'langgraph_step': 4, 'langgraph_node': 'SuperBot', 'langgraph_triggers': ('branch:to:SuperBot',), 'langgraph_path': ('__pregel_pull', 'SuperBot'), 'langgraph_checkpoint_ns': 'SuperBot:a51261e8-1add-aa6b-8ee5-fc199c46e07c', 'checkpoint_ns': 'SuperBot:a51261e8-1add-aa6b-8ee5-fc199c46e07c', 'ls_provider': 'openai', 'ls_model_name': 'gpt-4o', 'ls_model_type': 'chat', 'ls_temperature': 0.0}, 'parent_ids': ['67382206-0032-4cb0-a324-9362009a39ea', '422ecf77-37be-463d-b56b-1b9e460eaea8']}\n",
      "{'event': 'on_chat_model_stream', 'data': {'chunk': AIMessageChunk(content=' a', additional_kwargs={}, response_metadata={}, id='run--71b06b89-f7ef-4cf9-ab56-83ea141a213e')}, 'run_id': '71b06b89-f7ef-4cf9-ab56-83ea141a213e', 'name': 'ChatOpenAI', 'tags': ['seq:step:1'], 'metadata': {'thread_id': '4', 'langgraph_step': 4, 'langgraph_node': 'SuperBot', 'langgraph_triggers': ('branch:to:SuperBot',), 'langgraph_path': ('__pregel_pull', 'SuperBot'), 'langgraph_checkpoint_ns': 'SuperBot:a51261e8-1add-aa6b-8ee5-fc199c46e07c', 'checkpoint_ns': 'SuperBot:a51261e8-1add-aa6b-8ee5-fc199c46e07c', 'ls_provider': 'openai', 'ls_model_name': 'gpt-4o', 'ls_model_type': 'chat', 'ls_temperature': 0.0}, 'parent_ids': ['67382206-0032-4cb0-a324-9362009a39ea', '422ecf77-37be-463d-b56b-1b9e460eaea8']}\n",
      "{'event': 'on_chat_model_stream', 'data': {'chunk': AIMessageChunk(content=' fantastic', additional_kwargs={}, response_metadata={}, id='run--71b06b89-f7ef-4cf9-ab56-83ea141a213e')}, 'run_id': '71b06b89-f7ef-4cf9-ab56-83ea141a213e', 'name': 'ChatOpenAI', 'tags': ['seq:step:1'], 'metadata': {'thread_id': '4', 'langgraph_step': 4, 'langgraph_node': 'SuperBot', 'langgraph_triggers': ('branch:to:SuperBot',), 'langgraph_path': ('__pregel_pull', 'SuperBot'), 'langgraph_checkpoint_ns': 'SuperBot:a51261e8-1add-aa6b-8ee5-fc199c46e07c', 'checkpoint_ns': 'SuperBot:a51261e8-1add-aa6b-8ee5-fc199c46e07c', 'ls_provider': 'openai', 'ls_model_name': 'gpt-4o', 'ls_model_type': 'chat', 'ls_temperature': 0.0}, 'parent_ids': ['67382206-0032-4cb0-a324-9362009a39ea', '422ecf77-37be-463d-b56b-1b9e460eaea8']}\n",
      "{'event': 'on_chat_model_stream', 'data': {'chunk': AIMessageChunk(content=' sport', additional_kwargs={}, response_metadata={}, id='run--71b06b89-f7ef-4cf9-ab56-83ea141a213e')}, 'run_id': '71b06b89-f7ef-4cf9-ab56-83ea141a213e', 'name': 'ChatOpenAI', 'tags': ['seq:step:1'], 'metadata': {'thread_id': '4', 'langgraph_step': 4, 'langgraph_node': 'SuperBot', 'langgraph_triggers': ('branch:to:SuperBot',), 'langgraph_path': ('__pregel_pull', 'SuperBot'), 'langgraph_checkpoint_ns': 'SuperBot:a51261e8-1add-aa6b-8ee5-fc199c46e07c', 'checkpoint_ns': 'SuperBot:a51261e8-1add-aa6b-8ee5-fc199c46e07c', 'ls_provider': 'openai', 'ls_model_name': 'gpt-4o', 'ls_model_type': 'chat', 'ls_temperature': 0.0}, 'parent_ids': ['67382206-0032-4cb0-a324-9362009a39ea', '422ecf77-37be-463d-b56b-1b9e460eaea8']}\n",
      "{'event': 'on_chat_model_stream', 'data': {'chunk': AIMessageChunk(content=' that', additional_kwargs={}, response_metadata={}, id='run--71b06b89-f7ef-4cf9-ab56-83ea141a213e')}, 'run_id': '71b06b89-f7ef-4cf9-ab56-83ea141a213e', 'name': 'ChatOpenAI', 'tags': ['seq:step:1'], 'metadata': {'thread_id': '4', 'langgraph_step': 4, 'langgraph_node': 'SuperBot', 'langgraph_triggers': ('branch:to:SuperBot',), 'langgraph_path': ('__pregel_pull', 'SuperBot'), 'langgraph_checkpoint_ns': 'SuperBot:a51261e8-1add-aa6b-8ee5-fc199c46e07c', 'checkpoint_ns': 'SuperBot:a51261e8-1add-aa6b-8ee5-fc199c46e07c', 'ls_provider': 'openai', 'ls_model_name': 'gpt-4o', 'ls_model_type': 'chat', 'ls_temperature': 0.0}, 'parent_ids': ['67382206-0032-4cb0-a324-9362009a39ea', '422ecf77-37be-463d-b56b-1b9e460eaea8']}\n",
      "{'event': 'on_chat_model_stream', 'data': {'chunk': AIMessageChunk(content=' requires', additional_kwargs={}, response_metadata={}, id='run--71b06b89-f7ef-4cf9-ab56-83ea141a213e')}, 'run_id': '71b06b89-f7ef-4cf9-ab56-83ea141a213e', 'name': 'ChatOpenAI', 'tags': ['seq:step:1'], 'metadata': {'thread_id': '4', 'langgraph_step': 4, 'langgraph_node': 'SuperBot', 'langgraph_triggers': ('branch:to:SuperBot',), 'langgraph_path': ('__pregel_pull', 'SuperBot'), 'langgraph_checkpoint_ns': 'SuperBot:a51261e8-1add-aa6b-8ee5-fc199c46e07c', 'checkpoint_ns': 'SuperBot:a51261e8-1add-aa6b-8ee5-fc199c46e07c', 'ls_provider': 'openai', 'ls_model_name': 'gpt-4o', 'ls_model_type': 'chat', 'ls_temperature': 0.0}, 'parent_ids': ['67382206-0032-4cb0-a324-9362009a39ea', '422ecf77-37be-463d-b56b-1b9e460eaea8']}\n",
      "{'event': 'on_chat_model_stream', 'data': {'chunk': AIMessageChunk(content=' skill', additional_kwargs={}, response_metadata={}, id='run--71b06b89-f7ef-4cf9-ab56-83ea141a213e')}, 'run_id': '71b06b89-f7ef-4cf9-ab56-83ea141a213e', 'name': 'ChatOpenAI', 'tags': ['seq:step:1'], 'metadata': {'thread_id': '4', 'langgraph_step': 4, 'langgraph_node': 'SuperBot', 'langgraph_triggers': ('branch:to:SuperBot',), 'langgraph_path': ('__pregel_pull', 'SuperBot'), 'langgraph_checkpoint_ns': 'SuperBot:a51261e8-1add-aa6b-8ee5-fc199c46e07c', 'checkpoint_ns': 'SuperBot:a51261e8-1add-aa6b-8ee5-fc199c46e07c', 'ls_provider': 'openai', 'ls_model_name': 'gpt-4o', 'ls_model_type': 'chat', 'ls_temperature': 0.0}, 'parent_ids': ['67382206-0032-4cb0-a324-9362009a39ea', '422ecf77-37be-463d-b56b-1b9e460eaea8']}\n",
      "{'event': 'on_chat_model_stream', 'data': {'chunk': AIMessageChunk(content=',', additional_kwargs={}, response_metadata={}, id='run--71b06b89-f7ef-4cf9-ab56-83ea141a213e')}, 'run_id': '71b06b89-f7ef-4cf9-ab56-83ea141a213e', 'name': 'ChatOpenAI', 'tags': ['seq:step:1'], 'metadata': {'thread_id': '4', 'langgraph_step': 4, 'langgraph_node': 'SuperBot', 'langgraph_triggers': ('branch:to:SuperBot',), 'langgraph_path': ('__pregel_pull', 'SuperBot'), 'langgraph_checkpoint_ns': 'SuperBot:a51261e8-1add-aa6b-8ee5-fc199c46e07c', 'checkpoint_ns': 'SuperBot:a51261e8-1add-aa6b-8ee5-fc199c46e07c', 'ls_provider': 'openai', 'ls_model_name': 'gpt-4o', 'ls_model_type': 'chat', 'ls_temperature': 0.0}, 'parent_ids': ['67382206-0032-4cb0-a324-9362009a39ea', '422ecf77-37be-463d-b56b-1b9e460eaea8']}\n",
      "{'event': 'on_chat_model_stream', 'data': {'chunk': AIMessageChunk(content=' strategy', additional_kwargs={}, response_metadata={}, id='run--71b06b89-f7ef-4cf9-ab56-83ea141a213e')}, 'run_id': '71b06b89-f7ef-4cf9-ab56-83ea141a213e', 'name': 'ChatOpenAI', 'tags': ['seq:step:1'], 'metadata': {'thread_id': '4', 'langgraph_step': 4, 'langgraph_node': 'SuperBot', 'langgraph_triggers': ('branch:to:SuperBot',), 'langgraph_path': ('__pregel_pull', 'SuperBot'), 'langgraph_checkpoint_ns': 'SuperBot:a51261e8-1add-aa6b-8ee5-fc199c46e07c', 'checkpoint_ns': 'SuperBot:a51261e8-1add-aa6b-8ee5-fc199c46e07c', 'ls_provider': 'openai', 'ls_model_name': 'gpt-4o', 'ls_model_type': 'chat', 'ls_temperature': 0.0}, 'parent_ids': ['67382206-0032-4cb0-a324-9362009a39ea', '422ecf77-37be-463d-b56b-1b9e460eaea8']}\n",
      "{'event': 'on_chat_model_stream', 'data': {'chunk': AIMessageChunk(content=',', additional_kwargs={}, response_metadata={}, id='run--71b06b89-f7ef-4cf9-ab56-83ea141a213e')}, 'run_id': '71b06b89-f7ef-4cf9-ab56-83ea141a213e', 'name': 'ChatOpenAI', 'tags': ['seq:step:1'], 'metadata': {'thread_id': '4', 'langgraph_step': 4, 'langgraph_node': 'SuperBot', 'langgraph_triggers': ('branch:to:SuperBot',), 'langgraph_path': ('__pregel_pull', 'SuperBot'), 'langgraph_checkpoint_ns': 'SuperBot:a51261e8-1add-aa6b-8ee5-fc199c46e07c', 'checkpoint_ns': 'SuperBot:a51261e8-1add-aa6b-8ee5-fc199c46e07c', 'ls_provider': 'openai', 'ls_model_name': 'gpt-4o', 'ls_model_type': 'chat', 'ls_temperature': 0.0}, 'parent_ids': ['67382206-0032-4cb0-a324-9362009a39ea', '422ecf77-37be-463d-b56b-1b9e460eaea8']}\n",
      "{'event': 'on_chat_model_stream', 'data': {'chunk': AIMessageChunk(content=' and', additional_kwargs={}, response_metadata={}, id='run--71b06b89-f7ef-4cf9-ab56-83ea141a213e')}, 'run_id': '71b06b89-f7ef-4cf9-ab56-83ea141a213e', 'name': 'ChatOpenAI', 'tags': ['seq:step:1'], 'metadata': {'thread_id': '4', 'langgraph_step': 4, 'langgraph_node': 'SuperBot', 'langgraph_triggers': ('branch:to:SuperBot',), 'langgraph_path': ('__pregel_pull', 'SuperBot'), 'langgraph_checkpoint_ns': 'SuperBot:a51261e8-1add-aa6b-8ee5-fc199c46e07c', 'checkpoint_ns': 'SuperBot:a51261e8-1add-aa6b-8ee5-fc199c46e07c', 'ls_provider': 'openai', 'ls_model_name': 'gpt-4o', 'ls_model_type': 'chat', 'ls_temperature': 0.0}, 'parent_ids': ['67382206-0032-4cb0-a324-9362009a39ea', '422ecf77-37be-463d-b56b-1b9e460eaea8']}\n",
      "{'event': 'on_chat_model_stream', 'data': {'chunk': AIMessageChunk(content=' teamwork', additional_kwargs={}, response_metadata={}, id='run--71b06b89-f7ef-4cf9-ab56-83ea141a213e')}, 'run_id': '71b06b89-f7ef-4cf9-ab56-83ea141a213e', 'name': 'ChatOpenAI', 'tags': ['seq:step:1'], 'metadata': {'thread_id': '4', 'langgraph_step': 4, 'langgraph_node': 'SuperBot', 'langgraph_triggers': ('branch:to:SuperBot',), 'langgraph_path': ('__pregel_pull', 'SuperBot'), 'langgraph_checkpoint_ns': 'SuperBot:a51261e8-1add-aa6b-8ee5-fc199c46e07c', 'checkpoint_ns': 'SuperBot:a51261e8-1add-aa6b-8ee5-fc199c46e07c', 'ls_provider': 'openai', 'ls_model_name': 'gpt-4o', 'ls_model_type': 'chat', 'ls_temperature': 0.0}, 'parent_ids': ['67382206-0032-4cb0-a324-9362009a39ea', '422ecf77-37be-463d-b56b-1b9e460eaea8']}\n",
      "{'event': 'on_chat_model_stream', 'data': {'chunk': AIMessageChunk(content='.', additional_kwargs={}, response_metadata={}, id='run--71b06b89-f7ef-4cf9-ab56-83ea141a213e')}, 'run_id': '71b06b89-f7ef-4cf9-ab56-83ea141a213e', 'name': 'ChatOpenAI', 'tags': ['seq:step:1'], 'metadata': {'thread_id': '4', 'langgraph_step': 4, 'langgraph_node': 'SuperBot', 'langgraph_triggers': ('branch:to:SuperBot',), 'langgraph_path': ('__pregel_pull', 'SuperBot'), 'langgraph_checkpoint_ns': 'SuperBot:a51261e8-1add-aa6b-8ee5-fc199c46e07c', 'checkpoint_ns': 'SuperBot:a51261e8-1add-aa6b-8ee5-fc199c46e07c', 'ls_provider': 'openai', 'ls_model_name': 'gpt-4o', 'ls_model_type': 'chat', 'ls_temperature': 0.0}, 'parent_ids': ['67382206-0032-4cb0-a324-9362009a39ea', '422ecf77-37be-463d-b56b-1b9e460eaea8']}\n",
      "{'event': 'on_chat_model_stream', 'data': {'chunk': AIMessageChunk(content=' Do', additional_kwargs={}, response_metadata={}, id='run--71b06b89-f7ef-4cf9-ab56-83ea141a213e')}, 'run_id': '71b06b89-f7ef-4cf9-ab56-83ea141a213e', 'name': 'ChatOpenAI', 'tags': ['seq:step:1'], 'metadata': {'thread_id': '4', 'langgraph_step': 4, 'langgraph_node': 'SuperBot', 'langgraph_triggers': ('branch:to:SuperBot',), 'langgraph_path': ('__pregel_pull', 'SuperBot'), 'langgraph_checkpoint_ns': 'SuperBot:a51261e8-1add-aa6b-8ee5-fc199c46e07c', 'checkpoint_ns': 'SuperBot:a51261e8-1add-aa6b-8ee5-fc199c46e07c', 'ls_provider': 'openai', 'ls_model_name': 'gpt-4o', 'ls_model_type': 'chat', 'ls_temperature': 0.0}, 'parent_ids': ['67382206-0032-4cb0-a324-9362009a39ea', '422ecf77-37be-463d-b56b-1b9e460eaea8']}\n",
      "{'event': 'on_chat_model_stream', 'data': {'chunk': AIMessageChunk(content=' you', additional_kwargs={}, response_metadata={}, id='run--71b06b89-f7ef-4cf9-ab56-83ea141a213e')}, 'run_id': '71b06b89-f7ef-4cf9-ab56-83ea141a213e', 'name': 'ChatOpenAI', 'tags': ['seq:step:1'], 'metadata': {'thread_id': '4', 'langgraph_step': 4, 'langgraph_node': 'SuperBot', 'langgraph_triggers': ('branch:to:SuperBot',), 'langgraph_path': ('__pregel_pull', 'SuperBot'), 'langgraph_checkpoint_ns': 'SuperBot:a51261e8-1add-aa6b-8ee5-fc199c46e07c', 'checkpoint_ns': 'SuperBot:a51261e8-1add-aa6b-8ee5-fc199c46e07c', 'ls_provider': 'openai', 'ls_model_name': 'gpt-4o', 'ls_model_type': 'chat', 'ls_temperature': 0.0}, 'parent_ids': ['67382206-0032-4cb0-a324-9362009a39ea', '422ecf77-37be-463d-b56b-1b9e460eaea8']}\n",
      "{'event': 'on_chat_model_stream', 'data': {'chunk': AIMessageChunk(content=' play', additional_kwargs={}, response_metadata={}, id='run--71b06b89-f7ef-4cf9-ab56-83ea141a213e')}, 'run_id': '71b06b89-f7ef-4cf9-ab56-83ea141a213e', 'name': 'ChatOpenAI', 'tags': ['seq:step:1'], 'metadata': {'thread_id': '4', 'langgraph_step': 4, 'langgraph_node': 'SuperBot', 'langgraph_triggers': ('branch:to:SuperBot',), 'langgraph_path': ('__pregel_pull', 'SuperBot'), 'langgraph_checkpoint_ns': 'SuperBot:a51261e8-1add-aa6b-8ee5-fc199c46e07c', 'checkpoint_ns': 'SuperBot:a51261e8-1add-aa6b-8ee5-fc199c46e07c', 'ls_provider': 'openai', 'ls_model_name': 'gpt-4o', 'ls_model_type': 'chat', 'ls_temperature': 0.0}, 'parent_ids': ['67382206-0032-4cb0-a324-9362009a39ea', '422ecf77-37be-463d-b56b-1b9e460eaea8']}\n",
      "{'event': 'on_chat_model_stream', 'data': {'chunk': AIMessageChunk(content=' for', additional_kwargs={}, response_metadata={}, id='run--71b06b89-f7ef-4cf9-ab56-83ea141a213e')}, 'run_id': '71b06b89-f7ef-4cf9-ab56-83ea141a213e', 'name': 'ChatOpenAI', 'tags': ['seq:step:1'], 'metadata': {'thread_id': '4', 'langgraph_step': 4, 'langgraph_node': 'SuperBot', 'langgraph_triggers': ('branch:to:SuperBot',), 'langgraph_path': ('__pregel_pull', 'SuperBot'), 'langgraph_checkpoint_ns': 'SuperBot:a51261e8-1add-aa6b-8ee5-fc199c46e07c', 'checkpoint_ns': 'SuperBot:a51261e8-1add-aa6b-8ee5-fc199c46e07c', 'ls_provider': 'openai', 'ls_model_name': 'gpt-4o', 'ls_model_type': 'chat', 'ls_temperature': 0.0}, 'parent_ids': ['67382206-0032-4cb0-a324-9362009a39ea', '422ecf77-37be-463d-b56b-1b9e460eaea8']}\n",
      "{'event': 'on_chat_model_stream', 'data': {'chunk': AIMessageChunk(content=' a', additional_kwargs={}, response_metadata={}, id='run--71b06b89-f7ef-4cf9-ab56-83ea141a213e')}, 'run_id': '71b06b89-f7ef-4cf9-ab56-83ea141a213e', 'name': 'ChatOpenAI', 'tags': ['seq:step:1'], 'metadata': {'thread_id': '4', 'langgraph_step': 4, 'langgraph_node': 'SuperBot', 'langgraph_triggers': ('branch:to:SuperBot',), 'langgraph_path': ('__pregel_pull', 'SuperBot'), 'langgraph_checkpoint_ns': 'SuperBot:a51261e8-1add-aa6b-8ee5-fc199c46e07c', 'checkpoint_ns': 'SuperBot:a51261e8-1add-aa6b-8ee5-fc199c46e07c', 'ls_provider': 'openai', 'ls_model_name': 'gpt-4o', 'ls_model_type': 'chat', 'ls_temperature': 0.0}, 'parent_ids': ['67382206-0032-4cb0-a324-9362009a39ea', '422ecf77-37be-463d-b56b-1b9e460eaea8']}\n",
      "{'event': 'on_chat_model_stream', 'data': {'chunk': AIMessageChunk(content=' team', additional_kwargs={}, response_metadata={}, id='run--71b06b89-f7ef-4cf9-ab56-83ea141a213e')}, 'run_id': '71b06b89-f7ef-4cf9-ab56-83ea141a213e', 'name': 'ChatOpenAI', 'tags': ['seq:step:1'], 'metadata': {'thread_id': '4', 'langgraph_step': 4, 'langgraph_node': 'SuperBot', 'langgraph_triggers': ('branch:to:SuperBot',), 'langgraph_path': ('__pregel_pull', 'SuperBot'), 'langgraph_checkpoint_ns': 'SuperBot:a51261e8-1add-aa6b-8ee5-fc199c46e07c', 'checkpoint_ns': 'SuperBot:a51261e8-1add-aa6b-8ee5-fc199c46e07c', 'ls_provider': 'openai', 'ls_model_name': 'gpt-4o', 'ls_model_type': 'chat', 'ls_temperature': 0.0}, 'parent_ids': ['67382206-0032-4cb0-a324-9362009a39ea', '422ecf77-37be-463d-b56b-1b9e460eaea8']}\n",
      "{'event': 'on_chat_model_stream', 'data': {'chunk': AIMessageChunk(content=',', additional_kwargs={}, response_metadata={}, id='run--71b06b89-f7ef-4cf9-ab56-83ea141a213e')}, 'run_id': '71b06b89-f7ef-4cf9-ab56-83ea141a213e', 'name': 'ChatOpenAI', 'tags': ['seq:step:1'], 'metadata': {'thread_id': '4', 'langgraph_step': 4, 'langgraph_node': 'SuperBot', 'langgraph_triggers': ('branch:to:SuperBot',), 'langgraph_path': ('__pregel_pull', 'SuperBot'), 'langgraph_checkpoint_ns': 'SuperBot:a51261e8-1add-aa6b-8ee5-fc199c46e07c', 'checkpoint_ns': 'SuperBot:a51261e8-1add-aa6b-8ee5-fc199c46e07c', 'ls_provider': 'openai', 'ls_model_name': 'gpt-4o', 'ls_model_type': 'chat', 'ls_temperature': 0.0}, 'parent_ids': ['67382206-0032-4cb0-a324-9362009a39ea', '422ecf77-37be-463d-b56b-1b9e460eaea8']}\n",
      "{'event': 'on_chat_model_stream', 'data': {'chunk': AIMessageChunk(content=' or', additional_kwargs={}, response_metadata={}, id='run--71b06b89-f7ef-4cf9-ab56-83ea141a213e')}, 'run_id': '71b06b89-f7ef-4cf9-ab56-83ea141a213e', 'name': 'ChatOpenAI', 'tags': ['seq:step:1'], 'metadata': {'thread_id': '4', 'langgraph_step': 4, 'langgraph_node': 'SuperBot', 'langgraph_triggers': ('branch:to:SuperBot',), 'langgraph_path': ('__pregel_pull', 'SuperBot'), 'langgraph_checkpoint_ns': 'SuperBot:a51261e8-1add-aa6b-8ee5-fc199c46e07c', 'checkpoint_ns': 'SuperBot:a51261e8-1add-aa6b-8ee5-fc199c46e07c', 'ls_provider': 'openai', 'ls_model_name': 'gpt-4o', 'ls_model_type': 'chat', 'ls_temperature': 0.0}, 'parent_ids': ['67382206-0032-4cb0-a324-9362009a39ea', '422ecf77-37be-463d-b56b-1b9e460eaea8']}\n",
      "{'event': 'on_chat_model_stream', 'data': {'chunk': AIMessageChunk(content=' do', additional_kwargs={}, response_metadata={}, id='run--71b06b89-f7ef-4cf9-ab56-83ea141a213e')}, 'run_id': '71b06b89-f7ef-4cf9-ab56-83ea141a213e', 'name': 'ChatOpenAI', 'tags': ['seq:step:1'], 'metadata': {'thread_id': '4', 'langgraph_step': 4, 'langgraph_node': 'SuperBot', 'langgraph_triggers': ('branch:to:SuperBot',), 'langgraph_path': ('__pregel_pull', 'SuperBot'), 'langgraph_checkpoint_ns': 'SuperBot:a51261e8-1add-aa6b-8ee5-fc199c46e07c', 'checkpoint_ns': 'SuperBot:a51261e8-1add-aa6b-8ee5-fc199c46e07c', 'ls_provider': 'openai', 'ls_model_name': 'gpt-4o', 'ls_model_type': 'chat', 'ls_temperature': 0.0}, 'parent_ids': ['67382206-0032-4cb0-a324-9362009a39ea', '422ecf77-37be-463d-b56b-1b9e460eaea8']}\n",
      "{'event': 'on_chat_model_stream', 'data': {'chunk': AIMessageChunk(content=' you', additional_kwargs={}, response_metadata={}, id='run--71b06b89-f7ef-4cf9-ab56-83ea141a213e')}, 'run_id': '71b06b89-f7ef-4cf9-ab56-83ea141a213e', 'name': 'ChatOpenAI', 'tags': ['seq:step:1'], 'metadata': {'thread_id': '4', 'langgraph_step': 4, 'langgraph_node': 'SuperBot', 'langgraph_triggers': ('branch:to:SuperBot',), 'langgraph_path': ('__pregel_pull', 'SuperBot'), 'langgraph_checkpoint_ns': 'SuperBot:a51261e8-1add-aa6b-8ee5-fc199c46e07c', 'checkpoint_ns': 'SuperBot:a51261e8-1add-aa6b-8ee5-fc199c46e07c', 'ls_provider': 'openai', 'ls_model_name': 'gpt-4o', 'ls_model_type': 'chat', 'ls_temperature': 0.0}, 'parent_ids': ['67382206-0032-4cb0-a324-9362009a39ea', '422ecf77-37be-463d-b56b-1b9e460eaea8']}\n",
      "{'event': 'on_chat_model_stream', 'data': {'chunk': AIMessageChunk(content=' enjoy', additional_kwargs={}, response_metadata={}, id='run--71b06b89-f7ef-4cf9-ab56-83ea141a213e')}, 'run_id': '71b06b89-f7ef-4cf9-ab56-83ea141a213e', 'name': 'ChatOpenAI', 'tags': ['seq:step:1'], 'metadata': {'thread_id': '4', 'langgraph_step': 4, 'langgraph_node': 'SuperBot', 'langgraph_triggers': ('branch:to:SuperBot',), 'langgraph_path': ('__pregel_pull', 'SuperBot'), 'langgraph_checkpoint_ns': 'SuperBot:a51261e8-1add-aa6b-8ee5-fc199c46e07c', 'checkpoint_ns': 'SuperBot:a51261e8-1add-aa6b-8ee5-fc199c46e07c', 'ls_provider': 'openai', 'ls_model_name': 'gpt-4o', 'ls_model_type': 'chat', 'ls_temperature': 0.0}, 'parent_ids': ['67382206-0032-4cb0-a324-9362009a39ea', '422ecf77-37be-463d-b56b-1b9e460eaea8']}\n",
      "{'event': 'on_chat_model_stream', 'data': {'chunk': AIMessageChunk(content=' playing', additional_kwargs={}, response_metadata={}, id='run--71b06b89-f7ef-4cf9-ab56-83ea141a213e')}, 'run_id': '71b06b89-f7ef-4cf9-ab56-83ea141a213e', 'name': 'ChatOpenAI', 'tags': ['seq:step:1'], 'metadata': {'thread_id': '4', 'langgraph_step': 4, 'langgraph_node': 'SuperBot', 'langgraph_triggers': ('branch:to:SuperBot',), 'langgraph_path': ('__pregel_pull', 'SuperBot'), 'langgraph_checkpoint_ns': 'SuperBot:a51261e8-1add-aa6b-8ee5-fc199c46e07c', 'checkpoint_ns': 'SuperBot:a51261e8-1add-aa6b-8ee5-fc199c46e07c', 'ls_provider': 'openai', 'ls_model_name': 'gpt-4o', 'ls_model_type': 'chat', 'ls_temperature': 0.0}, 'parent_ids': ['67382206-0032-4cb0-a324-9362009a39ea', '422ecf77-37be-463d-b56b-1b9e460eaea8']}\n",
      "{'event': 'on_chat_model_stream', 'data': {'chunk': AIMessageChunk(content=' casually', additional_kwargs={}, response_metadata={}, id='run--71b06b89-f7ef-4cf9-ab56-83ea141a213e')}, 'run_id': '71b06b89-f7ef-4cf9-ab56-83ea141a213e', 'name': 'ChatOpenAI', 'tags': ['seq:step:1'], 'metadata': {'thread_id': '4', 'langgraph_step': 4, 'langgraph_node': 'SuperBot', 'langgraph_triggers': ('branch:to:SuperBot',), 'langgraph_path': ('__pregel_pull', 'SuperBot'), 'langgraph_checkpoint_ns': 'SuperBot:a51261e8-1add-aa6b-8ee5-fc199c46e07c', 'checkpoint_ns': 'SuperBot:a51261e8-1add-aa6b-8ee5-fc199c46e07c', 'ls_provider': 'openai', 'ls_model_name': 'gpt-4o', 'ls_model_type': 'chat', 'ls_temperature': 0.0}, 'parent_ids': ['67382206-0032-4cb0-a324-9362009a39ea', '422ecf77-37be-463d-b56b-1b9e460eaea8']}\n",
      "{'event': 'on_chat_model_stream', 'data': {'chunk': AIMessageChunk(content=' with', additional_kwargs={}, response_metadata={}, id='run--71b06b89-f7ef-4cf9-ab56-83ea141a213e')}, 'run_id': '71b06b89-f7ef-4cf9-ab56-83ea141a213e', 'name': 'ChatOpenAI', 'tags': ['seq:step:1'], 'metadata': {'thread_id': '4', 'langgraph_step': 4, 'langgraph_node': 'SuperBot', 'langgraph_triggers': ('branch:to:SuperBot',), 'langgraph_path': ('__pregel_pull', 'SuperBot'), 'langgraph_checkpoint_ns': 'SuperBot:a51261e8-1add-aa6b-8ee5-fc199c46e07c', 'checkpoint_ns': 'SuperBot:a51261e8-1add-aa6b-8ee5-fc199c46e07c', 'ls_provider': 'openai', 'ls_model_name': 'gpt-4o', 'ls_model_type': 'chat', 'ls_temperature': 0.0}, 'parent_ids': ['67382206-0032-4cb0-a324-9362009a39ea', '422ecf77-37be-463d-b56b-1b9e460eaea8']}\n",
      "{'event': 'on_chat_model_stream', 'data': {'chunk': AIMessageChunk(content=' friends', additional_kwargs={}, response_metadata={}, id='run--71b06b89-f7ef-4cf9-ab56-83ea141a213e')}, 'run_id': '71b06b89-f7ef-4cf9-ab56-83ea141a213e', 'name': 'ChatOpenAI', 'tags': ['seq:step:1'], 'metadata': {'thread_id': '4', 'langgraph_step': 4, 'langgraph_node': 'SuperBot', 'langgraph_triggers': ('branch:to:SuperBot',), 'langgraph_path': ('__pregel_pull', 'SuperBot'), 'langgraph_checkpoint_ns': 'SuperBot:a51261e8-1add-aa6b-8ee5-fc199c46e07c', 'checkpoint_ns': 'SuperBot:a51261e8-1add-aa6b-8ee5-fc199c46e07c', 'ls_provider': 'openai', 'ls_model_name': 'gpt-4o', 'ls_model_type': 'chat', 'ls_temperature': 0.0}, 'parent_ids': ['67382206-0032-4cb0-a324-9362009a39ea', '422ecf77-37be-463d-b56b-1b9e460eaea8']}\n",
      "{'event': 'on_chat_model_stream', 'data': {'chunk': AIMessageChunk(content='?', additional_kwargs={}, response_metadata={}, id='run--71b06b89-f7ef-4cf9-ab56-83ea141a213e')}, 'run_id': '71b06b89-f7ef-4cf9-ab56-83ea141a213e', 'name': 'ChatOpenAI', 'tags': ['seq:step:1'], 'metadata': {'thread_id': '4', 'langgraph_step': 4, 'langgraph_node': 'SuperBot', 'langgraph_triggers': ('branch:to:SuperBot',), 'langgraph_path': ('__pregel_pull', 'SuperBot'), 'langgraph_checkpoint_ns': 'SuperBot:a51261e8-1add-aa6b-8ee5-fc199c46e07c', 'checkpoint_ns': 'SuperBot:a51261e8-1add-aa6b-8ee5-fc199c46e07c', 'ls_provider': 'openai', 'ls_model_name': 'gpt-4o', 'ls_model_type': 'chat', 'ls_temperature': 0.0}, 'parent_ids': ['67382206-0032-4cb0-a324-9362009a39ea', '422ecf77-37be-463d-b56b-1b9e460eaea8']}\n",
      "{'event': 'on_chat_model_stream', 'data': {'chunk': AIMessageChunk(content='', additional_kwargs={}, response_metadata={'finish_reason': 'stop', 'model_name': 'gpt-4o-2024-05-13', 'system_fingerprint': 'fp_ee1d74bde0'}, id='run--71b06b89-f7ef-4cf9-ab56-83ea141a213e')}, 'run_id': '71b06b89-f7ef-4cf9-ab56-83ea141a213e', 'name': 'ChatOpenAI', 'tags': ['seq:step:1'], 'metadata': {'thread_id': '4', 'langgraph_step': 4, 'langgraph_node': 'SuperBot', 'langgraph_triggers': ('branch:to:SuperBot',), 'langgraph_path': ('__pregel_pull', 'SuperBot'), 'langgraph_checkpoint_ns': 'SuperBot:a51261e8-1add-aa6b-8ee5-fc199c46e07c', 'checkpoint_ns': 'SuperBot:a51261e8-1add-aa6b-8ee5-fc199c46e07c', 'ls_provider': 'openai', 'ls_model_name': 'gpt-4o', 'ls_model_type': 'chat', 'ls_temperature': 0.0}, 'parent_ids': ['67382206-0032-4cb0-a324-9362009a39ea', '422ecf77-37be-463d-b56b-1b9e460eaea8']}\n",
      "{'event': 'on_chat_model_end', 'data': {'output': AIMessage(content=\"Hello, Ugundhar! It's great to hear that you enjoy playing cricket. It's a fantastic sport that requires skill, strategy, and teamwork. Do you play for a team, or do you enjoy playing casually with friends?\", additional_kwargs={}, response_metadata={'finish_reason': 'stop', 'model_name': 'gpt-4o-2024-05-13', 'system_fingerprint': 'fp_ee1d74bde0'}, id='run--71b06b89-f7ef-4cf9-ab56-83ea141a213e'), 'input': {'messages': [[HumanMessage(content='my name is ugundhar', additional_kwargs={}, response_metadata={}, id='75de72a5-877e-498a-9263-fae7684bb308'), AIMessage(content='Hello, Ugundhar! How can I assist you today?', additional_kwargs={'refusal': None}, response_metadata={'token_usage': {'completion_tokens': 14, 'prompt_tokens': 13, 'total_tokens': 27, 'completion_tokens_details': {'accepted_prediction_tokens': 0, 'audio_tokens': 0, 'reasoning_tokens': 0, 'rejected_prediction_tokens': 0}, 'prompt_tokens_details': {'audio_tokens': 0, 'cached_tokens': 0}}, 'model_name': 'gpt-4o-2024-05-13', 'system_fingerprint': 'fp_ee1d74bde0', 'id': 'chatcmpl-BtxLWDYmVEaedJ7H7pYnoa9lfHzmW', 'service_tier': None, 'finish_reason': 'stop', 'logprobs': None}, id='run--17d03115-171d-4ac3-86b2-caaa5c00b825-0', usage_metadata={'input_tokens': 13, 'output_tokens': 14, 'total_tokens': 27, 'input_token_details': {'audio': 0, 'cache_read': 0}, 'output_token_details': {'audio': 0, 'reasoning': 0}}), HumanMessage(content=' my name is ugundhar and I, also like playing cricker', additional_kwargs={}, response_metadata={}, id='e6bc91f9-6efa-47fb-8312-90af9a88203b')]]}}, 'run_id': '71b06b89-f7ef-4cf9-ab56-83ea141a213e', 'name': 'ChatOpenAI', 'tags': ['seq:step:1'], 'metadata': {'thread_id': '4', 'langgraph_step': 4, 'langgraph_node': 'SuperBot', 'langgraph_triggers': ('branch:to:SuperBot',), 'langgraph_path': ('__pregel_pull', 'SuperBot'), 'langgraph_checkpoint_ns': 'SuperBot:a51261e8-1add-aa6b-8ee5-fc199c46e07c', 'checkpoint_ns': 'SuperBot:a51261e8-1add-aa6b-8ee5-fc199c46e07c', 'ls_provider': 'openai', 'ls_model_name': 'gpt-4o', 'ls_model_type': 'chat', 'ls_temperature': 0.0}, 'parent_ids': ['67382206-0032-4cb0-a324-9362009a39ea', '422ecf77-37be-463d-b56b-1b9e460eaea8']}\n",
      "{'event': 'on_chain_stream', 'run_id': '422ecf77-37be-463d-b56b-1b9e460eaea8', 'name': 'SuperBot', 'tags': ['graph:step:4'], 'metadata': {'thread_id': '4', 'langgraph_step': 4, 'langgraph_node': 'SuperBot', 'langgraph_triggers': ('branch:to:SuperBot',), 'langgraph_path': ('__pregel_pull', 'SuperBot'), 'langgraph_checkpoint_ns': 'SuperBot:a51261e8-1add-aa6b-8ee5-fc199c46e07c'}, 'data': {'chunk': {'messages': AIMessage(content=\"Hello, Ugundhar! It's great to hear that you enjoy playing cricket. It's a fantastic sport that requires skill, strategy, and teamwork. Do you play for a team, or do you enjoy playing casually with friends?\", additional_kwargs={}, response_metadata={'finish_reason': 'stop', 'model_name': 'gpt-4o-2024-05-13', 'system_fingerprint': 'fp_ee1d74bde0'}, id='run--71b06b89-f7ef-4cf9-ab56-83ea141a213e')}}, 'parent_ids': ['67382206-0032-4cb0-a324-9362009a39ea']}\n",
      "{'event': 'on_chain_end', 'data': {'output': {'messages': AIMessage(content=\"Hello, Ugundhar! It's great to hear that you enjoy playing cricket. It's a fantastic sport that requires skill, strategy, and teamwork. Do you play for a team, or do you enjoy playing casually with friends?\", additional_kwargs={}, response_metadata={'finish_reason': 'stop', 'model_name': 'gpt-4o-2024-05-13', 'system_fingerprint': 'fp_ee1d74bde0'}, id='run--71b06b89-f7ef-4cf9-ab56-83ea141a213e')}, 'input': {'messages': [HumanMessage(content='my name is ugundhar', additional_kwargs={}, response_metadata={}, id='75de72a5-877e-498a-9263-fae7684bb308'), AIMessage(content='Hello, Ugundhar! How can I assist you today?', additional_kwargs={'refusal': None}, response_metadata={'token_usage': {'completion_tokens': 14, 'prompt_tokens': 13, 'total_tokens': 27, 'completion_tokens_details': {'accepted_prediction_tokens': 0, 'audio_tokens': 0, 'reasoning_tokens': 0, 'rejected_prediction_tokens': 0}, 'prompt_tokens_details': {'audio_tokens': 0, 'cached_tokens': 0}}, 'model_name': 'gpt-4o-2024-05-13', 'system_fingerprint': 'fp_ee1d74bde0', 'id': 'chatcmpl-BtxLWDYmVEaedJ7H7pYnoa9lfHzmW', 'service_tier': None, 'finish_reason': 'stop', 'logprobs': None}, id='run--17d03115-171d-4ac3-86b2-caaa5c00b825-0', usage_metadata={'input_tokens': 13, 'output_tokens': 14, 'total_tokens': 27, 'input_token_details': {'audio': 0, 'cache_read': 0}, 'output_token_details': {'audio': 0, 'reasoning': 0}}), HumanMessage(content=' my name is ugundhar and I, also like playing cricker', additional_kwargs={}, response_metadata={}, id='e6bc91f9-6efa-47fb-8312-90af9a88203b')]}}, 'run_id': '422ecf77-37be-463d-b56b-1b9e460eaea8', 'name': 'SuperBot', 'tags': ['graph:step:4'], 'metadata': {'thread_id': '4', 'langgraph_step': 4, 'langgraph_node': 'SuperBot', 'langgraph_triggers': ('branch:to:SuperBot',), 'langgraph_path': ('__pregel_pull', 'SuperBot'), 'langgraph_checkpoint_ns': 'SuperBot:a51261e8-1add-aa6b-8ee5-fc199c46e07c'}, 'parent_ids': ['67382206-0032-4cb0-a324-9362009a39ea']}\n",
      "{'event': 'on_chain_stream', 'run_id': '67382206-0032-4cb0-a324-9362009a39ea', 'name': 'LangGraph', 'tags': [], 'metadata': {'thread_id': '4'}, 'data': {'chunk': {'SuperBot': {'messages': AIMessage(content=\"Hello, Ugundhar! It's great to hear that you enjoy playing cricket. It's a fantastic sport that requires skill, strategy, and teamwork. Do you play for a team, or do you enjoy playing casually with friends?\", additional_kwargs={}, response_metadata={'finish_reason': 'stop', 'model_name': 'gpt-4o-2024-05-13', 'system_fingerprint': 'fp_ee1d74bde0'}, id='run--71b06b89-f7ef-4cf9-ab56-83ea141a213e')}}}, 'parent_ids': []}\n",
      "{'event': 'on_chain_end', 'data': {'output': {'messages': [HumanMessage(content='my name is ugundhar', additional_kwargs={}, response_metadata={}, id='75de72a5-877e-498a-9263-fae7684bb308'), AIMessage(content='Hello, Ugundhar! How can I assist you today?', additional_kwargs={'refusal': None}, response_metadata={'token_usage': {'completion_tokens': 14, 'prompt_tokens': 13, 'total_tokens': 27, 'completion_tokens_details': {'accepted_prediction_tokens': 0, 'audio_tokens': 0, 'reasoning_tokens': 0, 'rejected_prediction_tokens': 0}, 'prompt_tokens_details': {'audio_tokens': 0, 'cached_tokens': 0}}, 'model_name': 'gpt-4o-2024-05-13', 'system_fingerprint': 'fp_ee1d74bde0', 'id': 'chatcmpl-BtxLWDYmVEaedJ7H7pYnoa9lfHzmW', 'service_tier': None, 'finish_reason': 'stop', 'logprobs': None}, id='run--17d03115-171d-4ac3-86b2-caaa5c00b825-0', usage_metadata={'input_tokens': 13, 'output_tokens': 14, 'total_tokens': 27, 'input_token_details': {'audio': 0, 'cache_read': 0}, 'output_token_details': {'audio': 0, 'reasoning': 0}}), HumanMessage(content=' my name is ugundhar and I, also like playing cricker', additional_kwargs={}, response_metadata={}, id='e6bc91f9-6efa-47fb-8312-90af9a88203b'), AIMessage(content=\"Hello, Ugundhar! It's great to hear that you enjoy playing cricket. It's a fantastic sport that requires skill, strategy, and teamwork. Do you play for a team, or do you enjoy playing casually with friends?\", additional_kwargs={}, response_metadata={'finish_reason': 'stop', 'model_name': 'gpt-4o-2024-05-13', 'system_fingerprint': 'fp_ee1d74bde0'}, id='run--71b06b89-f7ef-4cf9-ab56-83ea141a213e')]}}, 'run_id': '67382206-0032-4cb0-a324-9362009a39ea', 'name': 'LangGraph', 'tags': [], 'metadata': {'thread_id': '4'}, 'parent_ids': []}\n"
     ]
    }
   ],
   "source": [
    "config={\"configurable\":{\"thread_id\":\"4\"}}\n",
    "async for chunk in graph_builder.astream_events({\"messages\":\" my name is ugundhar and I, also like playing cricker\"},config=config):\n",
    "    print(chunk)"
   ]
  },
  {
   "cell_type": "markdown",
   "id": "fd3f96d2",
   "metadata": {},
   "source": [
    "| Parameter      | Purpose                                   |\n",
    "| -------------- | ----------------------------------------- |\n",
    "| `version=\"v1\"` | Basic event format (older or minimal use) |\n",
    "| `version=\"v2\"` | Rich, structured events with metadata     |\n"
   ]
  },
  {
   "cell_type": "code",
   "execution_count": 143,
   "id": "72aa0f8b",
   "metadata": {},
   "outputs": [
    {
     "name": "stdout",
     "output_type": "stream",
     "text": [
      "{'event': 'on_chain_start', 'data': {'input': {'messages': ' my name is ugundhar and I, also like playing cricker'}}, 'name': 'LangGraph', 'tags': [], 'run_id': '10ad5742-4236-455f-aa0f-f9bb7ae72134', 'metadata': {'thread_id': '4'}, 'parent_ids': []}\n",
      "{'event': 'on_chain_start', 'data': {'input': {'messages': [HumanMessage(content='my name is ugundhar', additional_kwargs={}, response_metadata={}, id='75de72a5-877e-498a-9263-fae7684bb308'), AIMessage(content='Hello, Ugundhar! How can I assist you today?', additional_kwargs={'refusal': None}, response_metadata={'token_usage': {'completion_tokens': 14, 'prompt_tokens': 13, 'total_tokens': 27, 'completion_tokens_details': {'accepted_prediction_tokens': 0, 'audio_tokens': 0, 'reasoning_tokens': 0, 'rejected_prediction_tokens': 0}, 'prompt_tokens_details': {'audio_tokens': 0, 'cached_tokens': 0}}, 'model_name': 'gpt-4o-2024-05-13', 'system_fingerprint': 'fp_ee1d74bde0', 'id': 'chatcmpl-BtxLWDYmVEaedJ7H7pYnoa9lfHzmW', 'service_tier': None, 'finish_reason': 'stop', 'logprobs': None}, id='run--17d03115-171d-4ac3-86b2-caaa5c00b825-0', usage_metadata={'input_tokens': 13, 'output_tokens': 14, 'total_tokens': 27, 'input_token_details': {'audio': 0, 'cache_read': 0}, 'output_token_details': {'audio': 0, 'reasoning': 0}}), HumanMessage(content=' my name is ugundhar and I, also like playing cricker', additional_kwargs={}, response_metadata={}, id='e6bc91f9-6efa-47fb-8312-90af9a88203b'), AIMessage(content=\"Hello, Ugundhar! It's great to hear that you enjoy playing cricket. It's a fantastic sport that requires skill, strategy, and teamwork. Do you play for a team, or do you enjoy playing casually with friends?\", additional_kwargs={}, response_metadata={'finish_reason': 'stop', 'model_name': 'gpt-4o-2024-05-13', 'system_fingerprint': 'fp_ee1d74bde0'}, id='run--71b06b89-f7ef-4cf9-ab56-83ea141a213e'), HumanMessage(content=' my name is ugundhar and I, also like playing cricker', additional_kwargs={}, response_metadata={}, id='644789f2-724a-4a17-ab8b-9d2b2862acd9')]}}, 'name': 'SuperBot', 'tags': ['graph:step:7'], 'run_id': '144f72d6-7830-4d06-95c6-0c77a1d3344e', 'metadata': {'thread_id': '4', 'langgraph_step': 7, 'langgraph_node': 'SuperBot', 'langgraph_triggers': ('branch:to:SuperBot',), 'langgraph_path': ('__pregel_pull', 'SuperBot'), 'langgraph_checkpoint_ns': 'SuperBot:a0a0e692-4a35-f08c-4ab3-fa47e82f99bf'}, 'parent_ids': ['10ad5742-4236-455f-aa0f-f9bb7ae72134']}\n",
      "{'event': 'on_chat_model_start', 'data': {'input': {'messages': [[HumanMessage(content='my name is ugundhar', additional_kwargs={}, response_metadata={}, id='75de72a5-877e-498a-9263-fae7684bb308'), AIMessage(content='Hello, Ugundhar! How can I assist you today?', additional_kwargs={'refusal': None}, response_metadata={'token_usage': {'completion_tokens': 14, 'prompt_tokens': 13, 'total_tokens': 27, 'completion_tokens_details': {'accepted_prediction_tokens': 0, 'audio_tokens': 0, 'reasoning_tokens': 0, 'rejected_prediction_tokens': 0}, 'prompt_tokens_details': {'audio_tokens': 0, 'cached_tokens': 0}}, 'model_name': 'gpt-4o-2024-05-13', 'system_fingerprint': 'fp_ee1d74bde0', 'id': 'chatcmpl-BtxLWDYmVEaedJ7H7pYnoa9lfHzmW', 'service_tier': None, 'finish_reason': 'stop', 'logprobs': None}, id='run--17d03115-171d-4ac3-86b2-caaa5c00b825-0', usage_metadata={'input_tokens': 13, 'output_tokens': 14, 'total_tokens': 27, 'input_token_details': {'audio': 0, 'cache_read': 0}, 'output_token_details': {'audio': 0, 'reasoning': 0}}), HumanMessage(content=' my name is ugundhar and I, also like playing cricker', additional_kwargs={}, response_metadata={}, id='e6bc91f9-6efa-47fb-8312-90af9a88203b'), AIMessage(content=\"Hello, Ugundhar! It's great to hear that you enjoy playing cricket. It's a fantastic sport that requires skill, strategy, and teamwork. Do you play for a team, or do you enjoy playing casually with friends?\", additional_kwargs={}, response_metadata={'finish_reason': 'stop', 'model_name': 'gpt-4o-2024-05-13', 'system_fingerprint': 'fp_ee1d74bde0'}, id='run--71b06b89-f7ef-4cf9-ab56-83ea141a213e'), HumanMessage(content=' my name is ugundhar and I, also like playing cricker', additional_kwargs={}, response_metadata={}, id='644789f2-724a-4a17-ab8b-9d2b2862acd9')]]}}, 'name': 'ChatOpenAI', 'tags': ['seq:step:1'], 'run_id': 'c28bfb95-ef3a-4308-acf6-0a1c3637825a', 'metadata': {'thread_id': '4', 'langgraph_step': 7, 'langgraph_node': 'SuperBot', 'langgraph_triggers': ('branch:to:SuperBot',), 'langgraph_path': ('__pregel_pull', 'SuperBot'), 'langgraph_checkpoint_ns': 'SuperBot:a0a0e692-4a35-f08c-4ab3-fa47e82f99bf', 'checkpoint_ns': 'SuperBot:a0a0e692-4a35-f08c-4ab3-fa47e82f99bf', 'ls_provider': 'openai', 'ls_model_name': 'gpt-4o', 'ls_model_type': 'chat', 'ls_temperature': 0.0}, 'parent_ids': ['10ad5742-4236-455f-aa0f-f9bb7ae72134', '144f72d6-7830-4d06-95c6-0c77a1d3344e']}\n",
      "{'event': 'on_chat_model_stream', 'data': {'chunk': AIMessageChunk(content='', additional_kwargs={}, response_metadata={}, id='run--c28bfb95-ef3a-4308-acf6-0a1c3637825a')}, 'run_id': 'c28bfb95-ef3a-4308-acf6-0a1c3637825a', 'name': 'ChatOpenAI', 'tags': ['seq:step:1'], 'metadata': {'thread_id': '4', 'langgraph_step': 7, 'langgraph_node': 'SuperBot', 'langgraph_triggers': ('branch:to:SuperBot',), 'langgraph_path': ('__pregel_pull', 'SuperBot'), 'langgraph_checkpoint_ns': 'SuperBot:a0a0e692-4a35-f08c-4ab3-fa47e82f99bf', 'checkpoint_ns': 'SuperBot:a0a0e692-4a35-f08c-4ab3-fa47e82f99bf', 'ls_provider': 'openai', 'ls_model_name': 'gpt-4o', 'ls_model_type': 'chat', 'ls_temperature': 0.0}, 'parent_ids': ['10ad5742-4236-455f-aa0f-f9bb7ae72134', '144f72d6-7830-4d06-95c6-0c77a1d3344e']}\n",
      "{'event': 'on_chat_model_stream', 'data': {'chunk': AIMessageChunk(content='', additional_kwargs={}, response_metadata={}, id='run--c28bfb95-ef3a-4308-acf6-0a1c3637825a')}, 'run_id': 'c28bfb95-ef3a-4308-acf6-0a1c3637825a', 'name': 'ChatOpenAI', 'tags': ['seq:step:1'], 'metadata': {'thread_id': '4', 'langgraph_step': 7, 'langgraph_node': 'SuperBot', 'langgraph_triggers': ('branch:to:SuperBot',), 'langgraph_path': ('__pregel_pull', 'SuperBot'), 'langgraph_checkpoint_ns': 'SuperBot:a0a0e692-4a35-f08c-4ab3-fa47e82f99bf', 'checkpoint_ns': 'SuperBot:a0a0e692-4a35-f08c-4ab3-fa47e82f99bf', 'ls_provider': 'openai', 'ls_model_name': 'gpt-4o', 'ls_model_type': 'chat', 'ls_temperature': 0.0}, 'parent_ids': ['10ad5742-4236-455f-aa0f-f9bb7ae72134', '144f72d6-7830-4d06-95c6-0c77a1d3344e']}\n",
      "{'event': 'on_chat_model_stream', 'data': {'chunk': AIMessageChunk(content='Hello', additional_kwargs={}, response_metadata={}, id='run--c28bfb95-ef3a-4308-acf6-0a1c3637825a')}, 'run_id': 'c28bfb95-ef3a-4308-acf6-0a1c3637825a', 'name': 'ChatOpenAI', 'tags': ['seq:step:1'], 'metadata': {'thread_id': '4', 'langgraph_step': 7, 'langgraph_node': 'SuperBot', 'langgraph_triggers': ('branch:to:SuperBot',), 'langgraph_path': ('__pregel_pull', 'SuperBot'), 'langgraph_checkpoint_ns': 'SuperBot:a0a0e692-4a35-f08c-4ab3-fa47e82f99bf', 'checkpoint_ns': 'SuperBot:a0a0e692-4a35-f08c-4ab3-fa47e82f99bf', 'ls_provider': 'openai', 'ls_model_name': 'gpt-4o', 'ls_model_type': 'chat', 'ls_temperature': 0.0}, 'parent_ids': ['10ad5742-4236-455f-aa0f-f9bb7ae72134', '144f72d6-7830-4d06-95c6-0c77a1d3344e']}\n",
      "{'event': 'on_chat_model_stream', 'data': {'chunk': AIMessageChunk(content=',', additional_kwargs={}, response_metadata={}, id='run--c28bfb95-ef3a-4308-acf6-0a1c3637825a')}, 'run_id': 'c28bfb95-ef3a-4308-acf6-0a1c3637825a', 'name': 'ChatOpenAI', 'tags': ['seq:step:1'], 'metadata': {'thread_id': '4', 'langgraph_step': 7, 'langgraph_node': 'SuperBot', 'langgraph_triggers': ('branch:to:SuperBot',), 'langgraph_path': ('__pregel_pull', 'SuperBot'), 'langgraph_checkpoint_ns': 'SuperBot:a0a0e692-4a35-f08c-4ab3-fa47e82f99bf', 'checkpoint_ns': 'SuperBot:a0a0e692-4a35-f08c-4ab3-fa47e82f99bf', 'ls_provider': 'openai', 'ls_model_name': 'gpt-4o', 'ls_model_type': 'chat', 'ls_temperature': 0.0}, 'parent_ids': ['10ad5742-4236-455f-aa0f-f9bb7ae72134', '144f72d6-7830-4d06-95c6-0c77a1d3344e']}\n",
      "{'event': 'on_chat_model_stream', 'data': {'chunk': AIMessageChunk(content=' Ug', additional_kwargs={}, response_metadata={}, id='run--c28bfb95-ef3a-4308-acf6-0a1c3637825a')}, 'run_id': 'c28bfb95-ef3a-4308-acf6-0a1c3637825a', 'name': 'ChatOpenAI', 'tags': ['seq:step:1'], 'metadata': {'thread_id': '4', 'langgraph_step': 7, 'langgraph_node': 'SuperBot', 'langgraph_triggers': ('branch:to:SuperBot',), 'langgraph_path': ('__pregel_pull', 'SuperBot'), 'langgraph_checkpoint_ns': 'SuperBot:a0a0e692-4a35-f08c-4ab3-fa47e82f99bf', 'checkpoint_ns': 'SuperBot:a0a0e692-4a35-f08c-4ab3-fa47e82f99bf', 'ls_provider': 'openai', 'ls_model_name': 'gpt-4o', 'ls_model_type': 'chat', 'ls_temperature': 0.0}, 'parent_ids': ['10ad5742-4236-455f-aa0f-f9bb7ae72134', '144f72d6-7830-4d06-95c6-0c77a1d3344e']}\n",
      "{'event': 'on_chat_model_stream', 'data': {'chunk': AIMessageChunk(content='und', additional_kwargs={}, response_metadata={}, id='run--c28bfb95-ef3a-4308-acf6-0a1c3637825a')}, 'run_id': 'c28bfb95-ef3a-4308-acf6-0a1c3637825a', 'name': 'ChatOpenAI', 'tags': ['seq:step:1'], 'metadata': {'thread_id': '4', 'langgraph_step': 7, 'langgraph_node': 'SuperBot', 'langgraph_triggers': ('branch:to:SuperBot',), 'langgraph_path': ('__pregel_pull', 'SuperBot'), 'langgraph_checkpoint_ns': 'SuperBot:a0a0e692-4a35-f08c-4ab3-fa47e82f99bf', 'checkpoint_ns': 'SuperBot:a0a0e692-4a35-f08c-4ab3-fa47e82f99bf', 'ls_provider': 'openai', 'ls_model_name': 'gpt-4o', 'ls_model_type': 'chat', 'ls_temperature': 0.0}, 'parent_ids': ['10ad5742-4236-455f-aa0f-f9bb7ae72134', '144f72d6-7830-4d06-95c6-0c77a1d3344e']}\n",
      "{'event': 'on_chat_model_stream', 'data': {'chunk': AIMessageChunk(content='har', additional_kwargs={}, response_metadata={}, id='run--c28bfb95-ef3a-4308-acf6-0a1c3637825a')}, 'run_id': 'c28bfb95-ef3a-4308-acf6-0a1c3637825a', 'name': 'ChatOpenAI', 'tags': ['seq:step:1'], 'metadata': {'thread_id': '4', 'langgraph_step': 7, 'langgraph_node': 'SuperBot', 'langgraph_triggers': ('branch:to:SuperBot',), 'langgraph_path': ('__pregel_pull', 'SuperBot'), 'langgraph_checkpoint_ns': 'SuperBot:a0a0e692-4a35-f08c-4ab3-fa47e82f99bf', 'checkpoint_ns': 'SuperBot:a0a0e692-4a35-f08c-4ab3-fa47e82f99bf', 'ls_provider': 'openai', 'ls_model_name': 'gpt-4o', 'ls_model_type': 'chat', 'ls_temperature': 0.0}, 'parent_ids': ['10ad5742-4236-455f-aa0f-f9bb7ae72134', '144f72d6-7830-4d06-95c6-0c77a1d3344e']}\n",
      "{'event': 'on_chat_model_stream', 'data': {'chunk': AIMessageChunk(content='!', additional_kwargs={}, response_metadata={}, id='run--c28bfb95-ef3a-4308-acf6-0a1c3637825a')}, 'run_id': 'c28bfb95-ef3a-4308-acf6-0a1c3637825a', 'name': 'ChatOpenAI', 'tags': ['seq:step:1'], 'metadata': {'thread_id': '4', 'langgraph_step': 7, 'langgraph_node': 'SuperBot', 'langgraph_triggers': ('branch:to:SuperBot',), 'langgraph_path': ('__pregel_pull', 'SuperBot'), 'langgraph_checkpoint_ns': 'SuperBot:a0a0e692-4a35-f08c-4ab3-fa47e82f99bf', 'checkpoint_ns': 'SuperBot:a0a0e692-4a35-f08c-4ab3-fa47e82f99bf', 'ls_provider': 'openai', 'ls_model_name': 'gpt-4o', 'ls_model_type': 'chat', 'ls_temperature': 0.0}, 'parent_ids': ['10ad5742-4236-455f-aa0f-f9bb7ae72134', '144f72d6-7830-4d06-95c6-0c77a1d3344e']}\n",
      "{'event': 'on_chat_model_stream', 'data': {'chunk': AIMessageChunk(content=\" It's\", additional_kwargs={}, response_metadata={}, id='run--c28bfb95-ef3a-4308-acf6-0a1c3637825a')}, 'run_id': 'c28bfb95-ef3a-4308-acf6-0a1c3637825a', 'name': 'ChatOpenAI', 'tags': ['seq:step:1'], 'metadata': {'thread_id': '4', 'langgraph_step': 7, 'langgraph_node': 'SuperBot', 'langgraph_triggers': ('branch:to:SuperBot',), 'langgraph_path': ('__pregel_pull', 'SuperBot'), 'langgraph_checkpoint_ns': 'SuperBot:a0a0e692-4a35-f08c-4ab3-fa47e82f99bf', 'checkpoint_ns': 'SuperBot:a0a0e692-4a35-f08c-4ab3-fa47e82f99bf', 'ls_provider': 'openai', 'ls_model_name': 'gpt-4o', 'ls_model_type': 'chat', 'ls_temperature': 0.0}, 'parent_ids': ['10ad5742-4236-455f-aa0f-f9bb7ae72134', '144f72d6-7830-4d06-95c6-0c77a1d3344e']}\n",
      "{'event': 'on_chat_model_stream', 'data': {'chunk': AIMessageChunk(content=' wonderful', additional_kwargs={}, response_metadata={}, id='run--c28bfb95-ef3a-4308-acf6-0a1c3637825a')}, 'run_id': 'c28bfb95-ef3a-4308-acf6-0a1c3637825a', 'name': 'ChatOpenAI', 'tags': ['seq:step:1'], 'metadata': {'thread_id': '4', 'langgraph_step': 7, 'langgraph_node': 'SuperBot', 'langgraph_triggers': ('branch:to:SuperBot',), 'langgraph_path': ('__pregel_pull', 'SuperBot'), 'langgraph_checkpoint_ns': 'SuperBot:a0a0e692-4a35-f08c-4ab3-fa47e82f99bf', 'checkpoint_ns': 'SuperBot:a0a0e692-4a35-f08c-4ab3-fa47e82f99bf', 'ls_provider': 'openai', 'ls_model_name': 'gpt-4o', 'ls_model_type': 'chat', 'ls_temperature': 0.0}, 'parent_ids': ['10ad5742-4236-455f-aa0f-f9bb7ae72134', '144f72d6-7830-4d06-95c6-0c77a1d3344e']}\n",
      "{'event': 'on_chat_model_stream', 'data': {'chunk': AIMessageChunk(content=' to', additional_kwargs={}, response_metadata={}, id='run--c28bfb95-ef3a-4308-acf6-0a1c3637825a')}, 'run_id': 'c28bfb95-ef3a-4308-acf6-0a1c3637825a', 'name': 'ChatOpenAI', 'tags': ['seq:step:1'], 'metadata': {'thread_id': '4', 'langgraph_step': 7, 'langgraph_node': 'SuperBot', 'langgraph_triggers': ('branch:to:SuperBot',), 'langgraph_path': ('__pregel_pull', 'SuperBot'), 'langgraph_checkpoint_ns': 'SuperBot:a0a0e692-4a35-f08c-4ab3-fa47e82f99bf', 'checkpoint_ns': 'SuperBot:a0a0e692-4a35-f08c-4ab3-fa47e82f99bf', 'ls_provider': 'openai', 'ls_model_name': 'gpt-4o', 'ls_model_type': 'chat', 'ls_temperature': 0.0}, 'parent_ids': ['10ad5742-4236-455f-aa0f-f9bb7ae72134', '144f72d6-7830-4d06-95c6-0c77a1d3344e']}\n",
      "{'event': 'on_chat_model_stream', 'data': {'chunk': AIMessageChunk(content=' hear', additional_kwargs={}, response_metadata={}, id='run--c28bfb95-ef3a-4308-acf6-0a1c3637825a')}, 'run_id': 'c28bfb95-ef3a-4308-acf6-0a1c3637825a', 'name': 'ChatOpenAI', 'tags': ['seq:step:1'], 'metadata': {'thread_id': '4', 'langgraph_step': 7, 'langgraph_node': 'SuperBot', 'langgraph_triggers': ('branch:to:SuperBot',), 'langgraph_path': ('__pregel_pull', 'SuperBot'), 'langgraph_checkpoint_ns': 'SuperBot:a0a0e692-4a35-f08c-4ab3-fa47e82f99bf', 'checkpoint_ns': 'SuperBot:a0a0e692-4a35-f08c-4ab3-fa47e82f99bf', 'ls_provider': 'openai', 'ls_model_name': 'gpt-4o', 'ls_model_type': 'chat', 'ls_temperature': 0.0}, 'parent_ids': ['10ad5742-4236-455f-aa0f-f9bb7ae72134', '144f72d6-7830-4d06-95c6-0c77a1d3344e']}\n",
      "{'event': 'on_chat_model_stream', 'data': {'chunk': AIMessageChunk(content=' that', additional_kwargs={}, response_metadata={}, id='run--c28bfb95-ef3a-4308-acf6-0a1c3637825a')}, 'run_id': 'c28bfb95-ef3a-4308-acf6-0a1c3637825a', 'name': 'ChatOpenAI', 'tags': ['seq:step:1'], 'metadata': {'thread_id': '4', 'langgraph_step': 7, 'langgraph_node': 'SuperBot', 'langgraph_triggers': ('branch:to:SuperBot',), 'langgraph_path': ('__pregel_pull', 'SuperBot'), 'langgraph_checkpoint_ns': 'SuperBot:a0a0e692-4a35-f08c-4ab3-fa47e82f99bf', 'checkpoint_ns': 'SuperBot:a0a0e692-4a35-f08c-4ab3-fa47e82f99bf', 'ls_provider': 'openai', 'ls_model_name': 'gpt-4o', 'ls_model_type': 'chat', 'ls_temperature': 0.0}, 'parent_ids': ['10ad5742-4236-455f-aa0f-f9bb7ae72134', '144f72d6-7830-4d06-95c6-0c77a1d3344e']}\n",
      "{'event': 'on_chat_model_stream', 'data': {'chunk': AIMessageChunk(content=' you', additional_kwargs={}, response_metadata={}, id='run--c28bfb95-ef3a-4308-acf6-0a1c3637825a')}, 'run_id': 'c28bfb95-ef3a-4308-acf6-0a1c3637825a', 'name': 'ChatOpenAI', 'tags': ['seq:step:1'], 'metadata': {'thread_id': '4', 'langgraph_step': 7, 'langgraph_node': 'SuperBot', 'langgraph_triggers': ('branch:to:SuperBot',), 'langgraph_path': ('__pregel_pull', 'SuperBot'), 'langgraph_checkpoint_ns': 'SuperBot:a0a0e692-4a35-f08c-4ab3-fa47e82f99bf', 'checkpoint_ns': 'SuperBot:a0a0e692-4a35-f08c-4ab3-fa47e82f99bf', 'ls_provider': 'openai', 'ls_model_name': 'gpt-4o', 'ls_model_type': 'chat', 'ls_temperature': 0.0}, 'parent_ids': ['10ad5742-4236-455f-aa0f-f9bb7ae72134', '144f72d6-7830-4d06-95c6-0c77a1d3344e']}\n",
      "{'event': 'on_chat_model_stream', 'data': {'chunk': AIMessageChunk(content=' enjoy', additional_kwargs={}, response_metadata={}, id='run--c28bfb95-ef3a-4308-acf6-0a1c3637825a')}, 'run_id': 'c28bfb95-ef3a-4308-acf6-0a1c3637825a', 'name': 'ChatOpenAI', 'tags': ['seq:step:1'], 'metadata': {'thread_id': '4', 'langgraph_step': 7, 'langgraph_node': 'SuperBot', 'langgraph_triggers': ('branch:to:SuperBot',), 'langgraph_path': ('__pregel_pull', 'SuperBot'), 'langgraph_checkpoint_ns': 'SuperBot:a0a0e692-4a35-f08c-4ab3-fa47e82f99bf', 'checkpoint_ns': 'SuperBot:a0a0e692-4a35-f08c-4ab3-fa47e82f99bf', 'ls_provider': 'openai', 'ls_model_name': 'gpt-4o', 'ls_model_type': 'chat', 'ls_temperature': 0.0}, 'parent_ids': ['10ad5742-4236-455f-aa0f-f9bb7ae72134', '144f72d6-7830-4d06-95c6-0c77a1d3344e']}\n",
      "{'event': 'on_chat_model_stream', 'data': {'chunk': AIMessageChunk(content=' playing', additional_kwargs={}, response_metadata={}, id='run--c28bfb95-ef3a-4308-acf6-0a1c3637825a')}, 'run_id': 'c28bfb95-ef3a-4308-acf6-0a1c3637825a', 'name': 'ChatOpenAI', 'tags': ['seq:step:1'], 'metadata': {'thread_id': '4', 'langgraph_step': 7, 'langgraph_node': 'SuperBot', 'langgraph_triggers': ('branch:to:SuperBot',), 'langgraph_path': ('__pregel_pull', 'SuperBot'), 'langgraph_checkpoint_ns': 'SuperBot:a0a0e692-4a35-f08c-4ab3-fa47e82f99bf', 'checkpoint_ns': 'SuperBot:a0a0e692-4a35-f08c-4ab3-fa47e82f99bf', 'ls_provider': 'openai', 'ls_model_name': 'gpt-4o', 'ls_model_type': 'chat', 'ls_temperature': 0.0}, 'parent_ids': ['10ad5742-4236-455f-aa0f-f9bb7ae72134', '144f72d6-7830-4d06-95c6-0c77a1d3344e']}\n",
      "{'event': 'on_chat_model_stream', 'data': {'chunk': AIMessageChunk(content=' cricket', additional_kwargs={}, response_metadata={}, id='run--c28bfb95-ef3a-4308-acf6-0a1c3637825a')}, 'run_id': 'c28bfb95-ef3a-4308-acf6-0a1c3637825a', 'name': 'ChatOpenAI', 'tags': ['seq:step:1'], 'metadata': {'thread_id': '4', 'langgraph_step': 7, 'langgraph_node': 'SuperBot', 'langgraph_triggers': ('branch:to:SuperBot',), 'langgraph_path': ('__pregel_pull', 'SuperBot'), 'langgraph_checkpoint_ns': 'SuperBot:a0a0e692-4a35-f08c-4ab3-fa47e82f99bf', 'checkpoint_ns': 'SuperBot:a0a0e692-4a35-f08c-4ab3-fa47e82f99bf', 'ls_provider': 'openai', 'ls_model_name': 'gpt-4o', 'ls_model_type': 'chat', 'ls_temperature': 0.0}, 'parent_ids': ['10ad5742-4236-455f-aa0f-f9bb7ae72134', '144f72d6-7830-4d06-95c6-0c77a1d3344e']}\n",
      "{'event': 'on_chat_model_stream', 'data': {'chunk': AIMessageChunk(content='.', additional_kwargs={}, response_metadata={}, id='run--c28bfb95-ef3a-4308-acf6-0a1c3637825a')}, 'run_id': 'c28bfb95-ef3a-4308-acf6-0a1c3637825a', 'name': 'ChatOpenAI', 'tags': ['seq:step:1'], 'metadata': {'thread_id': '4', 'langgraph_step': 7, 'langgraph_node': 'SuperBot', 'langgraph_triggers': ('branch:to:SuperBot',), 'langgraph_path': ('__pregel_pull', 'SuperBot'), 'langgraph_checkpoint_ns': 'SuperBot:a0a0e692-4a35-f08c-4ab3-fa47e82f99bf', 'checkpoint_ns': 'SuperBot:a0a0e692-4a35-f08c-4ab3-fa47e82f99bf', 'ls_provider': 'openai', 'ls_model_name': 'gpt-4o', 'ls_model_type': 'chat', 'ls_temperature': 0.0}, 'parent_ids': ['10ad5742-4236-455f-aa0f-f9bb7ae72134', '144f72d6-7830-4d06-95c6-0c77a1d3344e']}\n",
      "{'event': 'on_chat_model_stream', 'data': {'chunk': AIMessageChunk(content=\" It's\", additional_kwargs={}, response_metadata={}, id='run--c28bfb95-ef3a-4308-acf6-0a1c3637825a')}, 'run_id': 'c28bfb95-ef3a-4308-acf6-0a1c3637825a', 'name': 'ChatOpenAI', 'tags': ['seq:step:1'], 'metadata': {'thread_id': '4', 'langgraph_step': 7, 'langgraph_node': 'SuperBot', 'langgraph_triggers': ('branch:to:SuperBot',), 'langgraph_path': ('__pregel_pull', 'SuperBot'), 'langgraph_checkpoint_ns': 'SuperBot:a0a0e692-4a35-f08c-4ab3-fa47e82f99bf', 'checkpoint_ns': 'SuperBot:a0a0e692-4a35-f08c-4ab3-fa47e82f99bf', 'ls_provider': 'openai', 'ls_model_name': 'gpt-4o', 'ls_model_type': 'chat', 'ls_temperature': 0.0}, 'parent_ids': ['10ad5742-4236-455f-aa0f-f9bb7ae72134', '144f72d6-7830-4d06-95c6-0c77a1d3344e']}\n",
      "{'event': 'on_chat_model_stream', 'data': {'chunk': AIMessageChunk(content=' a', additional_kwargs={}, response_metadata={}, id='run--c28bfb95-ef3a-4308-acf6-0a1c3637825a')}, 'run_id': 'c28bfb95-ef3a-4308-acf6-0a1c3637825a', 'name': 'ChatOpenAI', 'tags': ['seq:step:1'], 'metadata': {'thread_id': '4', 'langgraph_step': 7, 'langgraph_node': 'SuperBot', 'langgraph_triggers': ('branch:to:SuperBot',), 'langgraph_path': ('__pregel_pull', 'SuperBot'), 'langgraph_checkpoint_ns': 'SuperBot:a0a0e692-4a35-f08c-4ab3-fa47e82f99bf', 'checkpoint_ns': 'SuperBot:a0a0e692-4a35-f08c-4ab3-fa47e82f99bf', 'ls_provider': 'openai', 'ls_model_name': 'gpt-4o', 'ls_model_type': 'chat', 'ls_temperature': 0.0}, 'parent_ids': ['10ad5742-4236-455f-aa0f-f9bb7ae72134', '144f72d6-7830-4d06-95c6-0c77a1d3344e']}\n",
      "{'event': 'on_chat_model_stream', 'data': {'chunk': AIMessageChunk(content=' sport', additional_kwargs={}, response_metadata={}, id='run--c28bfb95-ef3a-4308-acf6-0a1c3637825a')}, 'run_id': 'c28bfb95-ef3a-4308-acf6-0a1c3637825a', 'name': 'ChatOpenAI', 'tags': ['seq:step:1'], 'metadata': {'thread_id': '4', 'langgraph_step': 7, 'langgraph_node': 'SuperBot', 'langgraph_triggers': ('branch:to:SuperBot',), 'langgraph_path': ('__pregel_pull', 'SuperBot'), 'langgraph_checkpoint_ns': 'SuperBot:a0a0e692-4a35-f08c-4ab3-fa47e82f99bf', 'checkpoint_ns': 'SuperBot:a0a0e692-4a35-f08c-4ab3-fa47e82f99bf', 'ls_provider': 'openai', 'ls_model_name': 'gpt-4o', 'ls_model_type': 'chat', 'ls_temperature': 0.0}, 'parent_ids': ['10ad5742-4236-455f-aa0f-f9bb7ae72134', '144f72d6-7830-4d06-95c6-0c77a1d3344e']}\n",
      "{'event': 'on_chat_model_stream', 'data': {'chunk': AIMessageChunk(content=' that', additional_kwargs={}, response_metadata={}, id='run--c28bfb95-ef3a-4308-acf6-0a1c3637825a')}, 'run_id': 'c28bfb95-ef3a-4308-acf6-0a1c3637825a', 'name': 'ChatOpenAI', 'tags': ['seq:step:1'], 'metadata': {'thread_id': '4', 'langgraph_step': 7, 'langgraph_node': 'SuperBot', 'langgraph_triggers': ('branch:to:SuperBot',), 'langgraph_path': ('__pregel_pull', 'SuperBot'), 'langgraph_checkpoint_ns': 'SuperBot:a0a0e692-4a35-f08c-4ab3-fa47e82f99bf', 'checkpoint_ns': 'SuperBot:a0a0e692-4a35-f08c-4ab3-fa47e82f99bf', 'ls_provider': 'openai', 'ls_model_name': 'gpt-4o', 'ls_model_type': 'chat', 'ls_temperature': 0.0}, 'parent_ids': ['10ad5742-4236-455f-aa0f-f9bb7ae72134', '144f72d6-7830-4d06-95c6-0c77a1d3344e']}\n",
      "{'event': 'on_chat_model_stream', 'data': {'chunk': AIMessageChunk(content=' many', additional_kwargs={}, response_metadata={}, id='run--c28bfb95-ef3a-4308-acf6-0a1c3637825a')}, 'run_id': 'c28bfb95-ef3a-4308-acf6-0a1c3637825a', 'name': 'ChatOpenAI', 'tags': ['seq:step:1'], 'metadata': {'thread_id': '4', 'langgraph_step': 7, 'langgraph_node': 'SuperBot', 'langgraph_triggers': ('branch:to:SuperBot',), 'langgraph_path': ('__pregel_pull', 'SuperBot'), 'langgraph_checkpoint_ns': 'SuperBot:a0a0e692-4a35-f08c-4ab3-fa47e82f99bf', 'checkpoint_ns': 'SuperBot:a0a0e692-4a35-f08c-4ab3-fa47e82f99bf', 'ls_provider': 'openai', 'ls_model_name': 'gpt-4o', 'ls_model_type': 'chat', 'ls_temperature': 0.0}, 'parent_ids': ['10ad5742-4236-455f-aa0f-f9bb7ae72134', '144f72d6-7830-4d06-95c6-0c77a1d3344e']}\n",
      "{'event': 'on_chat_model_stream', 'data': {'chunk': AIMessageChunk(content=' people', additional_kwargs={}, response_metadata={}, id='run--c28bfb95-ef3a-4308-acf6-0a1c3637825a')}, 'run_id': 'c28bfb95-ef3a-4308-acf6-0a1c3637825a', 'name': 'ChatOpenAI', 'tags': ['seq:step:1'], 'metadata': {'thread_id': '4', 'langgraph_step': 7, 'langgraph_node': 'SuperBot', 'langgraph_triggers': ('branch:to:SuperBot',), 'langgraph_path': ('__pregel_pull', 'SuperBot'), 'langgraph_checkpoint_ns': 'SuperBot:a0a0e692-4a35-f08c-4ab3-fa47e82f99bf', 'checkpoint_ns': 'SuperBot:a0a0e692-4a35-f08c-4ab3-fa47e82f99bf', 'ls_provider': 'openai', 'ls_model_name': 'gpt-4o', 'ls_model_type': 'chat', 'ls_temperature': 0.0}, 'parent_ids': ['10ad5742-4236-455f-aa0f-f9bb7ae72134', '144f72d6-7830-4d06-95c6-0c77a1d3344e']}\n",
      "{'event': 'on_chat_model_stream', 'data': {'chunk': AIMessageChunk(content=' around', additional_kwargs={}, response_metadata={}, id='run--c28bfb95-ef3a-4308-acf6-0a1c3637825a')}, 'run_id': 'c28bfb95-ef3a-4308-acf6-0a1c3637825a', 'name': 'ChatOpenAI', 'tags': ['seq:step:1'], 'metadata': {'thread_id': '4', 'langgraph_step': 7, 'langgraph_node': 'SuperBot', 'langgraph_triggers': ('branch:to:SuperBot',), 'langgraph_path': ('__pregel_pull', 'SuperBot'), 'langgraph_checkpoint_ns': 'SuperBot:a0a0e692-4a35-f08c-4ab3-fa47e82f99bf', 'checkpoint_ns': 'SuperBot:a0a0e692-4a35-f08c-4ab3-fa47e82f99bf', 'ls_provider': 'openai', 'ls_model_name': 'gpt-4o', 'ls_model_type': 'chat', 'ls_temperature': 0.0}, 'parent_ids': ['10ad5742-4236-455f-aa0f-f9bb7ae72134', '144f72d6-7830-4d06-95c6-0c77a1d3344e']}\n",
      "{'event': 'on_chat_model_stream', 'data': {'chunk': AIMessageChunk(content=' the', additional_kwargs={}, response_metadata={}, id='run--c28bfb95-ef3a-4308-acf6-0a1c3637825a')}, 'run_id': 'c28bfb95-ef3a-4308-acf6-0a1c3637825a', 'name': 'ChatOpenAI', 'tags': ['seq:step:1'], 'metadata': {'thread_id': '4', 'langgraph_step': 7, 'langgraph_node': 'SuperBot', 'langgraph_triggers': ('branch:to:SuperBot',), 'langgraph_path': ('__pregel_pull', 'SuperBot'), 'langgraph_checkpoint_ns': 'SuperBot:a0a0e692-4a35-f08c-4ab3-fa47e82f99bf', 'checkpoint_ns': 'SuperBot:a0a0e692-4a35-f08c-4ab3-fa47e82f99bf', 'ls_provider': 'openai', 'ls_model_name': 'gpt-4o', 'ls_model_type': 'chat', 'ls_temperature': 0.0}, 'parent_ids': ['10ad5742-4236-455f-aa0f-f9bb7ae72134', '144f72d6-7830-4d06-95c6-0c77a1d3344e']}\n",
      "{'event': 'on_chat_model_stream', 'data': {'chunk': AIMessageChunk(content=' world', additional_kwargs={}, response_metadata={}, id='run--c28bfb95-ef3a-4308-acf6-0a1c3637825a')}, 'run_id': 'c28bfb95-ef3a-4308-acf6-0a1c3637825a', 'name': 'ChatOpenAI', 'tags': ['seq:step:1'], 'metadata': {'thread_id': '4', 'langgraph_step': 7, 'langgraph_node': 'SuperBot', 'langgraph_triggers': ('branch:to:SuperBot',), 'langgraph_path': ('__pregel_pull', 'SuperBot'), 'langgraph_checkpoint_ns': 'SuperBot:a0a0e692-4a35-f08c-4ab3-fa47e82f99bf', 'checkpoint_ns': 'SuperBot:a0a0e692-4a35-f08c-4ab3-fa47e82f99bf', 'ls_provider': 'openai', 'ls_model_name': 'gpt-4o', 'ls_model_type': 'chat', 'ls_temperature': 0.0}, 'parent_ids': ['10ad5742-4236-455f-aa0f-f9bb7ae72134', '144f72d6-7830-4d06-95c6-0c77a1d3344e']}\n",
      "{'event': 'on_chat_model_stream', 'data': {'chunk': AIMessageChunk(content=' love', additional_kwargs={}, response_metadata={}, id='run--c28bfb95-ef3a-4308-acf6-0a1c3637825a')}, 'run_id': 'c28bfb95-ef3a-4308-acf6-0a1c3637825a', 'name': 'ChatOpenAI', 'tags': ['seq:step:1'], 'metadata': {'thread_id': '4', 'langgraph_step': 7, 'langgraph_node': 'SuperBot', 'langgraph_triggers': ('branch:to:SuperBot',), 'langgraph_path': ('__pregel_pull', 'SuperBot'), 'langgraph_checkpoint_ns': 'SuperBot:a0a0e692-4a35-f08c-4ab3-fa47e82f99bf', 'checkpoint_ns': 'SuperBot:a0a0e692-4a35-f08c-4ab3-fa47e82f99bf', 'ls_provider': 'openai', 'ls_model_name': 'gpt-4o', 'ls_model_type': 'chat', 'ls_temperature': 0.0}, 'parent_ids': ['10ad5742-4236-455f-aa0f-f9bb7ae72134', '144f72d6-7830-4d06-95c6-0c77a1d3344e']}\n",
      "{'event': 'on_chat_model_stream', 'data': {'chunk': AIMessageChunk(content='.', additional_kwargs={}, response_metadata={}, id='run--c28bfb95-ef3a-4308-acf6-0a1c3637825a')}, 'run_id': 'c28bfb95-ef3a-4308-acf6-0a1c3637825a', 'name': 'ChatOpenAI', 'tags': ['seq:step:1'], 'metadata': {'thread_id': '4', 'langgraph_step': 7, 'langgraph_node': 'SuperBot', 'langgraph_triggers': ('branch:to:SuperBot',), 'langgraph_path': ('__pregel_pull', 'SuperBot'), 'langgraph_checkpoint_ns': 'SuperBot:a0a0e692-4a35-f08c-4ab3-fa47e82f99bf', 'checkpoint_ns': 'SuperBot:a0a0e692-4a35-f08c-4ab3-fa47e82f99bf', 'ls_provider': 'openai', 'ls_model_name': 'gpt-4o', 'ls_model_type': 'chat', 'ls_temperature': 0.0}, 'parent_ids': ['10ad5742-4236-455f-aa0f-f9bb7ae72134', '144f72d6-7830-4d06-95c6-0c77a1d3344e']}\n",
      "{'event': 'on_chat_model_stream', 'data': {'chunk': AIMessageChunk(content=' Do', additional_kwargs={}, response_metadata={}, id='run--c28bfb95-ef3a-4308-acf6-0a1c3637825a')}, 'run_id': 'c28bfb95-ef3a-4308-acf6-0a1c3637825a', 'name': 'ChatOpenAI', 'tags': ['seq:step:1'], 'metadata': {'thread_id': '4', 'langgraph_step': 7, 'langgraph_node': 'SuperBot', 'langgraph_triggers': ('branch:to:SuperBot',), 'langgraph_path': ('__pregel_pull', 'SuperBot'), 'langgraph_checkpoint_ns': 'SuperBot:a0a0e692-4a35-f08c-4ab3-fa47e82f99bf', 'checkpoint_ns': 'SuperBot:a0a0e692-4a35-f08c-4ab3-fa47e82f99bf', 'ls_provider': 'openai', 'ls_model_name': 'gpt-4o', 'ls_model_type': 'chat', 'ls_temperature': 0.0}, 'parent_ids': ['10ad5742-4236-455f-aa0f-f9bb7ae72134', '144f72d6-7830-4d06-95c6-0c77a1d3344e']}\n",
      "{'event': 'on_chat_model_stream', 'data': {'chunk': AIMessageChunk(content=' you', additional_kwargs={}, response_metadata={}, id='run--c28bfb95-ef3a-4308-acf6-0a1c3637825a')}, 'run_id': 'c28bfb95-ef3a-4308-acf6-0a1c3637825a', 'name': 'ChatOpenAI', 'tags': ['seq:step:1'], 'metadata': {'thread_id': '4', 'langgraph_step': 7, 'langgraph_node': 'SuperBot', 'langgraph_triggers': ('branch:to:SuperBot',), 'langgraph_path': ('__pregel_pull', 'SuperBot'), 'langgraph_checkpoint_ns': 'SuperBot:a0a0e692-4a35-f08c-4ab3-fa47e82f99bf', 'checkpoint_ns': 'SuperBot:a0a0e692-4a35-f08c-4ab3-fa47e82f99bf', 'ls_provider': 'openai', 'ls_model_name': 'gpt-4o', 'ls_model_type': 'chat', 'ls_temperature': 0.0}, 'parent_ids': ['10ad5742-4236-455f-aa0f-f9bb7ae72134', '144f72d6-7830-4d06-95c6-0c77a1d3344e']}\n",
      "{'event': 'on_chat_model_stream', 'data': {'chunk': AIMessageChunk(content=' have', additional_kwargs={}, response_metadata={}, id='run--c28bfb95-ef3a-4308-acf6-0a1c3637825a')}, 'run_id': 'c28bfb95-ef3a-4308-acf6-0a1c3637825a', 'name': 'ChatOpenAI', 'tags': ['seq:step:1'], 'metadata': {'thread_id': '4', 'langgraph_step': 7, 'langgraph_node': 'SuperBot', 'langgraph_triggers': ('branch:to:SuperBot',), 'langgraph_path': ('__pregel_pull', 'SuperBot'), 'langgraph_checkpoint_ns': 'SuperBot:a0a0e692-4a35-f08c-4ab3-fa47e82f99bf', 'checkpoint_ns': 'SuperBot:a0a0e692-4a35-f08c-4ab3-fa47e82f99bf', 'ls_provider': 'openai', 'ls_model_name': 'gpt-4o', 'ls_model_type': 'chat', 'ls_temperature': 0.0}, 'parent_ids': ['10ad5742-4236-455f-aa0f-f9bb7ae72134', '144f72d6-7830-4d06-95c6-0c77a1d3344e']}\n",
      "{'event': 'on_chat_model_stream', 'data': {'chunk': AIMessageChunk(content=' a', additional_kwargs={}, response_metadata={}, id='run--c28bfb95-ef3a-4308-acf6-0a1c3637825a')}, 'run_id': 'c28bfb95-ef3a-4308-acf6-0a1c3637825a', 'name': 'ChatOpenAI', 'tags': ['seq:step:1'], 'metadata': {'thread_id': '4', 'langgraph_step': 7, 'langgraph_node': 'SuperBot', 'langgraph_triggers': ('branch:to:SuperBot',), 'langgraph_path': ('__pregel_pull', 'SuperBot'), 'langgraph_checkpoint_ns': 'SuperBot:a0a0e692-4a35-f08c-4ab3-fa47e82f99bf', 'checkpoint_ns': 'SuperBot:a0a0e692-4a35-f08c-4ab3-fa47e82f99bf', 'ls_provider': 'openai', 'ls_model_name': 'gpt-4o', 'ls_model_type': 'chat', 'ls_temperature': 0.0}, 'parent_ids': ['10ad5742-4236-455f-aa0f-f9bb7ae72134', '144f72d6-7830-4d06-95c6-0c77a1d3344e']}\n",
      "{'event': 'on_chat_model_stream', 'data': {'chunk': AIMessageChunk(content=' favorite', additional_kwargs={}, response_metadata={}, id='run--c28bfb95-ef3a-4308-acf6-0a1c3637825a')}, 'run_id': 'c28bfb95-ef3a-4308-acf6-0a1c3637825a', 'name': 'ChatOpenAI', 'tags': ['seq:step:1'], 'metadata': {'thread_id': '4', 'langgraph_step': 7, 'langgraph_node': 'SuperBot', 'langgraph_triggers': ('branch:to:SuperBot',), 'langgraph_path': ('__pregel_pull', 'SuperBot'), 'langgraph_checkpoint_ns': 'SuperBot:a0a0e692-4a35-f08c-4ab3-fa47e82f99bf', 'checkpoint_ns': 'SuperBot:a0a0e692-4a35-f08c-4ab3-fa47e82f99bf', 'ls_provider': 'openai', 'ls_model_name': 'gpt-4o', 'ls_model_type': 'chat', 'ls_temperature': 0.0}, 'parent_ids': ['10ad5742-4236-455f-aa0f-f9bb7ae72134', '144f72d6-7830-4d06-95c6-0c77a1d3344e']}\n",
      "{'event': 'on_chat_model_stream', 'data': {'chunk': AIMessageChunk(content=' position', additional_kwargs={}, response_metadata={}, id='run--c28bfb95-ef3a-4308-acf6-0a1c3637825a')}, 'run_id': 'c28bfb95-ef3a-4308-acf6-0a1c3637825a', 'name': 'ChatOpenAI', 'tags': ['seq:step:1'], 'metadata': {'thread_id': '4', 'langgraph_step': 7, 'langgraph_node': 'SuperBot', 'langgraph_triggers': ('branch:to:SuperBot',), 'langgraph_path': ('__pregel_pull', 'SuperBot'), 'langgraph_checkpoint_ns': 'SuperBot:a0a0e692-4a35-f08c-4ab3-fa47e82f99bf', 'checkpoint_ns': 'SuperBot:a0a0e692-4a35-f08c-4ab3-fa47e82f99bf', 'ls_provider': 'openai', 'ls_model_name': 'gpt-4o', 'ls_model_type': 'chat', 'ls_temperature': 0.0}, 'parent_ids': ['10ad5742-4236-455f-aa0f-f9bb7ae72134', '144f72d6-7830-4d06-95c6-0c77a1d3344e']}\n",
      "{'event': 'on_chat_model_stream', 'data': {'chunk': AIMessageChunk(content=' or', additional_kwargs={}, response_metadata={}, id='run--c28bfb95-ef3a-4308-acf6-0a1c3637825a')}, 'run_id': 'c28bfb95-ef3a-4308-acf6-0a1c3637825a', 'name': 'ChatOpenAI', 'tags': ['seq:step:1'], 'metadata': {'thread_id': '4', 'langgraph_step': 7, 'langgraph_node': 'SuperBot', 'langgraph_triggers': ('branch:to:SuperBot',), 'langgraph_path': ('__pregel_pull', 'SuperBot'), 'langgraph_checkpoint_ns': 'SuperBot:a0a0e692-4a35-f08c-4ab3-fa47e82f99bf', 'checkpoint_ns': 'SuperBot:a0a0e692-4a35-f08c-4ab3-fa47e82f99bf', 'ls_provider': 'openai', 'ls_model_name': 'gpt-4o', 'ls_model_type': 'chat', 'ls_temperature': 0.0}, 'parent_ids': ['10ad5742-4236-455f-aa0f-f9bb7ae72134', '144f72d6-7830-4d06-95c6-0c77a1d3344e']}\n",
      "{'event': 'on_chat_model_stream', 'data': {'chunk': AIMessageChunk(content=' role', additional_kwargs={}, response_metadata={}, id='run--c28bfb95-ef3a-4308-acf6-0a1c3637825a')}, 'run_id': 'c28bfb95-ef3a-4308-acf6-0a1c3637825a', 'name': 'ChatOpenAI', 'tags': ['seq:step:1'], 'metadata': {'thread_id': '4', 'langgraph_step': 7, 'langgraph_node': 'SuperBot', 'langgraph_triggers': ('branch:to:SuperBot',), 'langgraph_path': ('__pregel_pull', 'SuperBot'), 'langgraph_checkpoint_ns': 'SuperBot:a0a0e692-4a35-f08c-4ab3-fa47e82f99bf', 'checkpoint_ns': 'SuperBot:a0a0e692-4a35-f08c-4ab3-fa47e82f99bf', 'ls_provider': 'openai', 'ls_model_name': 'gpt-4o', 'ls_model_type': 'chat', 'ls_temperature': 0.0}, 'parent_ids': ['10ad5742-4236-455f-aa0f-f9bb7ae72134', '144f72d6-7830-4d06-95c6-0c77a1d3344e']}\n",
      "{'event': 'on_chat_model_stream', 'data': {'chunk': AIMessageChunk(content=' when', additional_kwargs={}, response_metadata={}, id='run--c28bfb95-ef3a-4308-acf6-0a1c3637825a')}, 'run_id': 'c28bfb95-ef3a-4308-acf6-0a1c3637825a', 'name': 'ChatOpenAI', 'tags': ['seq:step:1'], 'metadata': {'thread_id': '4', 'langgraph_step': 7, 'langgraph_node': 'SuperBot', 'langgraph_triggers': ('branch:to:SuperBot',), 'langgraph_path': ('__pregel_pull', 'SuperBot'), 'langgraph_checkpoint_ns': 'SuperBot:a0a0e692-4a35-f08c-4ab3-fa47e82f99bf', 'checkpoint_ns': 'SuperBot:a0a0e692-4a35-f08c-4ab3-fa47e82f99bf', 'ls_provider': 'openai', 'ls_model_name': 'gpt-4o', 'ls_model_type': 'chat', 'ls_temperature': 0.0}, 'parent_ids': ['10ad5742-4236-455f-aa0f-f9bb7ae72134', '144f72d6-7830-4d06-95c6-0c77a1d3344e']}\n",
      "{'event': 'on_chat_model_stream', 'data': {'chunk': AIMessageChunk(content=' you', additional_kwargs={}, response_metadata={}, id='run--c28bfb95-ef3a-4308-acf6-0a1c3637825a')}, 'run_id': 'c28bfb95-ef3a-4308-acf6-0a1c3637825a', 'name': 'ChatOpenAI', 'tags': ['seq:step:1'], 'metadata': {'thread_id': '4', 'langgraph_step': 7, 'langgraph_node': 'SuperBot', 'langgraph_triggers': ('branch:to:SuperBot',), 'langgraph_path': ('__pregel_pull', 'SuperBot'), 'langgraph_checkpoint_ns': 'SuperBot:a0a0e692-4a35-f08c-4ab3-fa47e82f99bf', 'checkpoint_ns': 'SuperBot:a0a0e692-4a35-f08c-4ab3-fa47e82f99bf', 'ls_provider': 'openai', 'ls_model_name': 'gpt-4o', 'ls_model_type': 'chat', 'ls_temperature': 0.0}, 'parent_ids': ['10ad5742-4236-455f-aa0f-f9bb7ae72134', '144f72d6-7830-4d06-95c6-0c77a1d3344e']}\n",
      "{'event': 'on_chat_model_stream', 'data': {'chunk': AIMessageChunk(content=' play', additional_kwargs={}, response_metadata={}, id='run--c28bfb95-ef3a-4308-acf6-0a1c3637825a')}, 'run_id': 'c28bfb95-ef3a-4308-acf6-0a1c3637825a', 'name': 'ChatOpenAI', 'tags': ['seq:step:1'], 'metadata': {'thread_id': '4', 'langgraph_step': 7, 'langgraph_node': 'SuperBot', 'langgraph_triggers': ('branch:to:SuperBot',), 'langgraph_path': ('__pregel_pull', 'SuperBot'), 'langgraph_checkpoint_ns': 'SuperBot:a0a0e692-4a35-f08c-4ab3-fa47e82f99bf', 'checkpoint_ns': 'SuperBot:a0a0e692-4a35-f08c-4ab3-fa47e82f99bf', 'ls_provider': 'openai', 'ls_model_name': 'gpt-4o', 'ls_model_type': 'chat', 'ls_temperature': 0.0}, 'parent_ids': ['10ad5742-4236-455f-aa0f-f9bb7ae72134', '144f72d6-7830-4d06-95c6-0c77a1d3344e']}\n",
      "{'event': 'on_chat_model_stream', 'data': {'chunk': AIMessageChunk(content=',', additional_kwargs={}, response_metadata={}, id='run--c28bfb95-ef3a-4308-acf6-0a1c3637825a')}, 'run_id': 'c28bfb95-ef3a-4308-acf6-0a1c3637825a', 'name': 'ChatOpenAI', 'tags': ['seq:step:1'], 'metadata': {'thread_id': '4', 'langgraph_step': 7, 'langgraph_node': 'SuperBot', 'langgraph_triggers': ('branch:to:SuperBot',), 'langgraph_path': ('__pregel_pull', 'SuperBot'), 'langgraph_checkpoint_ns': 'SuperBot:a0a0e692-4a35-f08c-4ab3-fa47e82f99bf', 'checkpoint_ns': 'SuperBot:a0a0e692-4a35-f08c-4ab3-fa47e82f99bf', 'ls_provider': 'openai', 'ls_model_name': 'gpt-4o', 'ls_model_type': 'chat', 'ls_temperature': 0.0}, 'parent_ids': ['10ad5742-4236-455f-aa0f-f9bb7ae72134', '144f72d6-7830-4d06-95c6-0c77a1d3344e']}\n",
      "{'event': 'on_chat_model_stream', 'data': {'chunk': AIMessageChunk(content=' such', additional_kwargs={}, response_metadata={}, id='run--c28bfb95-ef3a-4308-acf6-0a1c3637825a')}, 'run_id': 'c28bfb95-ef3a-4308-acf6-0a1c3637825a', 'name': 'ChatOpenAI', 'tags': ['seq:step:1'], 'metadata': {'thread_id': '4', 'langgraph_step': 7, 'langgraph_node': 'SuperBot', 'langgraph_triggers': ('branch:to:SuperBot',), 'langgraph_path': ('__pregel_pull', 'SuperBot'), 'langgraph_checkpoint_ns': 'SuperBot:a0a0e692-4a35-f08c-4ab3-fa47e82f99bf', 'checkpoint_ns': 'SuperBot:a0a0e692-4a35-f08c-4ab3-fa47e82f99bf', 'ls_provider': 'openai', 'ls_model_name': 'gpt-4o', 'ls_model_type': 'chat', 'ls_temperature': 0.0}, 'parent_ids': ['10ad5742-4236-455f-aa0f-f9bb7ae72134', '144f72d6-7830-4d06-95c6-0c77a1d3344e']}\n",
      "{'event': 'on_chat_model_stream', 'data': {'chunk': AIMessageChunk(content=' as', additional_kwargs={}, response_metadata={}, id='run--c28bfb95-ef3a-4308-acf6-0a1c3637825a')}, 'run_id': 'c28bfb95-ef3a-4308-acf6-0a1c3637825a', 'name': 'ChatOpenAI', 'tags': ['seq:step:1'], 'metadata': {'thread_id': '4', 'langgraph_step': 7, 'langgraph_node': 'SuperBot', 'langgraph_triggers': ('branch:to:SuperBot',), 'langgraph_path': ('__pregel_pull', 'SuperBot'), 'langgraph_checkpoint_ns': 'SuperBot:a0a0e692-4a35-f08c-4ab3-fa47e82f99bf', 'checkpoint_ns': 'SuperBot:a0a0e692-4a35-f08c-4ab3-fa47e82f99bf', 'ls_provider': 'openai', 'ls_model_name': 'gpt-4o', 'ls_model_type': 'chat', 'ls_temperature': 0.0}, 'parent_ids': ['10ad5742-4236-455f-aa0f-f9bb7ae72134', '144f72d6-7830-4d06-95c6-0c77a1d3344e']}\n",
      "{'event': 'on_chat_model_stream', 'data': {'chunk': AIMessageChunk(content=' batting', additional_kwargs={}, response_metadata={}, id='run--c28bfb95-ef3a-4308-acf6-0a1c3637825a')}, 'run_id': 'c28bfb95-ef3a-4308-acf6-0a1c3637825a', 'name': 'ChatOpenAI', 'tags': ['seq:step:1'], 'metadata': {'thread_id': '4', 'langgraph_step': 7, 'langgraph_node': 'SuperBot', 'langgraph_triggers': ('branch:to:SuperBot',), 'langgraph_path': ('__pregel_pull', 'SuperBot'), 'langgraph_checkpoint_ns': 'SuperBot:a0a0e692-4a35-f08c-4ab3-fa47e82f99bf', 'checkpoint_ns': 'SuperBot:a0a0e692-4a35-f08c-4ab3-fa47e82f99bf', 'ls_provider': 'openai', 'ls_model_name': 'gpt-4o', 'ls_model_type': 'chat', 'ls_temperature': 0.0}, 'parent_ids': ['10ad5742-4236-455f-aa0f-f9bb7ae72134', '144f72d6-7830-4d06-95c6-0c77a1d3344e']}\n",
      "{'event': 'on_chat_model_stream', 'data': {'chunk': AIMessageChunk(content=',', additional_kwargs={}, response_metadata={}, id='run--c28bfb95-ef3a-4308-acf6-0a1c3637825a')}, 'run_id': 'c28bfb95-ef3a-4308-acf6-0a1c3637825a', 'name': 'ChatOpenAI', 'tags': ['seq:step:1'], 'metadata': {'thread_id': '4', 'langgraph_step': 7, 'langgraph_node': 'SuperBot', 'langgraph_triggers': ('branch:to:SuperBot',), 'langgraph_path': ('__pregel_pull', 'SuperBot'), 'langgraph_checkpoint_ns': 'SuperBot:a0a0e692-4a35-f08c-4ab3-fa47e82f99bf', 'checkpoint_ns': 'SuperBot:a0a0e692-4a35-f08c-4ab3-fa47e82f99bf', 'ls_provider': 'openai', 'ls_model_name': 'gpt-4o', 'ls_model_type': 'chat', 'ls_temperature': 0.0}, 'parent_ids': ['10ad5742-4236-455f-aa0f-f9bb7ae72134', '144f72d6-7830-4d06-95c6-0c77a1d3344e']}\n",
      "{'event': 'on_chat_model_stream', 'data': {'chunk': AIMessageChunk(content=' bowling', additional_kwargs={}, response_metadata={}, id='run--c28bfb95-ef3a-4308-acf6-0a1c3637825a')}, 'run_id': 'c28bfb95-ef3a-4308-acf6-0a1c3637825a', 'name': 'ChatOpenAI', 'tags': ['seq:step:1'], 'metadata': {'thread_id': '4', 'langgraph_step': 7, 'langgraph_node': 'SuperBot', 'langgraph_triggers': ('branch:to:SuperBot',), 'langgraph_path': ('__pregel_pull', 'SuperBot'), 'langgraph_checkpoint_ns': 'SuperBot:a0a0e692-4a35-f08c-4ab3-fa47e82f99bf', 'checkpoint_ns': 'SuperBot:a0a0e692-4a35-f08c-4ab3-fa47e82f99bf', 'ls_provider': 'openai', 'ls_model_name': 'gpt-4o', 'ls_model_type': 'chat', 'ls_temperature': 0.0}, 'parent_ids': ['10ad5742-4236-455f-aa0f-f9bb7ae72134', '144f72d6-7830-4d06-95c6-0c77a1d3344e']}\n",
      "{'event': 'on_chat_model_stream', 'data': {'chunk': AIMessageChunk(content=',', additional_kwargs={}, response_metadata={}, id='run--c28bfb95-ef3a-4308-acf6-0a1c3637825a')}, 'run_id': 'c28bfb95-ef3a-4308-acf6-0a1c3637825a', 'name': 'ChatOpenAI', 'tags': ['seq:step:1'], 'metadata': {'thread_id': '4', 'langgraph_step': 7, 'langgraph_node': 'SuperBot', 'langgraph_triggers': ('branch:to:SuperBot',), 'langgraph_path': ('__pregel_pull', 'SuperBot'), 'langgraph_checkpoint_ns': 'SuperBot:a0a0e692-4a35-f08c-4ab3-fa47e82f99bf', 'checkpoint_ns': 'SuperBot:a0a0e692-4a35-f08c-4ab3-fa47e82f99bf', 'ls_provider': 'openai', 'ls_model_name': 'gpt-4o', 'ls_model_type': 'chat', 'ls_temperature': 0.0}, 'parent_ids': ['10ad5742-4236-455f-aa0f-f9bb7ae72134', '144f72d6-7830-4d06-95c6-0c77a1d3344e']}\n",
      "{'event': 'on_chat_model_stream', 'data': {'chunk': AIMessageChunk(content=' or', additional_kwargs={}, response_metadata={}, id='run--c28bfb95-ef3a-4308-acf6-0a1c3637825a')}, 'run_id': 'c28bfb95-ef3a-4308-acf6-0a1c3637825a', 'name': 'ChatOpenAI', 'tags': ['seq:step:1'], 'metadata': {'thread_id': '4', 'langgraph_step': 7, 'langgraph_node': 'SuperBot', 'langgraph_triggers': ('branch:to:SuperBot',), 'langgraph_path': ('__pregel_pull', 'SuperBot'), 'langgraph_checkpoint_ns': 'SuperBot:a0a0e692-4a35-f08c-4ab3-fa47e82f99bf', 'checkpoint_ns': 'SuperBot:a0a0e692-4a35-f08c-4ab3-fa47e82f99bf', 'ls_provider': 'openai', 'ls_model_name': 'gpt-4o', 'ls_model_type': 'chat', 'ls_temperature': 0.0}, 'parent_ids': ['10ad5742-4236-455f-aa0f-f9bb7ae72134', '144f72d6-7830-4d06-95c6-0c77a1d3344e']}\n",
      "{'event': 'on_chat_model_stream', 'data': {'chunk': AIMessageChunk(content=' field', additional_kwargs={}, response_metadata={}, id='run--c28bfb95-ef3a-4308-acf6-0a1c3637825a')}, 'run_id': 'c28bfb95-ef3a-4308-acf6-0a1c3637825a', 'name': 'ChatOpenAI', 'tags': ['seq:step:1'], 'metadata': {'thread_id': '4', 'langgraph_step': 7, 'langgraph_node': 'SuperBot', 'langgraph_triggers': ('branch:to:SuperBot',), 'langgraph_path': ('__pregel_pull', 'SuperBot'), 'langgraph_checkpoint_ns': 'SuperBot:a0a0e692-4a35-f08c-4ab3-fa47e82f99bf', 'checkpoint_ns': 'SuperBot:a0a0e692-4a35-f08c-4ab3-fa47e82f99bf', 'ls_provider': 'openai', 'ls_model_name': 'gpt-4o', 'ls_model_type': 'chat', 'ls_temperature': 0.0}, 'parent_ids': ['10ad5742-4236-455f-aa0f-f9bb7ae72134', '144f72d6-7830-4d06-95c6-0c77a1d3344e']}\n",
      "{'event': 'on_chat_model_stream', 'data': {'chunk': AIMessageChunk(content='ing', additional_kwargs={}, response_metadata={}, id='run--c28bfb95-ef3a-4308-acf6-0a1c3637825a')}, 'run_id': 'c28bfb95-ef3a-4308-acf6-0a1c3637825a', 'name': 'ChatOpenAI', 'tags': ['seq:step:1'], 'metadata': {'thread_id': '4', 'langgraph_step': 7, 'langgraph_node': 'SuperBot', 'langgraph_triggers': ('branch:to:SuperBot',), 'langgraph_path': ('__pregel_pull', 'SuperBot'), 'langgraph_checkpoint_ns': 'SuperBot:a0a0e692-4a35-f08c-4ab3-fa47e82f99bf', 'checkpoint_ns': 'SuperBot:a0a0e692-4a35-f08c-4ab3-fa47e82f99bf', 'ls_provider': 'openai', 'ls_model_name': 'gpt-4o', 'ls_model_type': 'chat', 'ls_temperature': 0.0}, 'parent_ids': ['10ad5742-4236-455f-aa0f-f9bb7ae72134', '144f72d6-7830-4d06-95c6-0c77a1d3344e']}\n",
      "{'event': 'on_chat_model_stream', 'data': {'chunk': AIMessageChunk(content='?', additional_kwargs={}, response_metadata={}, id='run--c28bfb95-ef3a-4308-acf6-0a1c3637825a')}, 'run_id': 'c28bfb95-ef3a-4308-acf6-0a1c3637825a', 'name': 'ChatOpenAI', 'tags': ['seq:step:1'], 'metadata': {'thread_id': '4', 'langgraph_step': 7, 'langgraph_node': 'SuperBot', 'langgraph_triggers': ('branch:to:SuperBot',), 'langgraph_path': ('__pregel_pull', 'SuperBot'), 'langgraph_checkpoint_ns': 'SuperBot:a0a0e692-4a35-f08c-4ab3-fa47e82f99bf', 'checkpoint_ns': 'SuperBot:a0a0e692-4a35-f08c-4ab3-fa47e82f99bf', 'ls_provider': 'openai', 'ls_model_name': 'gpt-4o', 'ls_model_type': 'chat', 'ls_temperature': 0.0}, 'parent_ids': ['10ad5742-4236-455f-aa0f-f9bb7ae72134', '144f72d6-7830-4d06-95c6-0c77a1d3344e']}\n",
      "{'event': 'on_chat_model_stream', 'data': {'chunk': AIMessageChunk(content='', additional_kwargs={}, response_metadata={'finish_reason': 'stop', 'model_name': 'gpt-4o-2024-05-13', 'system_fingerprint': 'fp_ee1d74bde0'}, id='run--c28bfb95-ef3a-4308-acf6-0a1c3637825a')}, 'run_id': 'c28bfb95-ef3a-4308-acf6-0a1c3637825a', 'name': 'ChatOpenAI', 'tags': ['seq:step:1'], 'metadata': {'thread_id': '4', 'langgraph_step': 7, 'langgraph_node': 'SuperBot', 'langgraph_triggers': ('branch:to:SuperBot',), 'langgraph_path': ('__pregel_pull', 'SuperBot'), 'langgraph_checkpoint_ns': 'SuperBot:a0a0e692-4a35-f08c-4ab3-fa47e82f99bf', 'checkpoint_ns': 'SuperBot:a0a0e692-4a35-f08c-4ab3-fa47e82f99bf', 'ls_provider': 'openai', 'ls_model_name': 'gpt-4o', 'ls_model_type': 'chat', 'ls_temperature': 0.0}, 'parent_ids': ['10ad5742-4236-455f-aa0f-f9bb7ae72134', '144f72d6-7830-4d06-95c6-0c77a1d3344e']}\n",
      "{'event': 'on_chat_model_end', 'data': {'output': AIMessage(content=\"Hello, Ugundhar! It's wonderful to hear that you enjoy playing cricket. It's a sport that many people around the world love. Do you have a favorite position or role when you play, such as batting, bowling, or fielding?\", additional_kwargs={}, response_metadata={'finish_reason': 'stop', 'model_name': 'gpt-4o-2024-05-13', 'system_fingerprint': 'fp_ee1d74bde0'}, id='run--c28bfb95-ef3a-4308-acf6-0a1c3637825a'), 'input': {'messages': [[HumanMessage(content='my name is ugundhar', additional_kwargs={}, response_metadata={}, id='75de72a5-877e-498a-9263-fae7684bb308'), AIMessage(content='Hello, Ugundhar! How can I assist you today?', additional_kwargs={'refusal': None}, response_metadata={'token_usage': {'completion_tokens': 14, 'prompt_tokens': 13, 'total_tokens': 27, 'completion_tokens_details': {'accepted_prediction_tokens': 0, 'audio_tokens': 0, 'reasoning_tokens': 0, 'rejected_prediction_tokens': 0}, 'prompt_tokens_details': {'audio_tokens': 0, 'cached_tokens': 0}}, 'model_name': 'gpt-4o-2024-05-13', 'system_fingerprint': 'fp_ee1d74bde0', 'id': 'chatcmpl-BtxLWDYmVEaedJ7H7pYnoa9lfHzmW', 'service_tier': None, 'finish_reason': 'stop', 'logprobs': None}, id='run--17d03115-171d-4ac3-86b2-caaa5c00b825-0', usage_metadata={'input_tokens': 13, 'output_tokens': 14, 'total_tokens': 27, 'input_token_details': {'audio': 0, 'cache_read': 0}, 'output_token_details': {'audio': 0, 'reasoning': 0}}), HumanMessage(content=' my name is ugundhar and I, also like playing cricker', additional_kwargs={}, response_metadata={}, id='e6bc91f9-6efa-47fb-8312-90af9a88203b'), AIMessage(content=\"Hello, Ugundhar! It's great to hear that you enjoy playing cricket. It's a fantastic sport that requires skill, strategy, and teamwork. Do you play for a team, or do you enjoy playing casually with friends?\", additional_kwargs={}, response_metadata={'finish_reason': 'stop', 'model_name': 'gpt-4o-2024-05-13', 'system_fingerprint': 'fp_ee1d74bde0'}, id='run--71b06b89-f7ef-4cf9-ab56-83ea141a213e'), HumanMessage(content=' my name is ugundhar and I, also like playing cricker', additional_kwargs={}, response_metadata={}, id='644789f2-724a-4a17-ab8b-9d2b2862acd9')]]}}, 'run_id': 'c28bfb95-ef3a-4308-acf6-0a1c3637825a', 'name': 'ChatOpenAI', 'tags': ['seq:step:1'], 'metadata': {'thread_id': '4', 'langgraph_step': 7, 'langgraph_node': 'SuperBot', 'langgraph_triggers': ('branch:to:SuperBot',), 'langgraph_path': ('__pregel_pull', 'SuperBot'), 'langgraph_checkpoint_ns': 'SuperBot:a0a0e692-4a35-f08c-4ab3-fa47e82f99bf', 'checkpoint_ns': 'SuperBot:a0a0e692-4a35-f08c-4ab3-fa47e82f99bf', 'ls_provider': 'openai', 'ls_model_name': 'gpt-4o', 'ls_model_type': 'chat', 'ls_temperature': 0.0}, 'parent_ids': ['10ad5742-4236-455f-aa0f-f9bb7ae72134', '144f72d6-7830-4d06-95c6-0c77a1d3344e']}\n",
      "{'event': 'on_chain_stream', 'run_id': '144f72d6-7830-4d06-95c6-0c77a1d3344e', 'name': 'SuperBot', 'tags': ['graph:step:7'], 'metadata': {'thread_id': '4', 'langgraph_step': 7, 'langgraph_node': 'SuperBot', 'langgraph_triggers': ('branch:to:SuperBot',), 'langgraph_path': ('__pregel_pull', 'SuperBot'), 'langgraph_checkpoint_ns': 'SuperBot:a0a0e692-4a35-f08c-4ab3-fa47e82f99bf'}, 'data': {'chunk': {'messages': AIMessage(content=\"Hello, Ugundhar! It's wonderful to hear that you enjoy playing cricket. It's a sport that many people around the world love. Do you have a favorite position or role when you play, such as batting, bowling, or fielding?\", additional_kwargs={}, response_metadata={'finish_reason': 'stop', 'model_name': 'gpt-4o-2024-05-13', 'system_fingerprint': 'fp_ee1d74bde0'}, id='run--c28bfb95-ef3a-4308-acf6-0a1c3637825a')}}, 'parent_ids': ['10ad5742-4236-455f-aa0f-f9bb7ae72134']}\n",
      "{'event': 'on_chain_end', 'data': {'output': {'messages': AIMessage(content=\"Hello, Ugundhar! It's wonderful to hear that you enjoy playing cricket. It's a sport that many people around the world love. Do you have a favorite position or role when you play, such as batting, bowling, or fielding?\", additional_kwargs={}, response_metadata={'finish_reason': 'stop', 'model_name': 'gpt-4o-2024-05-13', 'system_fingerprint': 'fp_ee1d74bde0'}, id='run--c28bfb95-ef3a-4308-acf6-0a1c3637825a')}, 'input': {'messages': [HumanMessage(content='my name is ugundhar', additional_kwargs={}, response_metadata={}, id='75de72a5-877e-498a-9263-fae7684bb308'), AIMessage(content='Hello, Ugundhar! How can I assist you today?', additional_kwargs={'refusal': None}, response_metadata={'token_usage': {'completion_tokens': 14, 'prompt_tokens': 13, 'total_tokens': 27, 'completion_tokens_details': {'accepted_prediction_tokens': 0, 'audio_tokens': 0, 'reasoning_tokens': 0, 'rejected_prediction_tokens': 0}, 'prompt_tokens_details': {'audio_tokens': 0, 'cached_tokens': 0}}, 'model_name': 'gpt-4o-2024-05-13', 'system_fingerprint': 'fp_ee1d74bde0', 'id': 'chatcmpl-BtxLWDYmVEaedJ7H7pYnoa9lfHzmW', 'service_tier': None, 'finish_reason': 'stop', 'logprobs': None}, id='run--17d03115-171d-4ac3-86b2-caaa5c00b825-0', usage_metadata={'input_tokens': 13, 'output_tokens': 14, 'total_tokens': 27, 'input_token_details': {'audio': 0, 'cache_read': 0}, 'output_token_details': {'audio': 0, 'reasoning': 0}}), HumanMessage(content=' my name is ugundhar and I, also like playing cricker', additional_kwargs={}, response_metadata={}, id='e6bc91f9-6efa-47fb-8312-90af9a88203b'), AIMessage(content=\"Hello, Ugundhar! It's great to hear that you enjoy playing cricket. It's a fantastic sport that requires skill, strategy, and teamwork. Do you play for a team, or do you enjoy playing casually with friends?\", additional_kwargs={}, response_metadata={'finish_reason': 'stop', 'model_name': 'gpt-4o-2024-05-13', 'system_fingerprint': 'fp_ee1d74bde0'}, id='run--71b06b89-f7ef-4cf9-ab56-83ea141a213e'), HumanMessage(content=' my name is ugundhar and I, also like playing cricker', additional_kwargs={}, response_metadata={}, id='644789f2-724a-4a17-ab8b-9d2b2862acd9')]}}, 'run_id': '144f72d6-7830-4d06-95c6-0c77a1d3344e', 'name': 'SuperBot', 'tags': ['graph:step:7'], 'metadata': {'thread_id': '4', 'langgraph_step': 7, 'langgraph_node': 'SuperBot', 'langgraph_triggers': ('branch:to:SuperBot',), 'langgraph_path': ('__pregel_pull', 'SuperBot'), 'langgraph_checkpoint_ns': 'SuperBot:a0a0e692-4a35-f08c-4ab3-fa47e82f99bf'}, 'parent_ids': ['10ad5742-4236-455f-aa0f-f9bb7ae72134']}\n",
      "{'event': 'on_chain_stream', 'run_id': '10ad5742-4236-455f-aa0f-f9bb7ae72134', 'name': 'LangGraph', 'tags': [], 'metadata': {'thread_id': '4'}, 'data': {'chunk': {'SuperBot': {'messages': AIMessage(content=\"Hello, Ugundhar! It's wonderful to hear that you enjoy playing cricket. It's a sport that many people around the world love. Do you have a favorite position or role when you play, such as batting, bowling, or fielding?\", additional_kwargs={}, response_metadata={'finish_reason': 'stop', 'model_name': 'gpt-4o-2024-05-13', 'system_fingerprint': 'fp_ee1d74bde0'}, id='run--c28bfb95-ef3a-4308-acf6-0a1c3637825a')}}}, 'parent_ids': []}\n",
      "{'event': 'on_chain_end', 'data': {'output': {'messages': [HumanMessage(content='my name is ugundhar', additional_kwargs={}, response_metadata={}, id='75de72a5-877e-498a-9263-fae7684bb308'), AIMessage(content='Hello, Ugundhar! How can I assist you today?', additional_kwargs={'refusal': None}, response_metadata={'token_usage': {'completion_tokens': 14, 'prompt_tokens': 13, 'total_tokens': 27, 'completion_tokens_details': {'accepted_prediction_tokens': 0, 'audio_tokens': 0, 'reasoning_tokens': 0, 'rejected_prediction_tokens': 0}, 'prompt_tokens_details': {'audio_tokens': 0, 'cached_tokens': 0}}, 'model_name': 'gpt-4o-2024-05-13', 'system_fingerprint': 'fp_ee1d74bde0', 'id': 'chatcmpl-BtxLWDYmVEaedJ7H7pYnoa9lfHzmW', 'service_tier': None, 'finish_reason': 'stop', 'logprobs': None}, id='run--17d03115-171d-4ac3-86b2-caaa5c00b825-0', usage_metadata={'input_tokens': 13, 'output_tokens': 14, 'total_tokens': 27, 'input_token_details': {'audio': 0, 'cache_read': 0}, 'output_token_details': {'audio': 0, 'reasoning': 0}}), HumanMessage(content=' my name is ugundhar and I, also like playing cricker', additional_kwargs={}, response_metadata={}, id='e6bc91f9-6efa-47fb-8312-90af9a88203b'), AIMessage(content=\"Hello, Ugundhar! It's great to hear that you enjoy playing cricket. It's a fantastic sport that requires skill, strategy, and teamwork. Do you play for a team, or do you enjoy playing casually with friends?\", additional_kwargs={}, response_metadata={'finish_reason': 'stop', 'model_name': 'gpt-4o-2024-05-13', 'system_fingerprint': 'fp_ee1d74bde0'}, id='run--71b06b89-f7ef-4cf9-ab56-83ea141a213e'), HumanMessage(content=' my name is ugundhar and I, also like playing cricker', additional_kwargs={}, response_metadata={}, id='644789f2-724a-4a17-ab8b-9d2b2862acd9'), AIMessage(content=\"Hello, Ugundhar! It's wonderful to hear that you enjoy playing cricket. It's a sport that many people around the world love. Do you have a favorite position or role when you play, such as batting, bowling, or fielding?\", additional_kwargs={}, response_metadata={'finish_reason': 'stop', 'model_name': 'gpt-4o-2024-05-13', 'system_fingerprint': 'fp_ee1d74bde0'}, id='run--c28bfb95-ef3a-4308-acf6-0a1c3637825a')]}}, 'run_id': '10ad5742-4236-455f-aa0f-f9bb7ae72134', 'name': 'LangGraph', 'tags': [], 'metadata': {'thread_id': '4'}, 'parent_ids': []}\n"
     ]
    }
   ],
   "source": [
    "config={\"configurable\":{\"thread_id\":\"4\"}}\n",
    "async for chunk in graph_builder.astream_events({\"messages\":\" my name is ugundhar and I, also like playing cricker\"},config=config,version=\"v2\"):\n",
    "    print(chunk)"
   ]
  },
  {
   "cell_type": "code",
   "execution_count": null,
   "id": "fc6f700d",
   "metadata": {},
   "outputs": [],
   "source": []
  }
 ],
 "metadata": {
  "kernelspec": {
   "display_name": "vchatAgentic",
   "language": "python",
   "name": "python3"
  },
  "language_info": {
   "codemirror_mode": {
    "name": "ipython",
    "version": 3
   },
   "file_extension": ".py",
   "mimetype": "text/x-python",
   "name": "python",
   "nbconvert_exporter": "python",
   "pygments_lexer": "ipython3",
   "version": "3.12.10"
  }
 },
 "nbformat": 4,
 "nbformat_minor": 5
}
